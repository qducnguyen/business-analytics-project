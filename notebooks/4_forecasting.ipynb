{
 "cells": [
  {
   "cell_type": "markdown",
   "metadata": {},
   "source": [
    "# Forecasting\n",
    "\n",
    "Get fast, easy model settings (SARIMA) from notebook 3 and predict revenue for all province"
   ]
  },
  {
   "cell_type": "code",
   "execution_count": 1,
   "metadata": {},
   "outputs": [],
   "source": [
    "# Import\n",
    "import warnings\n",
    "warnings.filterwarnings(action='ignore', category=FutureWarning)\n",
    "\n",
    "from pandas.errors import SettingWithCopyWarning\n",
    "warnings.filterwarnings(action='ignore', category=SettingWithCopyWarning)\n",
    "\n",
    "import pandas as pd\n",
    "import numpy as np\n",
    "import pmdarima as pm"
   ]
  },
  {
   "cell_type": "code",
   "execution_count": 2,
   "metadata": {},
   "outputs": [],
   "source": [
    "# Settings\n",
    "DATA_CLEANED_VARIABLE_PATH = \"../data/cleaned_data_variable.csv\"\n",
    "DATA_CLEANED_PATH = \"../data/cleaned_data.csv\"\n",
    "THAI_COVID_RAW_DATA_PATH = \"../raw_data/data_thai_covid_case.xlsx\"\n",
    "DATA_VARIABLE_OUTPUT_PATH = \"../data/forecast_data_variable.csv\"\n",
    "DATA_OUTPUT_PATH = \"../data/forecast_data.csv\"\n",
    "FORECASTING_MONTH = 12"
   ]
  },
  {
   "cell_type": "code",
   "execution_count": 3,
   "metadata": {},
   "outputs": [],
   "source": [
    "data_tourism = pd.read_csv(DATA_CLEANED_PATH)\n",
    "data_tourism[\"date\"] = pd.to_datetime(data_tourism[\"date\"])\n",
    "# Our problem is about sales, so in this notebook, we focus on revenue_all\n",
    "data_tourism_revenue_all  = data_tourism[[\"date\", \"province\", \"region\", \"revenue_all\"]]\n",
    "## divide by 1e6 \n",
    "data_tourism_revenue_all[\"revenue_all\"]  = data_tourism_revenue_all[\"revenue_all\"].astype(np.float64) / 1e6\n",
    "thai_revenue_all = data_tourism_revenue_all.groupby([\"date\", \"province\", \"region\"]).sum(\"revenue_all\").reset_index()"
   ]
  },
  {
   "cell_type": "code",
   "execution_count": 4,
   "metadata": {},
   "outputs": [
    {
     "data": {
      "text/html": [
       "<div>\n",
       "<style scoped>\n",
       "    .dataframe tbody tr th:only-of-type {\n",
       "        vertical-align: middle;\n",
       "    }\n",
       "\n",
       "    .dataframe tbody tr th {\n",
       "        vertical-align: top;\n",
       "    }\n",
       "\n",
       "    .dataframe thead th {\n",
       "        text-align: right;\n",
       "    }\n",
       "</style>\n",
       "<table border=\"1\" class=\"dataframe\">\n",
       "  <thead>\n",
       "    <tr style=\"text-align: right;\">\n",
       "      <th></th>\n",
       "      <th>date</th>\n",
       "      <th>province</th>\n",
       "      <th>region</th>\n",
       "      <th>revenue_all</th>\n",
       "    </tr>\n",
       "  </thead>\n",
       "  <tbody>\n",
       "    <tr>\n",
       "      <th>0</th>\n",
       "      <td>2019-01-01</td>\n",
       "      <td>Amnat Charoen</td>\n",
       "      <td>east_northeast</td>\n",
       "      <td>34.510000</td>\n",
       "    </tr>\n",
       "    <tr>\n",
       "      <th>1</th>\n",
       "      <td>2019-01-01</td>\n",
       "      <td>Ang Thong</td>\n",
       "      <td>central</td>\n",
       "      <td>132.070000</td>\n",
       "    </tr>\n",
       "    <tr>\n",
       "      <th>2</th>\n",
       "      <td>2019-01-01</td>\n",
       "      <td>Bangkok Metropolis</td>\n",
       "      <td>central</td>\n",
       "      <td>81926.490000</td>\n",
       "    </tr>\n",
       "    <tr>\n",
       "      <th>3</th>\n",
       "      <td>2019-01-01</td>\n",
       "      <td>Bueng Kan</td>\n",
       "      <td>east_northeast</td>\n",
       "      <td>137.810000</td>\n",
       "    </tr>\n",
       "    <tr>\n",
       "      <th>4</th>\n",
       "      <td>2019-01-01</td>\n",
       "      <td>Buri Ram</td>\n",
       "      <td>east_northeast</td>\n",
       "      <td>364.160000</td>\n",
       "    </tr>\n",
       "    <tr>\n",
       "      <th>...</th>\n",
       "      <td>...</td>\n",
       "      <td>...</td>\n",
       "      <td>...</td>\n",
       "      <td>...</td>\n",
       "    </tr>\n",
       "    <tr>\n",
       "      <th>4461</th>\n",
       "      <td>2023-10-01</td>\n",
       "      <td>Udon Thani</td>\n",
       "      <td>east_northeast</td>\n",
       "      <td>873.069999</td>\n",
       "    </tr>\n",
       "    <tr>\n",
       "      <th>4462</th>\n",
       "      <td>2023-10-01</td>\n",
       "      <td>Uthai Thani</td>\n",
       "      <td>north</td>\n",
       "      <td>144.190000</td>\n",
       "    </tr>\n",
       "    <tr>\n",
       "      <th>4463</th>\n",
       "      <td>2023-10-01</td>\n",
       "      <td>Uttaradit</td>\n",
       "      <td>north</td>\n",
       "      <td>147.760000</td>\n",
       "    </tr>\n",
       "    <tr>\n",
       "      <th>4464</th>\n",
       "      <td>2023-10-01</td>\n",
       "      <td>Yala</td>\n",
       "      <td>south</td>\n",
       "      <td>338.720000</td>\n",
       "    </tr>\n",
       "    <tr>\n",
       "      <th>4465</th>\n",
       "      <td>2023-10-01</td>\n",
       "      <td>Yasothon</td>\n",
       "      <td>east_northeast</td>\n",
       "      <td>40.490000</td>\n",
       "    </tr>\n",
       "  </tbody>\n",
       "</table>\n",
       "<p>4466 rows × 4 columns</p>\n",
       "</div>"
      ],
      "text/plain": [
       "           date            province          region   revenue_all\n",
       "0    2019-01-01       Amnat Charoen  east_northeast     34.510000\n",
       "1    2019-01-01           Ang Thong         central    132.070000\n",
       "2    2019-01-01  Bangkok Metropolis         central  81926.490000\n",
       "3    2019-01-01           Bueng Kan  east_northeast    137.810000\n",
       "4    2019-01-01            Buri Ram  east_northeast    364.160000\n",
       "...         ...                 ...             ...           ...\n",
       "4461 2023-10-01          Udon Thani  east_northeast    873.069999\n",
       "4462 2023-10-01         Uthai Thani           north    144.190000\n",
       "4463 2023-10-01           Uttaradit           north    147.760000\n",
       "4464 2023-10-01                Yala           south    338.720000\n",
       "4465 2023-10-01            Yasothon  east_northeast     40.490000\n",
       "\n",
       "[4466 rows x 4 columns]"
      ]
     },
     "execution_count": 4,
     "metadata": {},
     "output_type": "execute_result"
    }
   ],
   "source": [
    "thai_revenue_all"
   ]
  },
  {
   "cell_type": "code",
   "execution_count": 5,
   "metadata": {},
   "outputs": [],
   "source": [
    "map_province_to_region = {}\n",
    "for index, row in thai_revenue_all.iterrows():\n",
    "    map_province_to_region[row[\"province\"]] = row[\"region\"]"
   ]
  },
  {
   "cell_type": "markdown",
   "metadata": {},
   "source": [
    "## SARIMA"
   ]
  },
  {
   "cell_type": "code",
   "execution_count": 6,
   "metadata": {},
   "outputs": [
    {
     "name": "stdout",
     "output_type": "stream",
     "text": [
      "Forecasting Amnat Charoen ....\n",
      "Forecasting Ang Thong ....\n",
      "Forecasting Bangkok Metropolis ....\n",
      "Forecasting Bueng Kan ....\n",
      "Forecasting Buri Ram ....\n",
      "Forecasting Chachoengsao ....\n",
      "Forecasting Chai Nat ....\n",
      "Forecasting Chaiyaphum ....\n",
      "Forecasting Chanthaburi ....\n",
      "Forecasting Chiang Mai ....\n",
      "Forecasting Chiang Rai ....\n",
      "Forecasting Chon Buri ....\n",
      "Forecasting Chumphon ....\n",
      "Forecasting Kalasin ....\n",
      "Forecasting Kamphaeng Phet ....\n",
      "Forecasting Kanchanaburi ....\n",
      "Forecasting Khon Kaen ....\n",
      "Forecasting Krabi ....\n",
      "Forecasting Lampang ....\n",
      "Forecasting Lamphun ....\n",
      "Forecasting Loei ....\n",
      "Forecasting Lop Buri ....\n",
      "Forecasting Mae Hong Son ....\n",
      "Forecasting Maha Sarakham ....\n",
      "Forecasting Mukdahan ....\n",
      "Forecasting Nakhon Nayok ....\n",
      "Forecasting Nakhon Pathom ....\n",
      "Forecasting Nakhon Phanom ....\n",
      "Forecasting Nakhon Ratchasima ....\n",
      "Forecasting Nakhon Sawan ....\n",
      "Forecasting Nakhon Si Thammarat ....\n",
      "Forecasting Nan ....\n",
      "Forecasting Narathiwat ....\n",
      "Forecasting Nong Bua Lam Phu ....\n",
      "Forecasting Nong Khai ....\n",
      "Forecasting Nonthaburi ....\n",
      "Forecasting Pathum Thani ....\n",
      "Forecasting Pattani ....\n",
      "Forecasting Phangnga ....\n",
      "Forecasting Phatthalung ....\n",
      "Forecasting Phayao ....\n",
      "Forecasting Phetchabun ....\n",
      "Forecasting Phetchaburi ....\n",
      "Forecasting Phichit ....\n",
      "Forecasting Phitsanulok ....\n",
      "Forecasting Phra Nakhon Si Ayutthaya ....\n",
      "Forecasting Phrae ....\n",
      "Forecasting Phuket ....\n",
      "Forecasting Prachin Buri ....\n",
      "Forecasting Prachuap Khiri Khan ....\n",
      "Forecasting Ranong ....\n",
      "Forecasting Ratchaburi ....\n",
      "Forecasting Rayong ....\n",
      "Forecasting Roi Et ....\n",
      "Forecasting Sa Kaeo ....\n",
      "Forecasting Sakon Nakhon ....\n",
      "Forecasting Samut Prakan ....\n",
      "Forecasting Samut Sakhon ....\n",
      "Forecasting Samut Songkhram ....\n",
      "Forecasting Saraburi ....\n",
      "Forecasting Satun ....\n",
      "Forecasting Si Sa Ket ....\n",
      "Forecasting Sing Buri ....\n",
      "Forecasting Songkhla ....\n",
      "Forecasting Sukhothai ....\n",
      "Forecasting Suphan Buri ....\n",
      "Forecasting Surat Thani ....\n",
      "Forecasting Surin ....\n",
      "Forecasting Tak ....\n",
      "Forecasting Trang ....\n",
      "Forecasting Trat ....\n",
      "Forecasting Ubon Ratchathani ....\n",
      "Forecasting Udon Thani ....\n",
      "Forecasting Uthai Thani ....\n",
      "Forecasting Uttaradit ....\n",
      "Forecasting Yala ....\n",
      "Forecasting Yasothon ....\n"
     ]
    }
   ],
   "source": [
    "result = []\n",
    "result_variable = []\n",
    "\n",
    "for province, region in map_province_to_region.items():\n",
    "    print(f\"Forecasting {province} ....\")\n",
    "    thai_revenue_all_province = thai_revenue_all[thai_revenue_all[\"province\"] == province].sort_values(by=\"date\").reset_index(drop=True)\n",
    "    train_data = thai_revenue_all_province.set_index(\"date\")\n",
    "\n",
    "    SARIMAModel = pm.auto_arima(\n",
    "                            train_data[\"revenue_all\"],\n",
    "                            start_p=0,\n",
    "                            start_q=0, \n",
    "                            test= \"adf\",  # use adftest to find optimal 'd'\n",
    "                            max_p=3,\n",
    "                            max_q=3,\n",
    "                            m=12,\n",
    "                            start_P=0,\n",
    "                            seasonal=True,\n",
    "                            D=1,\n",
    "                            alpha=0.05,\n",
    "                            trace=False,\n",
    "                            suppress_warnings=True,\n",
    "                            stepwise=True)\n",
    "\n",
    "    forecast, forecast_int = SARIMAModel.predict(n_periods=FORECASTING_MONTH, \n",
    "                                      return_conf_int=True,\n",
    "                                      alpha=0.05)\n",
    "        \n",
    "    for idx, data_sample in enumerate(forecast.iteritems()):\n",
    "        lower_bound, upper_bound = forecast_int[idx]\n",
    "        change_ratio = np.abs((upper_bound - data_sample[1]) / data_sample[1])  \n",
    "        result.append([data_sample[0], province, region, data_sample[1] * 1e6, lower_bound * 1e6, upper_bound * 1e6, change_ratio])\n",
    "        result_variable.append([data_sample[0], province, region, \"revenue_all_forecast\", data_sample[1] * 1e6])\n",
    "        result_variable.append([data_sample[0], province, region, \"revenue_all_forecast_lower\", lower_bound * 1e6])\n",
    "        result_variable.append([data_sample[0], province, region, \"revenue_all_forecast_upper\", upper_bound * 1e6])\n",
    "        result_variable.append([data_sample[0], province, region, \"revenue_all_forecast_change_ratio\", change_ratio])"
   ]
  },
  {
   "cell_type": "code",
   "execution_count": 7,
   "metadata": {},
   "outputs": [
    {
     "data": {
      "text/html": [
       "<div>\n",
       "<style scoped>\n",
       "    .dataframe tbody tr th:only-of-type {\n",
       "        vertical-align: middle;\n",
       "    }\n",
       "\n",
       "    .dataframe tbody tr th {\n",
       "        vertical-align: top;\n",
       "    }\n",
       "\n",
       "    .dataframe thead th {\n",
       "        text-align: right;\n",
       "    }\n",
       "</style>\n",
       "<table border=\"1\" class=\"dataframe\">\n",
       "  <thead>\n",
       "    <tr style=\"text-align: right;\">\n",
       "      <th></th>\n",
       "      <th>date</th>\n",
       "      <th>province</th>\n",
       "      <th>region</th>\n",
       "      <th>variable</th>\n",
       "      <th>value</th>\n",
       "      <th>model</th>\n",
       "    </tr>\n",
       "  </thead>\n",
       "  <tbody>\n",
       "    <tr>\n",
       "      <th>0</th>\n",
       "      <td>2023-11-01</td>\n",
       "      <td>Amnat Charoen</td>\n",
       "      <td>east_northeast</td>\n",
       "      <td>revenue_all_forecast</td>\n",
       "      <td>2.428000e+07</td>\n",
       "      <td>SARIMA</td>\n",
       "    </tr>\n",
       "    <tr>\n",
       "      <th>1</th>\n",
       "      <td>2023-11-01</td>\n",
       "      <td>Amnat Charoen</td>\n",
       "      <td>east_northeast</td>\n",
       "      <td>revenue_all_forecast_lower</td>\n",
       "      <td>5.517082e+06</td>\n",
       "      <td>SARIMA</td>\n",
       "    </tr>\n",
       "    <tr>\n",
       "      <th>2</th>\n",
       "      <td>2023-11-01</td>\n",
       "      <td>Amnat Charoen</td>\n",
       "      <td>east_northeast</td>\n",
       "      <td>revenue_all_forecast_upper</td>\n",
       "      <td>4.304292e+07</td>\n",
       "      <td>SARIMA</td>\n",
       "    </tr>\n",
       "    <tr>\n",
       "      <th>3</th>\n",
       "      <td>2023-11-01</td>\n",
       "      <td>Amnat Charoen</td>\n",
       "      <td>east_northeast</td>\n",
       "      <td>revenue_all_forecast_change_ratio</td>\n",
       "      <td>7.727726e-01</td>\n",
       "      <td>SARIMA</td>\n",
       "    </tr>\n",
       "    <tr>\n",
       "      <th>4</th>\n",
       "      <td>2023-12-01</td>\n",
       "      <td>Amnat Charoen</td>\n",
       "      <td>east_northeast</td>\n",
       "      <td>revenue_all_forecast</td>\n",
       "      <td>2.694000e+07</td>\n",
       "      <td>SARIMA</td>\n",
       "    </tr>\n",
       "    <tr>\n",
       "      <th>...</th>\n",
       "      <td>...</td>\n",
       "      <td>...</td>\n",
       "      <td>...</td>\n",
       "      <td>...</td>\n",
       "      <td>...</td>\n",
       "      <td>...</td>\n",
       "    </tr>\n",
       "    <tr>\n",
       "      <th>3691</th>\n",
       "      <td>2024-09-01</td>\n",
       "      <td>Yasothon</td>\n",
       "      <td>east_northeast</td>\n",
       "      <td>revenue_all_forecast_change_ratio</td>\n",
       "      <td>1.706299e+00</td>\n",
       "      <td>SARIMA</td>\n",
       "    </tr>\n",
       "    <tr>\n",
       "      <th>3692</th>\n",
       "      <td>2024-10-01</td>\n",
       "      <td>Yasothon</td>\n",
       "      <td>east_northeast</td>\n",
       "      <td>revenue_all_forecast</td>\n",
       "      <td>5.934310e+07</td>\n",
       "      <td>SARIMA</td>\n",
       "    </tr>\n",
       "    <tr>\n",
       "      <th>3693</th>\n",
       "      <td>2024-10-01</td>\n",
       "      <td>Yasothon</td>\n",
       "      <td>east_northeast</td>\n",
       "      <td>revenue_all_forecast_lower</td>\n",
       "      <td>-4.659899e+07</td>\n",
       "      <td>SARIMA</td>\n",
       "    </tr>\n",
       "    <tr>\n",
       "      <th>3694</th>\n",
       "      <td>2024-10-01</td>\n",
       "      <td>Yasothon</td>\n",
       "      <td>east_northeast</td>\n",
       "      <td>revenue_all_forecast_upper</td>\n",
       "      <td>1.652852e+08</td>\n",
       "      <td>SARIMA</td>\n",
       "    </tr>\n",
       "    <tr>\n",
       "      <th>3695</th>\n",
       "      <td>2024-10-01</td>\n",
       "      <td>Yasothon</td>\n",
       "      <td>east_northeast</td>\n",
       "      <td>revenue_all_forecast_change_ratio</td>\n",
       "      <td>1.785247e+00</td>\n",
       "      <td>SARIMA</td>\n",
       "    </tr>\n",
       "  </tbody>\n",
       "</table>\n",
       "<p>3696 rows × 6 columns</p>\n",
       "</div>"
      ],
      "text/plain": [
       "           date       province          region  \\\n",
       "0    2023-11-01  Amnat Charoen  east_northeast   \n",
       "1    2023-11-01  Amnat Charoen  east_northeast   \n",
       "2    2023-11-01  Amnat Charoen  east_northeast   \n",
       "3    2023-11-01  Amnat Charoen  east_northeast   \n",
       "4    2023-12-01  Amnat Charoen  east_northeast   \n",
       "...         ...            ...             ...   \n",
       "3691 2024-09-01       Yasothon  east_northeast   \n",
       "3692 2024-10-01       Yasothon  east_northeast   \n",
       "3693 2024-10-01       Yasothon  east_northeast   \n",
       "3694 2024-10-01       Yasothon  east_northeast   \n",
       "3695 2024-10-01       Yasothon  east_northeast   \n",
       "\n",
       "                               variable         value   model  \n",
       "0                  revenue_all_forecast  2.428000e+07  SARIMA  \n",
       "1            revenue_all_forecast_lower  5.517082e+06  SARIMA  \n",
       "2            revenue_all_forecast_upper  4.304292e+07  SARIMA  \n",
       "3     revenue_all_forecast_change_ratio  7.727726e-01  SARIMA  \n",
       "4                  revenue_all_forecast  2.694000e+07  SARIMA  \n",
       "...                                 ...           ...     ...  \n",
       "3691  revenue_all_forecast_change_ratio  1.706299e+00  SARIMA  \n",
       "3692               revenue_all_forecast  5.934310e+07  SARIMA  \n",
       "3693         revenue_all_forecast_lower -4.659899e+07  SARIMA  \n",
       "3694         revenue_all_forecast_upper  1.652852e+08  SARIMA  \n",
       "3695  revenue_all_forecast_change_ratio  1.785247e+00  SARIMA  \n",
       "\n",
       "[3696 rows x 6 columns]"
      ]
     },
     "execution_count": 7,
     "metadata": {},
     "output_type": "execute_result"
    }
   ],
   "source": [
    "df_result_variable = pd.DataFrame(result_variable, columns=[\"date\", \"province\", \"region\", \"variable\", \"value\"])\n",
    "df_result_variable[\"model\"] = \"SARIMA\"\n",
    "df_result_variable"
   ]
  },
  {
   "cell_type": "code",
   "execution_count": 8,
   "metadata": {},
   "outputs": [
    {
     "data": {
      "text/html": [
       "<div>\n",
       "<style scoped>\n",
       "    .dataframe tbody tr th:only-of-type {\n",
       "        vertical-align: middle;\n",
       "    }\n",
       "\n",
       "    .dataframe tbody tr th {\n",
       "        vertical-align: top;\n",
       "    }\n",
       "\n",
       "    .dataframe thead th {\n",
       "        text-align: right;\n",
       "    }\n",
       "</style>\n",
       "<table border=\"1\" class=\"dataframe\">\n",
       "  <thead>\n",
       "    <tr style=\"text-align: right;\">\n",
       "      <th></th>\n",
       "      <th>date</th>\n",
       "      <th>province</th>\n",
       "      <th>region</th>\n",
       "      <th>revenue_all_forecast</th>\n",
       "      <th>revenue_all_forecast_lower</th>\n",
       "      <th>revenue_all_forecast_upper</th>\n",
       "      <th>revenue_all_forecast_change_ratio</th>\n",
       "      <th>model</th>\n",
       "    </tr>\n",
       "  </thead>\n",
       "  <tbody>\n",
       "    <tr>\n",
       "      <th>0</th>\n",
       "      <td>2023-11-01</td>\n",
       "      <td>Amnat Charoen</td>\n",
       "      <td>east_northeast</td>\n",
       "      <td>2.428000e+07</td>\n",
       "      <td>5.517082e+06</td>\n",
       "      <td>4.304292e+07</td>\n",
       "      <td>0.772773</td>\n",
       "      <td>SARIMA</td>\n",
       "    </tr>\n",
       "    <tr>\n",
       "      <th>1</th>\n",
       "      <td>2023-12-01</td>\n",
       "      <td>Amnat Charoen</td>\n",
       "      <td>east_northeast</td>\n",
       "      <td>2.694000e+07</td>\n",
       "      <td>4.052273e+05</td>\n",
       "      <td>5.347477e+07</td>\n",
       "      <td>0.984958</td>\n",
       "      <td>SARIMA</td>\n",
       "    </tr>\n",
       "    <tr>\n",
       "      <th>2</th>\n",
       "      <td>2024-01-01</td>\n",
       "      <td>Amnat Charoen</td>\n",
       "      <td>east_northeast</td>\n",
       "      <td>2.824000e+07</td>\n",
       "      <td>-4.258327e+06</td>\n",
       "      <td>6.073833e+07</td>\n",
       "      <td>1.150791</td>\n",
       "      <td>SARIMA</td>\n",
       "    </tr>\n",
       "    <tr>\n",
       "      <th>3</th>\n",
       "      <td>2024-02-01</td>\n",
       "      <td>Amnat Charoen</td>\n",
       "      <td>east_northeast</td>\n",
       "      <td>2.598000e+07</td>\n",
       "      <td>-1.154584e+07</td>\n",
       "      <td>6.350584e+07</td>\n",
       "      <td>1.444412</td>\n",
       "      <td>SARIMA</td>\n",
       "    </tr>\n",
       "    <tr>\n",
       "      <th>4</th>\n",
       "      <td>2024-03-01</td>\n",
       "      <td>Amnat Charoen</td>\n",
       "      <td>east_northeast</td>\n",
       "      <td>2.342000e+07</td>\n",
       "      <td>-1.853516e+07</td>\n",
       "      <td>6.537516e+07</td>\n",
       "      <td>1.791424</td>\n",
       "      <td>SARIMA</td>\n",
       "    </tr>\n",
       "    <tr>\n",
       "      <th>...</th>\n",
       "      <td>...</td>\n",
       "      <td>...</td>\n",
       "      <td>...</td>\n",
       "      <td>...</td>\n",
       "      <td>...</td>\n",
       "      <td>...</td>\n",
       "      <td>...</td>\n",
       "      <td>...</td>\n",
       "    </tr>\n",
       "    <tr>\n",
       "      <th>919</th>\n",
       "      <td>2024-06-01</td>\n",
       "      <td>Yasothon</td>\n",
       "      <td>east_northeast</td>\n",
       "      <td>6.336960e+07</td>\n",
       "      <td>-2.471556e+07</td>\n",
       "      <td>1.514548e+08</td>\n",
       "      <td>1.390022</td>\n",
       "      <td>SARIMA</td>\n",
       "    </tr>\n",
       "    <tr>\n",
       "      <th>920</th>\n",
       "      <td>2024-07-01</td>\n",
       "      <td>Yasothon</td>\n",
       "      <td>east_northeast</td>\n",
       "      <td>6.180383e+07</td>\n",
       "      <td>-3.106442e+07</td>\n",
       "      <td>1.546721e+08</td>\n",
       "      <td>1.502629</td>\n",
       "      <td>SARIMA</td>\n",
       "    </tr>\n",
       "    <tr>\n",
       "      <th>921</th>\n",
       "      <td>2024-08-01</td>\n",
       "      <td>Yasothon</td>\n",
       "      <td>east_northeast</td>\n",
       "      <td>6.119584e+07</td>\n",
       "      <td>-3.617571e+07</td>\n",
       "      <td>1.585674e+08</td>\n",
       "      <td>1.591147</td>\n",
       "      <td>SARIMA</td>\n",
       "    </tr>\n",
       "    <tr>\n",
       "      <th>922</th>\n",
       "      <td>2024-09-01</td>\n",
       "      <td>Yasothon</td>\n",
       "      <td>east_northeast</td>\n",
       "      <td>5.961885e+07</td>\n",
       "      <td>-4.210876e+07</td>\n",
       "      <td>1.613465e+08</td>\n",
       "      <td>1.706299</td>\n",
       "      <td>SARIMA</td>\n",
       "    </tr>\n",
       "    <tr>\n",
       "      <th>923</th>\n",
       "      <td>2024-10-01</td>\n",
       "      <td>Yasothon</td>\n",
       "      <td>east_northeast</td>\n",
       "      <td>5.934310e+07</td>\n",
       "      <td>-4.659899e+07</td>\n",
       "      <td>1.652852e+08</td>\n",
       "      <td>1.785247</td>\n",
       "      <td>SARIMA</td>\n",
       "    </tr>\n",
       "  </tbody>\n",
       "</table>\n",
       "<p>924 rows × 8 columns</p>\n",
       "</div>"
      ],
      "text/plain": [
       "          date       province          region  revenue_all_forecast  \\\n",
       "0   2023-11-01  Amnat Charoen  east_northeast          2.428000e+07   \n",
       "1   2023-12-01  Amnat Charoen  east_northeast          2.694000e+07   \n",
       "2   2024-01-01  Amnat Charoen  east_northeast          2.824000e+07   \n",
       "3   2024-02-01  Amnat Charoen  east_northeast          2.598000e+07   \n",
       "4   2024-03-01  Amnat Charoen  east_northeast          2.342000e+07   \n",
       "..         ...            ...             ...                   ...   \n",
       "919 2024-06-01       Yasothon  east_northeast          6.336960e+07   \n",
       "920 2024-07-01       Yasothon  east_northeast          6.180383e+07   \n",
       "921 2024-08-01       Yasothon  east_northeast          6.119584e+07   \n",
       "922 2024-09-01       Yasothon  east_northeast          5.961885e+07   \n",
       "923 2024-10-01       Yasothon  east_northeast          5.934310e+07   \n",
       "\n",
       "     revenue_all_forecast_lower  revenue_all_forecast_upper  \\\n",
       "0                  5.517082e+06                4.304292e+07   \n",
       "1                  4.052273e+05                5.347477e+07   \n",
       "2                 -4.258327e+06                6.073833e+07   \n",
       "3                 -1.154584e+07                6.350584e+07   \n",
       "4                 -1.853516e+07                6.537516e+07   \n",
       "..                          ...                         ...   \n",
       "919               -2.471556e+07                1.514548e+08   \n",
       "920               -3.106442e+07                1.546721e+08   \n",
       "921               -3.617571e+07                1.585674e+08   \n",
       "922               -4.210876e+07                1.613465e+08   \n",
       "923               -4.659899e+07                1.652852e+08   \n",
       "\n",
       "     revenue_all_forecast_change_ratio   model  \n",
       "0                             0.772773  SARIMA  \n",
       "1                             0.984958  SARIMA  \n",
       "2                             1.150791  SARIMA  \n",
       "3                             1.444412  SARIMA  \n",
       "4                             1.791424  SARIMA  \n",
       "..                                 ...     ...  \n",
       "919                           1.390022  SARIMA  \n",
       "920                           1.502629  SARIMA  \n",
       "921                           1.591147  SARIMA  \n",
       "922                           1.706299  SARIMA  \n",
       "923                           1.785247  SARIMA  \n",
       "\n",
       "[924 rows x 8 columns]"
      ]
     },
     "execution_count": 8,
     "metadata": {},
     "output_type": "execute_result"
    }
   ],
   "source": [
    "df_result = pd.DataFrame(result, columns=[\"date\", \"province\", \"region\", \"revenue_all_forecast\", \"revenue_all_forecast_lower\",\n",
    "                                          \"revenue_all_forecast_upper\", \"revenue_all_forecast_change_ratio\"])\n",
    "df_result[\"model\"] = \"SARIMA\"\n",
    "df_result"
   ]
  },
  {
   "cell_type": "code",
   "execution_count": 9,
   "metadata": {},
   "outputs": [],
   "source": [
    "## Output\n",
    "data_cleaned_variable_df = pd.read_csv(DATA_CLEANED_VARIABLE_PATH)"
   ]
  },
  {
   "cell_type": "code",
   "execution_count": 10,
   "metadata": {},
   "outputs": [
    {
     "data": {
      "text/html": [
       "<div>\n",
       "<style scoped>\n",
       "    .dataframe tbody tr th:only-of-type {\n",
       "        vertical-align: middle;\n",
       "    }\n",
       "\n",
       "    .dataframe tbody tr th {\n",
       "        vertical-align: top;\n",
       "    }\n",
       "\n",
       "    .dataframe thead th {\n",
       "        text-align: right;\n",
       "    }\n",
       "</style>\n",
       "<table border=\"1\" class=\"dataframe\">\n",
       "  <thead>\n",
       "    <tr style=\"text-align: right;\">\n",
       "      <th></th>\n",
       "      <th>date</th>\n",
       "      <th>province</th>\n",
       "      <th>region</th>\n",
       "      <th>variable</th>\n",
       "      <th>value</th>\n",
       "    </tr>\n",
       "  </thead>\n",
       "  <tbody>\n",
       "    <tr>\n",
       "      <th>0</th>\n",
       "      <td>2019-01-01</td>\n",
       "      <td>Bangkok Metropolis</td>\n",
       "      <td>central</td>\n",
       "      <td>occupancy_rate</td>\n",
       "      <td>9.337000e-01</td>\n",
       "    </tr>\n",
       "    <tr>\n",
       "      <th>1</th>\n",
       "      <td>2019-01-01</td>\n",
       "      <td>Lop Buri</td>\n",
       "      <td>central</td>\n",
       "      <td>occupancy_rate</td>\n",
       "      <td>6.132000e-01</td>\n",
       "    </tr>\n",
       "    <tr>\n",
       "      <th>2</th>\n",
       "      <td>2019-01-01</td>\n",
       "      <td>Phra Nakhon Si Ayutthaya</td>\n",
       "      <td>central</td>\n",
       "      <td>occupancy_rate</td>\n",
       "      <td>7.337000e-01</td>\n",
       "    </tr>\n",
       "    <tr>\n",
       "      <th>3</th>\n",
       "      <td>2019-01-01</td>\n",
       "      <td>Saraburi</td>\n",
       "      <td>central</td>\n",
       "      <td>occupancy_rate</td>\n",
       "      <td>6.733000e-01</td>\n",
       "    </tr>\n",
       "    <tr>\n",
       "      <th>4</th>\n",
       "      <td>2019-01-01</td>\n",
       "      <td>Chai Nat</td>\n",
       "      <td>central</td>\n",
       "      <td>occupancy_rate</td>\n",
       "      <td>7.931000e-01</td>\n",
       "    </tr>\n",
       "    <tr>\n",
       "      <th>...</th>\n",
       "      <td>...</td>\n",
       "      <td>...</td>\n",
       "      <td>...</td>\n",
       "      <td>...</td>\n",
       "      <td>...</td>\n",
       "    </tr>\n",
       "    <tr>\n",
       "      <th>35723</th>\n",
       "      <td>2023-10-01</td>\n",
       "      <td>Roi Et</td>\n",
       "      <td>east_northeast</td>\n",
       "      <td>revenue_foreign</td>\n",
       "      <td>2.410000e+06</td>\n",
       "    </tr>\n",
       "    <tr>\n",
       "      <th>35724</th>\n",
       "      <td>2023-10-01</td>\n",
       "      <td>Si Sa Ket</td>\n",
       "      <td>south</td>\n",
       "      <td>revenue_foreign</td>\n",
       "      <td>8.600000e+05</td>\n",
       "    </tr>\n",
       "    <tr>\n",
       "      <th>35725</th>\n",
       "      <td>2023-10-01</td>\n",
       "      <td>Surin</td>\n",
       "      <td>east_northeast</td>\n",
       "      <td>revenue_foreign</td>\n",
       "      <td>4.440000e+06</td>\n",
       "    </tr>\n",
       "    <tr>\n",
       "      <th>35726</th>\n",
       "      <td>2023-10-01</td>\n",
       "      <td>Amnat Charoen</td>\n",
       "      <td>east_northeast</td>\n",
       "      <td>revenue_foreign</td>\n",
       "      <td>7.400000e+05</td>\n",
       "    </tr>\n",
       "    <tr>\n",
       "      <th>35727</th>\n",
       "      <td>2023-10-01</td>\n",
       "      <td>Ubon Ratchathani</td>\n",
       "      <td>east_northeast</td>\n",
       "      <td>revenue_foreign</td>\n",
       "      <td>3.750000e+06</td>\n",
       "    </tr>\n",
       "  </tbody>\n",
       "</table>\n",
       "<p>35728 rows × 5 columns</p>\n",
       "</div>"
      ],
      "text/plain": [
       "             date                  province          region         variable  \\\n",
       "0      2019-01-01        Bangkok Metropolis         central   occupancy_rate   \n",
       "1      2019-01-01                  Lop Buri         central   occupancy_rate   \n",
       "2      2019-01-01  Phra Nakhon Si Ayutthaya         central   occupancy_rate   \n",
       "3      2019-01-01                  Saraburi         central   occupancy_rate   \n",
       "4      2019-01-01                  Chai Nat         central   occupancy_rate   \n",
       "...           ...                       ...             ...              ...   \n",
       "35723  2023-10-01                    Roi Et  east_northeast  revenue_foreign   \n",
       "35724  2023-10-01                 Si Sa Ket           south  revenue_foreign   \n",
       "35725  2023-10-01                     Surin  east_northeast  revenue_foreign   \n",
       "35726  2023-10-01             Amnat Charoen  east_northeast  revenue_foreign   \n",
       "35727  2023-10-01          Ubon Ratchathani  east_northeast  revenue_foreign   \n",
       "\n",
       "              value  \n",
       "0      9.337000e-01  \n",
       "1      6.132000e-01  \n",
       "2      7.337000e-01  \n",
       "3      6.733000e-01  \n",
       "4      7.931000e-01  \n",
       "...             ...  \n",
       "35723  2.410000e+06  \n",
       "35724  8.600000e+05  \n",
       "35725  4.440000e+06  \n",
       "35726  7.400000e+05  \n",
       "35727  3.750000e+06  \n",
       "\n",
       "[35728 rows x 5 columns]"
      ]
     },
     "execution_count": 10,
     "metadata": {},
     "output_type": "execute_result"
    }
   ],
   "source": [
    "data_cleaned_variable_df"
   ]
  },
  {
   "cell_type": "code",
   "execution_count": 11,
   "metadata": {},
   "outputs": [],
   "source": [
    "df_variables = pd.concat([data_cleaned_variable_df, df_result_variable])\n",
    "df = pd.concat([data_tourism,  df_result]) "
   ]
  },
  {
   "cell_type": "markdown",
   "metadata": {},
   "source": [
    "## SARIMAX"
   ]
  },
  {
   "cell_type": "code",
   "execution_count": 12,
   "metadata": {},
   "outputs": [],
   "source": [
    "thai_covid_data  = pd.read_excel(\"../raw_data/data_thai_covid_case.xlsx\")"
   ]
  },
  {
   "cell_type": "code",
   "execution_count": 13,
   "metadata": {},
   "outputs": [],
   "source": [
    "thai_covid_data = thai_covid_data[[\"date\", \"new_cases\"]]\n",
    "thai_covid_data[\"new_cases\"] = thai_covid_data[\"new_cases\"].fillna(0)"
   ]
  },
  {
   "cell_type": "code",
   "execution_count": 14,
   "metadata": {},
   "outputs": [],
   "source": [
    "thai_covid_data[\"year\"] = thai_covid_data[\"date\"].dt.year\n",
    "thai_covid_data[\"month\"] = thai_covid_data[\"date\"].dt.month\n"
   ]
  },
  {
   "cell_type": "code",
   "execution_count": 15,
   "metadata": {},
   "outputs": [],
   "source": [
    "thai_covid_data_groupby = thai_covid_data.groupby([\"year\", \"month\"]).sum(\"new_cases\").reset_index()\n",
    "thai_covid_data_groupby[\"date\"] = pd.to_datetime(dict(year=thai_covid_data_groupby.year, month=thai_covid_data_groupby.month, day=1))\n",
    "thai_covid_data_groupby = thai_covid_data_groupby[[\"date\", \"new_cases\"]]\n",
    "new_date_data = list(pd.date_range(start=thai_revenue_all[\"date\"].min(), freq=\"MS\", end=thai_covid_data_groupby[\"date\"].min()))"
   ]
  },
  {
   "cell_type": "code",
   "execution_count": 16,
   "metadata": {},
   "outputs": [],
   "source": [
    "list_added_data = []\n",
    "for sample_data in new_date_data:\n",
    "    list_added_data.append({\"date\": sample_data, \"new_cases\": 0})"
   ]
  },
  {
   "cell_type": "code",
   "execution_count": 17,
   "metadata": {},
   "outputs": [],
   "source": [
    "thai_covid_data_groupby = thai_covid_data_groupby.append(list_added_data)\n",
    "thai_covid_data_groupby.sort_values(by = \"date\", inplace=True)"
   ]
  },
  {
   "cell_type": "code",
   "execution_count": 18,
   "metadata": {},
   "outputs": [],
   "source": [
    "covid_data = thai_covid_data_groupby.set_index(\"date\")\n",
    "train_covid_data = covid_data[:len(thai_revenue_all[\"date\"].unique())].values\n",
    "forecast_covid_data = np.ones((FORECASTING_MONTH, 1 )) * covid_data[\"new_cases\"][-1]"
   ]
  },
  {
   "cell_type": "code",
   "execution_count": 19,
   "metadata": {},
   "outputs": [
    {
     "name": "stdout",
     "output_type": "stream",
     "text": [
      "Forecasting Amnat Charoen ....\n"
     ]
    },
    {
     "name": "stderr",
     "output_type": "stream",
     "text": [
      "c:\\Users\\DUC\\miniconda3\\envs\\common-env\\lib\\site-packages\\statsmodels\\tsa\\statespace\\sarimax.py:1906: RuntimeWarning: divide by zero encountered in reciprocal\n",
      "  return np.roots(self.polynomial_reduced_ma)**-1\n",
      "c:\\Users\\DUC\\miniconda3\\envs\\common-env\\lib\\site-packages\\statsmodels\\tsa\\statespace\\sarimax.py:1906: RuntimeWarning: divide by zero encountered in reciprocal\n",
      "  return np.roots(self.polynomial_reduced_ma)**-1\n",
      "c:\\Users\\DUC\\miniconda3\\envs\\common-env\\lib\\site-packages\\statsmodels\\tsa\\statespace\\sarimax.py:1906: RuntimeWarning: divide by zero encountered in reciprocal\n",
      "  return np.roots(self.polynomial_reduced_ma)**-1\n",
      "c:\\Users\\DUC\\miniconda3\\envs\\common-env\\lib\\site-packages\\statsmodels\\tsa\\statespace\\sarimax.py:1906: RuntimeWarning: divide by zero encountered in reciprocal\n",
      "  return np.roots(self.polynomial_reduced_ma)**-1\n",
      "c:\\Users\\DUC\\miniconda3\\envs\\common-env\\lib\\site-packages\\statsmodels\\tsa\\statespace\\sarimax.py:1899: RuntimeWarning: divide by zero encountered in reciprocal\n",
      "  return np.roots(self.polynomial_reduced_ar)**-1\n",
      "c:\\Users\\DUC\\miniconda3\\envs\\common-env\\lib\\site-packages\\statsmodels\\tsa\\statespace\\sarimax.py:1906: RuntimeWarning: divide by zero encountered in reciprocal\n",
      "  return np.roots(self.polynomial_reduced_ma)**-1\n",
      "c:\\Users\\DUC\\miniconda3\\envs\\common-env\\lib\\site-packages\\statsmodels\\tsa\\statespace\\sarimax.py:1899: RuntimeWarning: divide by zero encountered in reciprocal\n",
      "  return np.roots(self.polynomial_reduced_ar)**-1\n",
      "c:\\Users\\DUC\\miniconda3\\envs\\common-env\\lib\\site-packages\\statsmodels\\tsa\\statespace\\sarimax.py:1906: RuntimeWarning: divide by zero encountered in reciprocal\n",
      "  return np.roots(self.polynomial_reduced_ma)**-1\n"
     ]
    },
    {
     "name": "stdout",
     "output_type": "stream",
     "text": [
      "Forecasting Ang Thong ....\n"
     ]
    },
    {
     "name": "stderr",
     "output_type": "stream",
     "text": [
      "c:\\Users\\DUC\\miniconda3\\envs\\common-env\\lib\\site-packages\\statsmodels\\tsa\\statespace\\sarimax.py:1906: RuntimeWarning: divide by zero encountered in reciprocal\n",
      "  return np.roots(self.polynomial_reduced_ma)**-1\n",
      "c:\\Users\\DUC\\miniconda3\\envs\\common-env\\lib\\site-packages\\statsmodels\\tsa\\statespace\\sarimax.py:1906: RuntimeWarning: divide by zero encountered in reciprocal\n",
      "  return np.roots(self.polynomial_reduced_ma)**-1\n",
      "c:\\Users\\DUC\\miniconda3\\envs\\common-env\\lib\\site-packages\\statsmodels\\tsa\\statespace\\sarimax.py:1906: RuntimeWarning: divide by zero encountered in reciprocal\n",
      "  return np.roots(self.polynomial_reduced_ma)**-1\n"
     ]
    },
    {
     "name": "stdout",
     "output_type": "stream",
     "text": [
      "Forecasting Bangkok Metropolis ....\n",
      "Forecasting Bueng Kan ....\n",
      "Forecasting Buri Ram ....\n",
      "Forecasting Chachoengsao ....\n"
     ]
    },
    {
     "name": "stderr",
     "output_type": "stream",
     "text": [
      "c:\\Users\\DUC\\miniconda3\\envs\\common-env\\lib\\site-packages\\statsmodels\\tsa\\statespace\\sarimax.py:1906: RuntimeWarning: divide by zero encountered in reciprocal\n",
      "  return np.roots(self.polynomial_reduced_ma)**-1\n"
     ]
    },
    {
     "name": "stdout",
     "output_type": "stream",
     "text": [
      "Forecasting Chai Nat ....\n"
     ]
    },
    {
     "name": "stderr",
     "output_type": "stream",
     "text": [
      "c:\\Users\\DUC\\miniconda3\\envs\\common-env\\lib\\site-packages\\statsmodels\\tsa\\statespace\\sarimax.py:1906: RuntimeWarning: divide by zero encountered in reciprocal\n",
      "  return np.roots(self.polynomial_reduced_ma)**-1\n"
     ]
    },
    {
     "name": "stdout",
     "output_type": "stream",
     "text": [
      "Forecasting Chaiyaphum ....\n",
      "Forecasting Chanthaburi ....\n",
      "Forecasting Chiang Mai ....\n",
      "Forecasting Chiang Rai ....\n",
      "Forecasting Chon Buri ....\n",
      "Forecasting Chumphon ....\n",
      "Forecasting Kalasin ....\n"
     ]
    },
    {
     "name": "stderr",
     "output_type": "stream",
     "text": [
      "c:\\Users\\DUC\\miniconda3\\envs\\common-env\\lib\\site-packages\\statsmodels\\tsa\\statespace\\sarimax.py:1906: RuntimeWarning: divide by zero encountered in reciprocal\n",
      "  return np.roots(self.polynomial_reduced_ma)**-1\n",
      "c:\\Users\\DUC\\miniconda3\\envs\\common-env\\lib\\site-packages\\statsmodels\\tsa\\statespace\\sarimax.py:1899: RuntimeWarning: divide by zero encountered in reciprocal\n",
      "  return np.roots(self.polynomial_reduced_ar)**-1\n",
      "c:\\Users\\DUC\\miniconda3\\envs\\common-env\\lib\\site-packages\\statsmodels\\tsa\\statespace\\sarimax.py:1906: RuntimeWarning: divide by zero encountered in reciprocal\n",
      "  return np.roots(self.polynomial_reduced_ma)**-1\n",
      "c:\\Users\\DUC\\miniconda3\\envs\\common-env\\lib\\site-packages\\statsmodels\\tsa\\statespace\\sarimax.py:1906: RuntimeWarning: divide by zero encountered in reciprocal\n",
      "  return np.roots(self.polynomial_reduced_ma)**-1\n",
      "c:\\Users\\DUC\\miniconda3\\envs\\common-env\\lib\\site-packages\\statsmodels\\tsa\\statespace\\sarimax.py:1899: RuntimeWarning: divide by zero encountered in reciprocal\n",
      "  return np.roots(self.polynomial_reduced_ar)**-1\n",
      "c:\\Users\\DUC\\miniconda3\\envs\\common-env\\lib\\site-packages\\statsmodels\\tsa\\statespace\\sarimax.py:1906: RuntimeWarning: divide by zero encountered in reciprocal\n",
      "  return np.roots(self.polynomial_reduced_ma)**-1\n",
      "c:\\Users\\DUC\\miniconda3\\envs\\common-env\\lib\\site-packages\\statsmodels\\tsa\\statespace\\sarimax.py:1899: RuntimeWarning: divide by zero encountered in reciprocal\n",
      "  return np.roots(self.polynomial_reduced_ar)**-1\n",
      "c:\\Users\\DUC\\miniconda3\\envs\\common-env\\lib\\site-packages\\statsmodels\\tsa\\statespace\\sarimax.py:1906: RuntimeWarning: divide by zero encountered in reciprocal\n",
      "  return np.roots(self.polynomial_reduced_ma)**-1\n"
     ]
    },
    {
     "name": "stdout",
     "output_type": "stream",
     "text": [
      "Forecasting Kamphaeng Phet ....\n",
      "Forecasting Kanchanaburi ....\n",
      "Forecasting Khon Kaen ....\n",
      "Forecasting Krabi ....\n",
      "Forecasting Lampang ....\n",
      "Forecasting Lamphun ....\n"
     ]
    },
    {
     "name": "stderr",
     "output_type": "stream",
     "text": [
      "c:\\Users\\DUC\\miniconda3\\envs\\common-env\\lib\\site-packages\\statsmodels\\tsa\\statespace\\sarimax.py:1906: RuntimeWarning: divide by zero encountered in reciprocal\n",
      "  return np.roots(self.polynomial_reduced_ma)**-1\n",
      "c:\\Users\\DUC\\miniconda3\\envs\\common-env\\lib\\site-packages\\statsmodels\\tsa\\statespace\\sarimax.py:1906: RuntimeWarning: divide by zero encountered in reciprocal\n",
      "  return np.roots(self.polynomial_reduced_ma)**-1\n"
     ]
    },
    {
     "name": "stdout",
     "output_type": "stream",
     "text": [
      "Forecasting Loei ....\n",
      "Forecasting Lop Buri ....\n"
     ]
    },
    {
     "name": "stderr",
     "output_type": "stream",
     "text": [
      "c:\\Users\\DUC\\miniconda3\\envs\\common-env\\lib\\site-packages\\statsmodels\\tsa\\statespace\\sarimax.py:1906: RuntimeWarning: divide by zero encountered in reciprocal\n",
      "  return np.roots(self.polynomial_reduced_ma)**-1\n"
     ]
    },
    {
     "name": "stdout",
     "output_type": "stream",
     "text": [
      "Forecasting Mae Hong Son ....\n",
      "Forecasting Maha Sarakham ....\n"
     ]
    },
    {
     "name": "stderr",
     "output_type": "stream",
     "text": [
      "c:\\Users\\DUC\\miniconda3\\envs\\common-env\\lib\\site-packages\\statsmodels\\tsa\\statespace\\sarimax.py:1899: RuntimeWarning: divide by zero encountered in reciprocal\n",
      "  return np.roots(self.polynomial_reduced_ar)**-1\n",
      "c:\\Users\\DUC\\miniconda3\\envs\\common-env\\lib\\site-packages\\statsmodels\\tsa\\statespace\\sarimax.py:1906: RuntimeWarning: divide by zero encountered in reciprocal\n",
      "  return np.roots(self.polynomial_reduced_ma)**-1\n"
     ]
    },
    {
     "name": "stdout",
     "output_type": "stream",
     "text": [
      "Forecasting Mukdahan ....\n"
     ]
    },
    {
     "name": "stderr",
     "output_type": "stream",
     "text": [
      "c:\\Users\\DUC\\miniconda3\\envs\\common-env\\lib\\site-packages\\statsmodels\\tsa\\statespace\\sarimax.py:1906: RuntimeWarning: divide by zero encountered in reciprocal\n",
      "  return np.roots(self.polynomial_reduced_ma)**-1\n"
     ]
    },
    {
     "name": "stdout",
     "output_type": "stream",
     "text": [
      "Forecasting Nakhon Nayok ....\n",
      "Forecasting Nakhon Pathom ....\n",
      "Forecasting Nakhon Phanom ....\n"
     ]
    },
    {
     "name": "stderr",
     "output_type": "stream",
     "text": [
      "c:\\Users\\DUC\\miniconda3\\envs\\common-env\\lib\\site-packages\\statsmodels\\tsa\\statespace\\sarimax.py:1906: RuntimeWarning: divide by zero encountered in reciprocal\n",
      "  return np.roots(self.polynomial_reduced_ma)**-1\n"
     ]
    },
    {
     "name": "stdout",
     "output_type": "stream",
     "text": [
      "Forecasting Nakhon Ratchasima ....\n",
      "Forecasting Nakhon Sawan ....\n"
     ]
    },
    {
     "name": "stderr",
     "output_type": "stream",
     "text": [
      "c:\\Users\\DUC\\miniconda3\\envs\\common-env\\lib\\site-packages\\statsmodels\\tsa\\statespace\\sarimax.py:1906: RuntimeWarning: divide by zero encountered in reciprocal\n",
      "  return np.roots(self.polynomial_reduced_ma)**-1\n"
     ]
    },
    {
     "name": "stdout",
     "output_type": "stream",
     "text": [
      "Forecasting Nakhon Si Thammarat ....\n",
      "Forecasting Nan ....\n",
      "Forecasting Narathiwat ....\n"
     ]
    },
    {
     "name": "stderr",
     "output_type": "stream",
     "text": [
      "c:\\Users\\DUC\\miniconda3\\envs\\common-env\\lib\\site-packages\\statsmodels\\tsa\\statespace\\sarimax.py:1906: RuntimeWarning: divide by zero encountered in reciprocal\n",
      "  return np.roots(self.polynomial_reduced_ma)**-1\n",
      "c:\\Users\\DUC\\miniconda3\\envs\\common-env\\lib\\site-packages\\statsmodels\\tsa\\statespace\\sarimax.py:1906: RuntimeWarning: divide by zero encountered in reciprocal\n",
      "  return np.roots(self.polynomial_reduced_ma)**-1\n",
      "c:\\Users\\DUC\\miniconda3\\envs\\common-env\\lib\\site-packages\\statsmodels\\tsa\\statespace\\sarimax.py:1906: RuntimeWarning: divide by zero encountered in reciprocal\n",
      "  return np.roots(self.polynomial_reduced_ma)**-1\n"
     ]
    },
    {
     "name": "stdout",
     "output_type": "stream",
     "text": [
      "Forecasting Nong Bua Lam Phu ....\n"
     ]
    },
    {
     "name": "stderr",
     "output_type": "stream",
     "text": [
      "c:\\Users\\DUC\\miniconda3\\envs\\common-env\\lib\\site-packages\\statsmodels\\tsa\\statespace\\sarimax.py:1906: RuntimeWarning: divide by zero encountered in reciprocal\n",
      "  return np.roots(self.polynomial_reduced_ma)**-1\n"
     ]
    },
    {
     "name": "stdout",
     "output_type": "stream",
     "text": [
      "Forecasting Nong Khai ....\n",
      "Forecasting Nonthaburi ....\n"
     ]
    },
    {
     "name": "stderr",
     "output_type": "stream",
     "text": [
      "c:\\Users\\DUC\\miniconda3\\envs\\common-env\\lib\\site-packages\\statsmodels\\tsa\\statespace\\sarimax.py:1906: RuntimeWarning: divide by zero encountered in reciprocal\n",
      "  return np.roots(self.polynomial_reduced_ma)**-1\n"
     ]
    },
    {
     "name": "stdout",
     "output_type": "stream",
     "text": [
      "Forecasting Pathum Thani ....\n"
     ]
    },
    {
     "name": "stderr",
     "output_type": "stream",
     "text": [
      "c:\\Users\\DUC\\miniconda3\\envs\\common-env\\lib\\site-packages\\statsmodels\\tsa\\statespace\\sarimax.py:1906: RuntimeWarning: divide by zero encountered in reciprocal\n",
      "  return np.roots(self.polynomial_reduced_ma)**-1\n"
     ]
    },
    {
     "name": "stdout",
     "output_type": "stream",
     "text": [
      "Forecasting Pattani ....\n"
     ]
    },
    {
     "name": "stderr",
     "output_type": "stream",
     "text": [
      "c:\\Users\\DUC\\miniconda3\\envs\\common-env\\lib\\site-packages\\statsmodels\\tsa\\statespace\\sarimax.py:1906: RuntimeWarning: divide by zero encountered in reciprocal\n",
      "  return np.roots(self.polynomial_reduced_ma)**-1\n",
      "c:\\Users\\DUC\\miniconda3\\envs\\common-env\\lib\\site-packages\\statsmodels\\tsa\\statespace\\sarimax.py:1906: RuntimeWarning: divide by zero encountered in reciprocal\n",
      "  return np.roots(self.polynomial_reduced_ma)**-1\n"
     ]
    },
    {
     "name": "stdout",
     "output_type": "stream",
     "text": [
      "Forecasting Phangnga ....\n",
      "Forecasting Phatthalung ....\n"
     ]
    },
    {
     "name": "stderr",
     "output_type": "stream",
     "text": [
      "c:\\Users\\DUC\\miniconda3\\envs\\common-env\\lib\\site-packages\\statsmodels\\tsa\\statespace\\sarimax.py:1906: RuntimeWarning: divide by zero encountered in reciprocal\n",
      "  return np.roots(self.polynomial_reduced_ma)**-1\n"
     ]
    },
    {
     "name": "stdout",
     "output_type": "stream",
     "text": [
      "Forecasting Phayao ....\n"
     ]
    },
    {
     "name": "stderr",
     "output_type": "stream",
     "text": [
      "c:\\Users\\DUC\\miniconda3\\envs\\common-env\\lib\\site-packages\\statsmodels\\tsa\\statespace\\sarimax.py:1906: RuntimeWarning: divide by zero encountered in reciprocal\n",
      "  return np.roots(self.polynomial_reduced_ma)**-1\n"
     ]
    },
    {
     "name": "stdout",
     "output_type": "stream",
     "text": [
      "Forecasting Phetchabun ....\n",
      "Forecasting Phetchaburi ....\n",
      "Forecasting Phichit ....\n"
     ]
    },
    {
     "name": "stderr",
     "output_type": "stream",
     "text": [
      "c:\\Users\\DUC\\miniconda3\\envs\\common-env\\lib\\site-packages\\statsmodels\\tsa\\statespace\\sarimax.py:1906: RuntimeWarning: divide by zero encountered in reciprocal\n",
      "  return np.roots(self.polynomial_reduced_ma)**-1\n"
     ]
    },
    {
     "name": "stdout",
     "output_type": "stream",
     "text": [
      "Forecasting Phitsanulok ....\n"
     ]
    },
    {
     "name": "stderr",
     "output_type": "stream",
     "text": [
      "c:\\Users\\DUC\\miniconda3\\envs\\common-env\\lib\\site-packages\\statsmodels\\tsa\\statespace\\sarimax.py:1906: RuntimeWarning: divide by zero encountered in reciprocal\n",
      "  return np.roots(self.polynomial_reduced_ma)**-1\n"
     ]
    },
    {
     "name": "stdout",
     "output_type": "stream",
     "text": [
      "Forecasting Phra Nakhon Si Ayutthaya ....\n",
      "Forecasting Phrae ....\n"
     ]
    },
    {
     "name": "stderr",
     "output_type": "stream",
     "text": [
      "c:\\Users\\DUC\\miniconda3\\envs\\common-env\\lib\\site-packages\\statsmodels\\tsa\\statespace\\sarimax.py:1906: RuntimeWarning: divide by zero encountered in reciprocal\n",
      "  return np.roots(self.polynomial_reduced_ma)**-1\n"
     ]
    },
    {
     "name": "stdout",
     "output_type": "stream",
     "text": [
      "Forecasting Phuket ....\n",
      "Forecasting Prachin Buri ....\n",
      "Forecasting Prachuap Khiri Khan ....\n",
      "Forecasting Ranong ....\n"
     ]
    },
    {
     "name": "stderr",
     "output_type": "stream",
     "text": [
      "c:\\Users\\DUC\\miniconda3\\envs\\common-env\\lib\\site-packages\\statsmodels\\tsa\\statespace\\sarimax.py:1906: RuntimeWarning: divide by zero encountered in reciprocal\n",
      "  return np.roots(self.polynomial_reduced_ma)**-1\n",
      "c:\\Users\\DUC\\miniconda3\\envs\\common-env\\lib\\site-packages\\statsmodels\\tsa\\statespace\\sarimax.py:1906: RuntimeWarning: divide by zero encountered in reciprocal\n",
      "  return np.roots(self.polynomial_reduced_ma)**-1\n"
     ]
    },
    {
     "name": "stdout",
     "output_type": "stream",
     "text": [
      "Forecasting Ratchaburi ....\n"
     ]
    },
    {
     "name": "stderr",
     "output_type": "stream",
     "text": [
      "c:\\Users\\DUC\\miniconda3\\envs\\common-env\\lib\\site-packages\\statsmodels\\tsa\\statespace\\sarimax.py:1906: RuntimeWarning: divide by zero encountered in reciprocal\n",
      "  return np.roots(self.polynomial_reduced_ma)**-1\n"
     ]
    },
    {
     "name": "stdout",
     "output_type": "stream",
     "text": [
      "Forecasting Rayong ....\n",
      "Forecasting Roi Et ....\n"
     ]
    },
    {
     "name": "stderr",
     "output_type": "stream",
     "text": [
      "c:\\Users\\DUC\\miniconda3\\envs\\common-env\\lib\\site-packages\\statsmodels\\tsa\\statespace\\sarimax.py:1906: RuntimeWarning: divide by zero encountered in reciprocal\n",
      "  return np.roots(self.polynomial_reduced_ma)**-1\n"
     ]
    },
    {
     "name": "stdout",
     "output_type": "stream",
     "text": [
      "Forecasting Sa Kaeo ....\n",
      "Forecasting Sakon Nakhon ....\n"
     ]
    },
    {
     "name": "stderr",
     "output_type": "stream",
     "text": [
      "c:\\Users\\DUC\\miniconda3\\envs\\common-env\\lib\\site-packages\\statsmodels\\tsa\\statespace\\sarimax.py:1906: RuntimeWarning: divide by zero encountered in reciprocal\n",
      "  return np.roots(self.polynomial_reduced_ma)**-1\n",
      "c:\\Users\\DUC\\miniconda3\\envs\\common-env\\lib\\site-packages\\statsmodels\\tsa\\statespace\\sarimax.py:1906: RuntimeWarning: divide by zero encountered in reciprocal\n",
      "  return np.roots(self.polynomial_reduced_ma)**-1\n"
     ]
    },
    {
     "name": "stdout",
     "output_type": "stream",
     "text": [
      "Forecasting Samut Prakan ....\n",
      "Forecasting Samut Sakhon ....\n"
     ]
    },
    {
     "name": "stderr",
     "output_type": "stream",
     "text": [
      "c:\\Users\\DUC\\miniconda3\\envs\\common-env\\lib\\site-packages\\statsmodels\\tsa\\statespace\\sarimax.py:1906: RuntimeWarning: divide by zero encountered in reciprocal\n",
      "  return np.roots(self.polynomial_reduced_ma)**-1\n"
     ]
    },
    {
     "name": "stdout",
     "output_type": "stream",
     "text": [
      "Forecasting Samut Songkhram ....\n"
     ]
    },
    {
     "name": "stderr",
     "output_type": "stream",
     "text": [
      "c:\\Users\\DUC\\miniconda3\\envs\\common-env\\lib\\site-packages\\statsmodels\\tsa\\statespace\\sarimax.py:1906: RuntimeWarning: divide by zero encountered in reciprocal\n",
      "  return np.roots(self.polynomial_reduced_ma)**-1\n"
     ]
    },
    {
     "name": "stdout",
     "output_type": "stream",
     "text": [
      "Forecasting Saraburi ....\n",
      "Forecasting Satun ....\n",
      "Forecasting Si Sa Ket ....\n"
     ]
    },
    {
     "name": "stderr",
     "output_type": "stream",
     "text": [
      "c:\\Users\\DUC\\miniconda3\\envs\\common-env\\lib\\site-packages\\statsmodels\\tsa\\statespace\\sarimax.py:1906: RuntimeWarning: divide by zero encountered in reciprocal\n",
      "  return np.roots(self.polynomial_reduced_ma)**-1\n"
     ]
    },
    {
     "name": "stdout",
     "output_type": "stream",
     "text": [
      "Forecasting Sing Buri ....\n"
     ]
    },
    {
     "name": "stderr",
     "output_type": "stream",
     "text": [
      "c:\\Users\\DUC\\miniconda3\\envs\\common-env\\lib\\site-packages\\statsmodels\\tsa\\statespace\\sarimax.py:1906: RuntimeWarning: divide by zero encountered in reciprocal\n",
      "  return np.roots(self.polynomial_reduced_ma)**-1\n"
     ]
    },
    {
     "name": "stdout",
     "output_type": "stream",
     "text": [
      "Forecasting Songkhla ....\n",
      "Forecasting Sukhothai ....\n"
     ]
    },
    {
     "name": "stderr",
     "output_type": "stream",
     "text": [
      "c:\\Users\\DUC\\miniconda3\\envs\\common-env\\lib\\site-packages\\statsmodels\\tsa\\statespace\\sarimax.py:1906: RuntimeWarning: divide by zero encountered in reciprocal\n",
      "  return np.roots(self.polynomial_reduced_ma)**-1\n"
     ]
    },
    {
     "name": "stdout",
     "output_type": "stream",
     "text": [
      "Forecasting Suphan Buri ....\n"
     ]
    },
    {
     "name": "stderr",
     "output_type": "stream",
     "text": [
      "c:\\Users\\DUC\\miniconda3\\envs\\common-env\\lib\\site-packages\\statsmodels\\tsa\\statespace\\sarimax.py:1906: RuntimeWarning: divide by zero encountered in reciprocal\n",
      "  return np.roots(self.polynomial_reduced_ma)**-1\n",
      "c:\\Users\\DUC\\miniconda3\\envs\\common-env\\lib\\site-packages\\statsmodels\\tsa\\statespace\\sarimax.py:1906: RuntimeWarning: divide by zero encountered in reciprocal\n",
      "  return np.roots(self.polynomial_reduced_ma)**-1\n"
     ]
    },
    {
     "name": "stdout",
     "output_type": "stream",
     "text": [
      "Forecasting Surat Thani ....\n",
      "Forecasting Surin ....\n"
     ]
    },
    {
     "name": "stderr",
     "output_type": "stream",
     "text": [
      "c:\\Users\\DUC\\miniconda3\\envs\\common-env\\lib\\site-packages\\statsmodels\\tsa\\statespace\\sarimax.py:1906: RuntimeWarning: divide by zero encountered in reciprocal\n",
      "  return np.roots(self.polynomial_reduced_ma)**-1\n"
     ]
    },
    {
     "name": "stdout",
     "output_type": "stream",
     "text": [
      "Forecasting Tak ....\n",
      "Forecasting Trang ....\n",
      "Forecasting Trat ....\n",
      "Forecasting Ubon Ratchathani ....\n",
      "Forecasting Udon Thani ....\n",
      "Forecasting Uthai Thani ....\n"
     ]
    },
    {
     "name": "stderr",
     "output_type": "stream",
     "text": [
      "c:\\Users\\DUC\\miniconda3\\envs\\common-env\\lib\\site-packages\\statsmodels\\tsa\\statespace\\sarimax.py:1906: RuntimeWarning: divide by zero encountered in reciprocal\n",
      "  return np.roots(self.polynomial_reduced_ma)**-1\n"
     ]
    },
    {
     "name": "stdout",
     "output_type": "stream",
     "text": [
      "Forecasting Uttaradit ....\n"
     ]
    },
    {
     "name": "stderr",
     "output_type": "stream",
     "text": [
      "c:\\Users\\DUC\\miniconda3\\envs\\common-env\\lib\\site-packages\\statsmodels\\tsa\\statespace\\sarimax.py:1906: RuntimeWarning: divide by zero encountered in reciprocal\n",
      "  return np.roots(self.polynomial_reduced_ma)**-1\n"
     ]
    },
    {
     "name": "stdout",
     "output_type": "stream",
     "text": [
      "Forecasting Yala ....\n"
     ]
    },
    {
     "name": "stderr",
     "output_type": "stream",
     "text": [
      "c:\\Users\\DUC\\miniconda3\\envs\\common-env\\lib\\site-packages\\statsmodels\\tsa\\statespace\\sarimax.py:1906: RuntimeWarning: divide by zero encountered in reciprocal\n",
      "  return np.roots(self.polynomial_reduced_ma)**-1\n"
     ]
    },
    {
     "name": "stdout",
     "output_type": "stream",
     "text": [
      "Forecasting Yasothon ....\n"
     ]
    },
    {
     "name": "stderr",
     "output_type": "stream",
     "text": [
      "c:\\Users\\DUC\\miniconda3\\envs\\common-env\\lib\\site-packages\\statsmodels\\tsa\\statespace\\sarimax.py:1906: RuntimeWarning: divide by zero encountered in reciprocal\n",
      "  return np.roots(self.polynomial_reduced_ma)**-1\n",
      "c:\\Users\\DUC\\miniconda3\\envs\\common-env\\lib\\site-packages\\statsmodels\\tsa\\statespace\\sarimax.py:1906: RuntimeWarning: divide by zero encountered in reciprocal\n",
      "  return np.roots(self.polynomial_reduced_ma)**-1\n"
     ]
    }
   ],
   "source": [
    "result = []\n",
    "result_variable = []\n",
    "\n",
    "for province, region in map_province_to_region.items():\n",
    "    print(f\"Forecasting {province} ....\")\n",
    "    thai_revenue_all_province = thai_revenue_all[thai_revenue_all[\"province\"] == province].sort_values(by=\"date\").reset_index(drop=True)\n",
    "    train_data = thai_revenue_all_province.set_index(\"date\")\n",
    "    \n",
    "    SARIMAXModel = pm.auto_arima(\n",
    "                            y=train_data[\"revenue_all\"],\n",
    "                            X=train_covid_data,\n",
    "                            start_p=0,\n",
    "                            start_q=0, \n",
    "                            test= \"adf\",  # use adftest to find optimal 'd'\n",
    "                            max_p=3,\n",
    "                            max_q=3,\n",
    "                            m=12,\n",
    "                            start_P=0,\n",
    "                            seasonal=True,\n",
    "                            D=1,\n",
    "                            alpha=0.05,\n",
    "                            trace=False,\n",
    "                            suppress_warnings=True,\n",
    "                            error_action=\"ignore\",\n",
    "                            stepwise=True)\n",
    "\n",
    "    forecast, forecast_int = SARIMAXModel.predict(n_periods=FORECASTING_MONTH, \n",
    "                                                  X=forecast_covid_data,\n",
    "                                      return_conf_int=True,\n",
    "                                      alpha=0.05)\n",
    "        \n",
    "    for idx, data_sample in enumerate(forecast.iteritems()):\n",
    "        lower_bound, upper_bound = forecast_int[idx]\n",
    "        change_ratio = np.abs((upper_bound - data_sample[1]) / data_sample[1])  \n",
    "        result.append([data_sample[0], province, region, data_sample[1] * 1e6, lower_bound * 1e6, upper_bound * 1e6, change_ratio])\n",
    "        result_variable.append([data_sample[0], province, region, \"revenue_all_forecast\", data_sample[1] * 1e6])\n",
    "        result_variable.append([data_sample[0], province, region, \"revenue_all_forecast_lower\", lower_bound * 1e6])\n",
    "        result_variable.append([data_sample[0], province, region, \"revenue_all_forecast_upper\", upper_bound * 1e6])\n",
    "        result_variable.append([data_sample[0], province, region, \"revenue_all_forecast_change_ratio\", change_ratio])"
   ]
  },
  {
   "cell_type": "code",
   "execution_count": 20,
   "metadata": {},
   "outputs": [
    {
     "data": {
      "text/html": [
       "<div>\n",
       "<style scoped>\n",
       "    .dataframe tbody tr th:only-of-type {\n",
       "        vertical-align: middle;\n",
       "    }\n",
       "\n",
       "    .dataframe tbody tr th {\n",
       "        vertical-align: top;\n",
       "    }\n",
       "\n",
       "    .dataframe thead th {\n",
       "        text-align: right;\n",
       "    }\n",
       "</style>\n",
       "<table border=\"1\" class=\"dataframe\">\n",
       "  <thead>\n",
       "    <tr style=\"text-align: right;\">\n",
       "      <th></th>\n",
       "      <th>date</th>\n",
       "      <th>province</th>\n",
       "      <th>region</th>\n",
       "      <th>variable</th>\n",
       "      <th>value</th>\n",
       "      <th>model</th>\n",
       "    </tr>\n",
       "  </thead>\n",
       "  <tbody>\n",
       "    <tr>\n",
       "      <th>0</th>\n",
       "      <td>2023-11-01</td>\n",
       "      <td>Amnat Charoen</td>\n",
       "      <td>east_northeast</td>\n",
       "      <td>revenue_all_forecast</td>\n",
       "      <td>2.431271e+07</td>\n",
       "      <td>SARIMAX</td>\n",
       "    </tr>\n",
       "    <tr>\n",
       "      <th>1</th>\n",
       "      <td>2023-11-01</td>\n",
       "      <td>Amnat Charoen</td>\n",
       "      <td>east_northeast</td>\n",
       "      <td>revenue_all_forecast_lower</td>\n",
       "      <td>5.354707e+06</td>\n",
       "      <td>SARIMAX</td>\n",
       "    </tr>\n",
       "    <tr>\n",
       "      <th>2</th>\n",
       "      <td>2023-11-01</td>\n",
       "      <td>Amnat Charoen</td>\n",
       "      <td>east_northeast</td>\n",
       "      <td>revenue_all_forecast_upper</td>\n",
       "      <td>4.327072e+07</td>\n",
       "      <td>SARIMAX</td>\n",
       "    </tr>\n",
       "    <tr>\n",
       "      <th>3</th>\n",
       "      <td>2023-11-01</td>\n",
       "      <td>Amnat Charoen</td>\n",
       "      <td>east_northeast</td>\n",
       "      <td>revenue_all_forecast_change_ratio</td>\n",
       "      <td>7.797569e-01</td>\n",
       "      <td>SARIMAX</td>\n",
       "    </tr>\n",
       "    <tr>\n",
       "      <th>4</th>\n",
       "      <td>2023-12-01</td>\n",
       "      <td>Amnat Charoen</td>\n",
       "      <td>east_northeast</td>\n",
       "      <td>revenue_all_forecast</td>\n",
       "      <td>2.696422e+07</td>\n",
       "      <td>SARIMAX</td>\n",
       "    </tr>\n",
       "    <tr>\n",
       "      <th>...</th>\n",
       "      <td>...</td>\n",
       "      <td>...</td>\n",
       "      <td>...</td>\n",
       "      <td>...</td>\n",
       "      <td>...</td>\n",
       "      <td>...</td>\n",
       "    </tr>\n",
       "    <tr>\n",
       "      <th>3691</th>\n",
       "      <td>2024-09-01</td>\n",
       "      <td>Yasothon</td>\n",
       "      <td>east_northeast</td>\n",
       "      <td>revenue_all_forecast_change_ratio</td>\n",
       "      <td>1.744079e+00</td>\n",
       "      <td>SARIMAX</td>\n",
       "    </tr>\n",
       "    <tr>\n",
       "      <th>3692</th>\n",
       "      <td>2024-10-01</td>\n",
       "      <td>Yasothon</td>\n",
       "      <td>east_northeast</td>\n",
       "      <td>revenue_all_forecast</td>\n",
       "      <td>4.381629e+07</td>\n",
       "      <td>SARIMAX</td>\n",
       "    </tr>\n",
       "    <tr>\n",
       "      <th>3693</th>\n",
       "      <td>2024-10-01</td>\n",
       "      <td>Yasothon</td>\n",
       "      <td>east_northeast</td>\n",
       "      <td>revenue_all_forecast_lower</td>\n",
       "      <td>-3.423415e+07</td>\n",
       "      <td>SARIMAX</td>\n",
       "    </tr>\n",
       "    <tr>\n",
       "      <th>3694</th>\n",
       "      <td>2024-10-01</td>\n",
       "      <td>Yasothon</td>\n",
       "      <td>east_northeast</td>\n",
       "      <td>revenue_all_forecast_upper</td>\n",
       "      <td>1.218667e+08</td>\n",
       "      <td>SARIMAX</td>\n",
       "    </tr>\n",
       "    <tr>\n",
       "      <th>3695</th>\n",
       "      <td>2024-10-01</td>\n",
       "      <td>Yasothon</td>\n",
       "      <td>east_northeast</td>\n",
       "      <td>revenue_all_forecast_change_ratio</td>\n",
       "      <td>1.781311e+00</td>\n",
       "      <td>SARIMAX</td>\n",
       "    </tr>\n",
       "  </tbody>\n",
       "</table>\n",
       "<p>3696 rows × 6 columns</p>\n",
       "</div>"
      ],
      "text/plain": [
       "           date       province          region  \\\n",
       "0    2023-11-01  Amnat Charoen  east_northeast   \n",
       "1    2023-11-01  Amnat Charoen  east_northeast   \n",
       "2    2023-11-01  Amnat Charoen  east_northeast   \n",
       "3    2023-11-01  Amnat Charoen  east_northeast   \n",
       "4    2023-12-01  Amnat Charoen  east_northeast   \n",
       "...         ...            ...             ...   \n",
       "3691 2024-09-01       Yasothon  east_northeast   \n",
       "3692 2024-10-01       Yasothon  east_northeast   \n",
       "3693 2024-10-01       Yasothon  east_northeast   \n",
       "3694 2024-10-01       Yasothon  east_northeast   \n",
       "3695 2024-10-01       Yasothon  east_northeast   \n",
       "\n",
       "                               variable         value    model  \n",
       "0                  revenue_all_forecast  2.431271e+07  SARIMAX  \n",
       "1            revenue_all_forecast_lower  5.354707e+06  SARIMAX  \n",
       "2            revenue_all_forecast_upper  4.327072e+07  SARIMAX  \n",
       "3     revenue_all_forecast_change_ratio  7.797569e-01  SARIMAX  \n",
       "4                  revenue_all_forecast  2.696422e+07  SARIMAX  \n",
       "...                                 ...           ...      ...  \n",
       "3691  revenue_all_forecast_change_ratio  1.744079e+00  SARIMAX  \n",
       "3692               revenue_all_forecast  4.381629e+07  SARIMAX  \n",
       "3693         revenue_all_forecast_lower -3.423415e+07  SARIMAX  \n",
       "3694         revenue_all_forecast_upper  1.218667e+08  SARIMAX  \n",
       "3695  revenue_all_forecast_change_ratio  1.781311e+00  SARIMAX  \n",
       "\n",
       "[3696 rows x 6 columns]"
      ]
     },
     "execution_count": 20,
     "metadata": {},
     "output_type": "execute_result"
    }
   ],
   "source": [
    "df_result_variable = pd.DataFrame(result_variable, columns=[\"date\", \"province\", \"region\", \"variable\", \"value\"])\n",
    "df_result_variable[\"model\"] = \"SARIMAX\"\n",
    "df_result_variable"
   ]
  },
  {
   "cell_type": "code",
   "execution_count": 21,
   "metadata": {},
   "outputs": [
    {
     "data": {
      "text/html": [
       "<div>\n",
       "<style scoped>\n",
       "    .dataframe tbody tr th:only-of-type {\n",
       "        vertical-align: middle;\n",
       "    }\n",
       "\n",
       "    .dataframe tbody tr th {\n",
       "        vertical-align: top;\n",
       "    }\n",
       "\n",
       "    .dataframe thead th {\n",
       "        text-align: right;\n",
       "    }\n",
       "</style>\n",
       "<table border=\"1\" class=\"dataframe\">\n",
       "  <thead>\n",
       "    <tr style=\"text-align: right;\">\n",
       "      <th></th>\n",
       "      <th>date</th>\n",
       "      <th>province</th>\n",
       "      <th>region</th>\n",
       "      <th>revenue_all_forecast</th>\n",
       "      <th>revenue_all_forecast_lower</th>\n",
       "      <th>revenue_all_forecast_upper</th>\n",
       "      <th>revenue_all_forecast_change_ratio</th>\n",
       "      <th>model</th>\n",
       "    </tr>\n",
       "  </thead>\n",
       "  <tbody>\n",
       "    <tr>\n",
       "      <th>0</th>\n",
       "      <td>2023-11-01</td>\n",
       "      <td>Amnat Charoen</td>\n",
       "      <td>east_northeast</td>\n",
       "      <td>2.431271e+07</td>\n",
       "      <td>5.354707e+06</td>\n",
       "      <td>4.327072e+07</td>\n",
       "      <td>0.779757</td>\n",
       "      <td>SARIMAX</td>\n",
       "    </tr>\n",
       "    <tr>\n",
       "      <th>1</th>\n",
       "      <td>2023-12-01</td>\n",
       "      <td>Amnat Charoen</td>\n",
       "      <td>east_northeast</td>\n",
       "      <td>2.696422e+07</td>\n",
       "      <td>-4.640587e+04</td>\n",
       "      <td>5.397485e+07</td>\n",
       "      <td>1.001721</td>\n",
       "      <td>SARIMAX</td>\n",
       "    </tr>\n",
       "    <tr>\n",
       "      <th>2</th>\n",
       "      <td>2024-01-01</td>\n",
       "      <td>Amnat Charoen</td>\n",
       "      <td>east_northeast</td>\n",
       "      <td>2.825995e+07</td>\n",
       "      <td>-4.904838e+06</td>\n",
       "      <td>6.142474e+07</td>\n",
       "      <td>1.173561</td>\n",
       "      <td>SARIMAX</td>\n",
       "    </tr>\n",
       "    <tr>\n",
       "      <th>3</th>\n",
       "      <td>2024-02-01</td>\n",
       "      <td>Amnat Charoen</td>\n",
       "      <td>east_northeast</td>\n",
       "      <td>2.603087e+07</td>\n",
       "      <td>-1.231278e+07</td>\n",
       "      <td>6.437451e+07</td>\n",
       "      <td>1.473007</td>\n",
       "      <td>SARIMAX</td>\n",
       "    </tr>\n",
       "    <tr>\n",
       "      <th>4</th>\n",
       "      <td>2024-03-01</td>\n",
       "      <td>Amnat Charoen</td>\n",
       "      <td>east_northeast</td>\n",
       "      <td>2.347544e+07</td>\n",
       "      <td>-1.942639e+07</td>\n",
       "      <td>6.637727e+07</td>\n",
       "      <td>1.827520</td>\n",
       "      <td>SARIMAX</td>\n",
       "    </tr>\n",
       "    <tr>\n",
       "      <th>...</th>\n",
       "      <td>...</td>\n",
       "      <td>...</td>\n",
       "      <td>...</td>\n",
       "      <td>...</td>\n",
       "      <td>...</td>\n",
       "      <td>...</td>\n",
       "      <td>...</td>\n",
       "      <td>...</td>\n",
       "    </tr>\n",
       "    <tr>\n",
       "      <th>919</th>\n",
       "      <td>2024-06-01</td>\n",
       "      <td>Yasothon</td>\n",
       "      <td>east_northeast</td>\n",
       "      <td>4.591425e+07</td>\n",
       "      <td>-2.127386e+07</td>\n",
       "      <td>1.131023e+08</td>\n",
       "      <td>1.463339</td>\n",
       "      <td>SARIMAX</td>\n",
       "    </tr>\n",
       "    <tr>\n",
       "      <th>920</th>\n",
       "      <td>2024-07-01</td>\n",
       "      <td>Yasothon</td>\n",
       "      <td>east_northeast</td>\n",
       "      <td>4.345563e+07</td>\n",
       "      <td>-2.680604e+07</td>\n",
       "      <td>1.137173e+08</td>\n",
       "      <td>1.616860</td>\n",
       "      <td>SARIMAX</td>\n",
       "    </tr>\n",
       "    <tr>\n",
       "      <th>921</th>\n",
       "      <td>2024-08-01</td>\n",
       "      <td>Yasothon</td>\n",
       "      <td>east_northeast</td>\n",
       "      <td>4.372401e+07</td>\n",
       "      <td>-2.934191e+07</td>\n",
       "      <td>1.167899e+08</td>\n",
       "      <td>1.671071</td>\n",
       "      <td>SARIMAX</td>\n",
       "    </tr>\n",
       "    <tr>\n",
       "      <th>922</th>\n",
       "      <td>2024-09-01</td>\n",
       "      <td>Yasothon</td>\n",
       "      <td>east_northeast</td>\n",
       "      <td>4.336167e+07</td>\n",
       "      <td>-3.226453e+07</td>\n",
       "      <td>1.189879e+08</td>\n",
       "      <td>1.744079</td>\n",
       "      <td>SARIMAX</td>\n",
       "    </tr>\n",
       "    <tr>\n",
       "      <th>923</th>\n",
       "      <td>2024-10-01</td>\n",
       "      <td>Yasothon</td>\n",
       "      <td>east_northeast</td>\n",
       "      <td>4.381629e+07</td>\n",
       "      <td>-3.423415e+07</td>\n",
       "      <td>1.218667e+08</td>\n",
       "      <td>1.781311</td>\n",
       "      <td>SARIMAX</td>\n",
       "    </tr>\n",
       "  </tbody>\n",
       "</table>\n",
       "<p>924 rows × 8 columns</p>\n",
       "</div>"
      ],
      "text/plain": [
       "          date       province          region  revenue_all_forecast  \\\n",
       "0   2023-11-01  Amnat Charoen  east_northeast          2.431271e+07   \n",
       "1   2023-12-01  Amnat Charoen  east_northeast          2.696422e+07   \n",
       "2   2024-01-01  Amnat Charoen  east_northeast          2.825995e+07   \n",
       "3   2024-02-01  Amnat Charoen  east_northeast          2.603087e+07   \n",
       "4   2024-03-01  Amnat Charoen  east_northeast          2.347544e+07   \n",
       "..         ...            ...             ...                   ...   \n",
       "919 2024-06-01       Yasothon  east_northeast          4.591425e+07   \n",
       "920 2024-07-01       Yasothon  east_northeast          4.345563e+07   \n",
       "921 2024-08-01       Yasothon  east_northeast          4.372401e+07   \n",
       "922 2024-09-01       Yasothon  east_northeast          4.336167e+07   \n",
       "923 2024-10-01       Yasothon  east_northeast          4.381629e+07   \n",
       "\n",
       "     revenue_all_forecast_lower  revenue_all_forecast_upper  \\\n",
       "0                  5.354707e+06                4.327072e+07   \n",
       "1                 -4.640587e+04                5.397485e+07   \n",
       "2                 -4.904838e+06                6.142474e+07   \n",
       "3                 -1.231278e+07                6.437451e+07   \n",
       "4                 -1.942639e+07                6.637727e+07   \n",
       "..                          ...                         ...   \n",
       "919               -2.127386e+07                1.131023e+08   \n",
       "920               -2.680604e+07                1.137173e+08   \n",
       "921               -2.934191e+07                1.167899e+08   \n",
       "922               -3.226453e+07                1.189879e+08   \n",
       "923               -3.423415e+07                1.218667e+08   \n",
       "\n",
       "     revenue_all_forecast_change_ratio    model  \n",
       "0                             0.779757  SARIMAX  \n",
       "1                             1.001721  SARIMAX  \n",
       "2                             1.173561  SARIMAX  \n",
       "3                             1.473007  SARIMAX  \n",
       "4                             1.827520  SARIMAX  \n",
       "..                                 ...      ...  \n",
       "919                           1.463339  SARIMAX  \n",
       "920                           1.616860  SARIMAX  \n",
       "921                           1.671071  SARIMAX  \n",
       "922                           1.744079  SARIMAX  \n",
       "923                           1.781311  SARIMAX  \n",
       "\n",
       "[924 rows x 8 columns]"
      ]
     },
     "execution_count": 21,
     "metadata": {},
     "output_type": "execute_result"
    }
   ],
   "source": [
    "df_result = pd.DataFrame(result, columns=[\"date\", \"province\", \"region\", \"revenue_all_forecast\", \"revenue_all_forecast_lower\",\n",
    "                                          \"revenue_all_forecast_upper\", \"revenue_all_forecast_change_ratio\"])\n",
    "df_result[\"model\"] = \"SARIMAX\"\n",
    "df_result"
   ]
  },
  {
   "cell_type": "code",
   "execution_count": 22,
   "metadata": {},
   "outputs": [],
   "source": [
    "df_variables = pd.concat([df_variables, df_result_variable])\n",
    "df = pd.concat([df, df_result]) "
   ]
  },
  {
   "cell_type": "markdown",
   "metadata": {},
   "source": [
    "## Prophet"
   ]
  },
  {
   "cell_type": "code",
   "execution_count": 23,
   "metadata": {},
   "outputs": [],
   "source": [
    "train_data = thai_revenue_all.rename(columns={\"date\": \"ds\", \"revenue_all\": \"y\"})"
   ]
  },
  {
   "cell_type": "code",
   "execution_count": 24,
   "metadata": {},
   "outputs": [],
   "source": [
    "df_covid = train_data.copy()\n",
    "df_covid['pre_covid'] = pd.to_datetime(df_covid['ds']) < pd.to_datetime('2020-03-21')\n",
    "df_covid['post_covid'] = ~df_covid['pre_covid']"
   ]
  },
  {
   "cell_type": "code",
   "execution_count": 25,
   "metadata": {},
   "outputs": [],
   "source": [
    "train_covid_data = covid_data.reset_index().rename(columns={\"date\": \"ds\", \"new_cases\": \"covid_case\"}).merge(df_covid, on=\"ds\")"
   ]
  },
  {
   "cell_type": "code",
   "execution_count": 26,
   "metadata": {},
   "outputs": [],
   "source": [
    "import datetime\n",
    "\n",
    "\n",
    "lockdowns = pd.DataFrame([\n",
    "    {'holiday': 'lockdown_1', 'ds': '2020-03-01', 'lower_window': 0, 'ds_upper': '2020-06-01'},\n",
    "    {'holiday': 'lockdown_2', 'ds': '2021-05-01', 'lower_window': 0, 'ds_upper': '2021-09-01'},\n",
    "])\n",
    "\n",
    "for t_col in ['ds', 'ds_upper']:\n",
    "    lockdowns[t_col] = pd.to_datetime(lockdowns[t_col])\n",
    "lockdowns['upper_window'] = (lockdowns['ds_upper'] - lockdowns['ds']).dt.days\n",
    "lockdowns\n",
    "\n",
    "\n",
    "changepoints = (\n",
    "    # 5 potential changepoints this time\n",
    "    pd.date_range('2020-07-01', '2021-04-01', periods=5).date.tolist() + \n",
    "    [datetime.date(2021, 9, 1)]\n",
    "    # 1 potential changepoints in 1 year 2 months\n",
    ")\n"
   ]
  },
  {
   "cell_type": "code",
   "execution_count": 27,
   "metadata": {},
   "outputs": [
    {
     "name": "stderr",
     "output_type": "stream",
     "text": [
      "Importing plotly failed. Interactive plots will not work.\n"
     ]
    },
    {
     "name": "stdout",
     "output_type": "stream",
     "text": [
      "Forecasting Amnat Charoen ....\n"
     ]
    },
    {
     "name": "stderr",
     "output_type": "stream",
     "text": [
      "05:13:38 - cmdstanpy - INFO - Chain [1] start processing\n",
      "05:13:42 - cmdstanpy - INFO - Chain [1] done processing\n",
      "05:13:43 - cmdstanpy - INFO - Chain [1] start processing\n"
     ]
    },
    {
     "name": "stdout",
     "output_type": "stream",
     "text": [
      "Forecasting Ang Thong ....\n"
     ]
    },
    {
     "name": "stderr",
     "output_type": "stream",
     "text": [
      "05:13:46 - cmdstanpy - INFO - Chain [1] done processing\n",
      "05:13:46 - cmdstanpy - INFO - Chain [1] start processing\n"
     ]
    },
    {
     "name": "stdout",
     "output_type": "stream",
     "text": [
      "Forecasting Bangkok Metropolis ....\n"
     ]
    },
    {
     "name": "stderr",
     "output_type": "stream",
     "text": [
      "05:13:50 - cmdstanpy - INFO - Chain [1] done processing\n",
      "05:13:51 - cmdstanpy - INFO - Chain [1] start processing\n"
     ]
    },
    {
     "name": "stdout",
     "output_type": "stream",
     "text": [
      "Forecasting Bueng Kan ....\n"
     ]
    },
    {
     "name": "stderr",
     "output_type": "stream",
     "text": [
      "05:13:53 - cmdstanpy - INFO - Chain [1] done processing\n",
      "05:13:53 - cmdstanpy - INFO - Chain [1] start processing\n"
     ]
    },
    {
     "name": "stdout",
     "output_type": "stream",
     "text": [
      "Forecasting Buri Ram ....\n"
     ]
    },
    {
     "name": "stderr",
     "output_type": "stream",
     "text": [
      "05:13:56 - cmdstanpy - INFO - Chain [1] done processing\n",
      "05:13:56 - cmdstanpy - INFO - Chain [1] start processing\n"
     ]
    },
    {
     "name": "stdout",
     "output_type": "stream",
     "text": [
      "Forecasting Chachoengsao ....\n"
     ]
    },
    {
     "name": "stderr",
     "output_type": "stream",
     "text": [
      "05:13:59 - cmdstanpy - INFO - Chain [1] done processing\n",
      "05:14:00 - cmdstanpy - INFO - Chain [1] start processing\n"
     ]
    },
    {
     "name": "stdout",
     "output_type": "stream",
     "text": [
      "Forecasting Chai Nat ....\n"
     ]
    },
    {
     "name": "stderr",
     "output_type": "stream",
     "text": [
      "05:14:02 - cmdstanpy - INFO - Chain [1] done processing\n",
      "05:14:03 - cmdstanpy - INFO - Chain [1] start processing\n"
     ]
    },
    {
     "name": "stdout",
     "output_type": "stream",
     "text": [
      "Forecasting Chaiyaphum ....\n"
     ]
    },
    {
     "name": "stderr",
     "output_type": "stream",
     "text": [
      "05:14:06 - cmdstanpy - INFO - Chain [1] done processing\n",
      "05:14:06 - cmdstanpy - INFO - Chain [1] start processing\n"
     ]
    },
    {
     "name": "stdout",
     "output_type": "stream",
     "text": [
      "Forecasting Chanthaburi ....\n"
     ]
    },
    {
     "name": "stderr",
     "output_type": "stream",
     "text": [
      "05:14:09 - cmdstanpy - INFO - Chain [1] done processing\n",
      "05:14:09 - cmdstanpy - INFO - Chain [1] start processing\n"
     ]
    },
    {
     "name": "stdout",
     "output_type": "stream",
     "text": [
      "Forecasting Chiang Mai ....\n"
     ]
    },
    {
     "name": "stderr",
     "output_type": "stream",
     "text": [
      "05:14:13 - cmdstanpy - INFO - Chain [1] done processing\n",
      "05:14:14 - cmdstanpy - INFO - Chain [1] start processing\n"
     ]
    },
    {
     "name": "stdout",
     "output_type": "stream",
     "text": [
      "Forecasting Chiang Rai ....\n"
     ]
    },
    {
     "name": "stderr",
     "output_type": "stream",
     "text": [
      "05:14:17 - cmdstanpy - INFO - Chain [1] done processing\n",
      "05:14:18 - cmdstanpy - INFO - Chain [1] start processing\n"
     ]
    },
    {
     "name": "stdout",
     "output_type": "stream",
     "text": [
      "Forecasting Chon Buri ....\n"
     ]
    },
    {
     "name": "stderr",
     "output_type": "stream",
     "text": [
      "05:14:21 - cmdstanpy - INFO - Chain [1] done processing\n",
      "05:14:21 - cmdstanpy - INFO - Chain [1] start processing\n"
     ]
    },
    {
     "name": "stdout",
     "output_type": "stream",
     "text": [
      "Forecasting Chumphon ....\n"
     ]
    },
    {
     "name": "stderr",
     "output_type": "stream",
     "text": [
      "05:14:25 - cmdstanpy - INFO - Chain [1] done processing\n",
      "05:14:25 - cmdstanpy - INFO - Chain [1] start processing\n"
     ]
    },
    {
     "name": "stdout",
     "output_type": "stream",
     "text": [
      "Forecasting Kalasin ....\n"
     ]
    },
    {
     "name": "stderr",
     "output_type": "stream",
     "text": [
      "05:14:28 - cmdstanpy - INFO - Chain [1] done processing\n",
      "05:14:29 - cmdstanpy - INFO - Chain [1] start processing\n"
     ]
    },
    {
     "name": "stdout",
     "output_type": "stream",
     "text": [
      "Forecasting Kamphaeng Phet ....\n"
     ]
    },
    {
     "name": "stderr",
     "output_type": "stream",
     "text": [
      "05:14:32 - cmdstanpy - INFO - Chain [1] done processing\n",
      "05:14:32 - cmdstanpy - INFO - Chain [1] start processing\n"
     ]
    },
    {
     "name": "stdout",
     "output_type": "stream",
     "text": [
      "Forecasting Kanchanaburi ....\n"
     ]
    },
    {
     "name": "stderr",
     "output_type": "stream",
     "text": [
      "05:14:36 - cmdstanpy - INFO - Chain [1] done processing\n",
      "05:14:36 - cmdstanpy - INFO - Chain [1] start processing\n"
     ]
    },
    {
     "name": "stdout",
     "output_type": "stream",
     "text": [
      "Forecasting Khon Kaen ....\n"
     ]
    },
    {
     "name": "stderr",
     "output_type": "stream",
     "text": [
      "05:14:42 - cmdstanpy - INFO - Chain [1] done processing\n"
     ]
    },
    {
     "name": "stdout",
     "output_type": "stream",
     "text": [
      "Forecasting Krabi ....\n"
     ]
    },
    {
     "name": "stderr",
     "output_type": "stream",
     "text": [
      "05:14:43 - cmdstanpy - INFO - Chain [1] start processing\n",
      "05:14:45 - cmdstanpy - INFO - Chain [1] done processing\n",
      "05:14:45 - cmdstanpy - INFO - Chain [1] start processing\n"
     ]
    },
    {
     "name": "stdout",
     "output_type": "stream",
     "text": [
      "Forecasting Lampang ....\n"
     ]
    },
    {
     "name": "stderr",
     "output_type": "stream",
     "text": [
      "05:14:48 - cmdstanpy - INFO - Chain [1] done processing\n",
      "05:14:49 - cmdstanpy - INFO - Chain [1] start processing\n"
     ]
    },
    {
     "name": "stdout",
     "output_type": "stream",
     "text": [
      "Forecasting Lamphun ....\n"
     ]
    },
    {
     "name": "stderr",
     "output_type": "stream",
     "text": [
      "05:14:53 - cmdstanpy - INFO - Chain [1] done processing\n",
      "05:14:54 - cmdstanpy - INFO - Chain [1] start processing\n"
     ]
    },
    {
     "name": "stdout",
     "output_type": "stream",
     "text": [
      "Forecasting Loei ....\n"
     ]
    },
    {
     "name": "stderr",
     "output_type": "stream",
     "text": [
      "05:14:57 - cmdstanpy - INFO - Chain [1] done processing\n",
      "05:14:57 - cmdstanpy - INFO - Chain [1] start processing\n"
     ]
    },
    {
     "name": "stdout",
     "output_type": "stream",
     "text": [
      "Forecasting Lop Buri ....\n"
     ]
    },
    {
     "name": "stderr",
     "output_type": "stream",
     "text": [
      "05:15:01 - cmdstanpy - INFO - Chain [1] done processing\n",
      "05:15:01 - cmdstanpy - INFO - Chain [1] start processing\n"
     ]
    },
    {
     "name": "stdout",
     "output_type": "stream",
     "text": [
      "Forecasting Mae Hong Son ....\n"
     ]
    },
    {
     "name": "stderr",
     "output_type": "stream",
     "text": [
      "05:15:03 - cmdstanpy - INFO - Chain [1] done processing\n",
      "05:15:03 - cmdstanpy - INFO - Chain [1] start processing\n"
     ]
    },
    {
     "name": "stdout",
     "output_type": "stream",
     "text": [
      "Forecasting Maha Sarakham ....\n"
     ]
    },
    {
     "name": "stderr",
     "output_type": "stream",
     "text": [
      "05:15:05 - cmdstanpy - INFO - Chain [1] done processing\n",
      "05:15:06 - cmdstanpy - INFO - Chain [1] start processing\n"
     ]
    },
    {
     "name": "stdout",
     "output_type": "stream",
     "text": [
      "Forecasting Mukdahan ....\n"
     ]
    },
    {
     "name": "stderr",
     "output_type": "stream",
     "text": [
      "05:15:08 - cmdstanpy - INFO - Chain [1] done processing\n",
      "05:15:08 - cmdstanpy - INFO - Chain [1] start processing\n"
     ]
    },
    {
     "name": "stdout",
     "output_type": "stream",
     "text": [
      "Forecasting Nakhon Nayok ....\n"
     ]
    },
    {
     "name": "stderr",
     "output_type": "stream",
     "text": [
      "05:15:11 - cmdstanpy - INFO - Chain [1] done processing\n",
      "05:15:12 - cmdstanpy - INFO - Chain [1] start processing\n"
     ]
    },
    {
     "name": "stdout",
     "output_type": "stream",
     "text": [
      "Forecasting Nakhon Pathom ....\n"
     ]
    },
    {
     "name": "stderr",
     "output_type": "stream",
     "text": [
      "05:15:16 - cmdstanpy - INFO - Chain [1] done processing\n",
      "05:15:16 - cmdstanpy - INFO - Chain [1] start processing\n"
     ]
    },
    {
     "name": "stdout",
     "output_type": "stream",
     "text": [
      "Forecasting Nakhon Phanom ....\n"
     ]
    },
    {
     "name": "stderr",
     "output_type": "stream",
     "text": [
      "05:15:19 - cmdstanpy - INFO - Chain [1] done processing\n",
      "05:15:20 - cmdstanpy - INFO - Chain [1] start processing\n"
     ]
    },
    {
     "name": "stdout",
     "output_type": "stream",
     "text": [
      "Forecasting Nakhon Ratchasima ....\n"
     ]
    },
    {
     "name": "stderr",
     "output_type": "stream",
     "text": [
      "05:15:24 - cmdstanpy - INFO - Chain [1] done processing\n",
      "05:15:24 - cmdstanpy - INFO - Chain [1] start processing\n"
     ]
    },
    {
     "name": "stdout",
     "output_type": "stream",
     "text": [
      "Forecasting Nakhon Sawan ....\n"
     ]
    },
    {
     "name": "stderr",
     "output_type": "stream",
     "text": [
      "05:15:27 - cmdstanpy - INFO - Chain [1] done processing\n",
      "05:15:27 - cmdstanpy - INFO - Chain [1] start processing\n"
     ]
    },
    {
     "name": "stdout",
     "output_type": "stream",
     "text": [
      "Forecasting Nakhon Si Thammarat ....\n"
     ]
    },
    {
     "name": "stderr",
     "output_type": "stream",
     "text": [
      "05:15:31 - cmdstanpy - INFO - Chain [1] done processing\n",
      "05:15:31 - cmdstanpy - INFO - Chain [1] start processing\n"
     ]
    },
    {
     "name": "stdout",
     "output_type": "stream",
     "text": [
      "Forecasting Nan ....\n"
     ]
    },
    {
     "name": "stderr",
     "output_type": "stream",
     "text": [
      "05:15:36 - cmdstanpy - INFO - Chain [1] done processing\n",
      "05:15:36 - cmdstanpy - INFO - Chain [1] start processing\n"
     ]
    },
    {
     "name": "stdout",
     "output_type": "stream",
     "text": [
      "Forecasting Narathiwat ....\n"
     ]
    },
    {
     "name": "stderr",
     "output_type": "stream",
     "text": [
      "05:15:39 - cmdstanpy - INFO - Chain [1] done processing\n",
      "05:15:40 - cmdstanpy - INFO - Chain [1] start processing\n"
     ]
    },
    {
     "name": "stdout",
     "output_type": "stream",
     "text": [
      "Forecasting Nong Bua Lam Phu ....\n"
     ]
    },
    {
     "name": "stderr",
     "output_type": "stream",
     "text": [
      "05:15:42 - cmdstanpy - INFO - Chain [1] done processing\n",
      "05:15:42 - cmdstanpy - INFO - Chain [1] start processing\n"
     ]
    },
    {
     "name": "stdout",
     "output_type": "stream",
     "text": [
      "Forecasting Nong Khai ....\n"
     ]
    },
    {
     "name": "stderr",
     "output_type": "stream",
     "text": [
      "05:15:45 - cmdstanpy - INFO - Chain [1] done processing\n",
      "05:15:45 - cmdstanpy - INFO - Chain [1] start processing\n"
     ]
    },
    {
     "name": "stdout",
     "output_type": "stream",
     "text": [
      "Forecasting Nonthaburi ....\n"
     ]
    },
    {
     "name": "stderr",
     "output_type": "stream",
     "text": [
      "05:15:47 - cmdstanpy - INFO - Chain [1] done processing\n",
      "05:15:48 - cmdstanpy - INFO - Chain [1] start processing\n"
     ]
    },
    {
     "name": "stdout",
     "output_type": "stream",
     "text": [
      "Forecasting Pathum Thani ....\n"
     ]
    },
    {
     "name": "stderr",
     "output_type": "stream",
     "text": [
      "05:15:51 - cmdstanpy - INFO - Chain [1] done processing\n",
      "05:15:51 - cmdstanpy - INFO - Chain [1] start processing\n"
     ]
    },
    {
     "name": "stdout",
     "output_type": "stream",
     "text": [
      "Forecasting Pattani ....\n"
     ]
    },
    {
     "name": "stderr",
     "output_type": "stream",
     "text": [
      "05:15:54 - cmdstanpy - INFO - Chain [1] done processing\n",
      "05:15:54 - cmdstanpy - INFO - Chain [1] start processing\n"
     ]
    },
    {
     "name": "stdout",
     "output_type": "stream",
     "text": [
      "Forecasting Phangnga ....\n"
     ]
    },
    {
     "name": "stderr",
     "output_type": "stream",
     "text": [
      "05:15:56 - cmdstanpy - INFO - Chain [1] done processing\n",
      "05:15:56 - cmdstanpy - INFO - Chain [1] start processing\n"
     ]
    },
    {
     "name": "stdout",
     "output_type": "stream",
     "text": [
      "Forecasting Phatthalung ....\n"
     ]
    },
    {
     "name": "stderr",
     "output_type": "stream",
     "text": [
      "05:15:59 - cmdstanpy - INFO - Chain [1] done processing\n",
      "05:15:59 - cmdstanpy - INFO - Chain [1] start processing\n"
     ]
    },
    {
     "name": "stdout",
     "output_type": "stream",
     "text": [
      "Forecasting Phayao ....\n"
     ]
    },
    {
     "name": "stderr",
     "output_type": "stream",
     "text": [
      "05:16:01 - cmdstanpy - INFO - Chain [1] done processing\n",
      "05:16:02 - cmdstanpy - INFO - Chain [1] start processing\n"
     ]
    },
    {
     "name": "stdout",
     "output_type": "stream",
     "text": [
      "Forecasting Phetchabun ....\n"
     ]
    },
    {
     "name": "stderr",
     "output_type": "stream",
     "text": [
      "05:16:05 - cmdstanpy - INFO - Chain [1] done processing\n",
      "05:16:05 - cmdstanpy - INFO - Chain [1] start processing\n"
     ]
    },
    {
     "name": "stdout",
     "output_type": "stream",
     "text": [
      "Forecasting Phetchaburi ....\n"
     ]
    },
    {
     "name": "stderr",
     "output_type": "stream",
     "text": [
      "05:16:08 - cmdstanpy - INFO - Chain [1] done processing\n",
      "05:16:09 - cmdstanpy - INFO - Chain [1] start processing\n"
     ]
    },
    {
     "name": "stdout",
     "output_type": "stream",
     "text": [
      "Forecasting Phichit ....\n"
     ]
    },
    {
     "name": "stderr",
     "output_type": "stream",
     "text": [
      "05:16:10 - cmdstanpy - INFO - Chain [1] done processing\n",
      "05:16:11 - cmdstanpy - INFO - Chain [1] start processing\n"
     ]
    },
    {
     "name": "stdout",
     "output_type": "stream",
     "text": [
      "Forecasting Phitsanulok ....\n"
     ]
    },
    {
     "name": "stderr",
     "output_type": "stream",
     "text": [
      "05:16:14 - cmdstanpy - INFO - Chain [1] done processing\n",
      "05:16:14 - cmdstanpy - INFO - Chain [1] start processing\n"
     ]
    },
    {
     "name": "stdout",
     "output_type": "stream",
     "text": [
      "Forecasting Phra Nakhon Si Ayutthaya ....\n"
     ]
    },
    {
     "name": "stderr",
     "output_type": "stream",
     "text": [
      "05:16:16 - cmdstanpy - INFO - Chain [1] done processing\n",
      "05:16:17 - cmdstanpy - INFO - Chain [1] start processing\n"
     ]
    },
    {
     "name": "stdout",
     "output_type": "stream",
     "text": [
      "Forecasting Phrae ....\n"
     ]
    },
    {
     "name": "stderr",
     "output_type": "stream",
     "text": [
      "05:16:19 - cmdstanpy - INFO - Chain [1] done processing\n",
      "05:16:19 - cmdstanpy - INFO - Chain [1] start processing\n"
     ]
    },
    {
     "name": "stdout",
     "output_type": "stream",
     "text": [
      "Forecasting Phuket ....\n"
     ]
    },
    {
     "name": "stderr",
     "output_type": "stream",
     "text": [
      "05:16:21 - cmdstanpy - INFO - Chain [1] done processing\n",
      "05:16:21 - cmdstanpy - INFO - Chain [1] start processing\n"
     ]
    },
    {
     "name": "stdout",
     "output_type": "stream",
     "text": [
      "Forecasting Prachin Buri ....\n"
     ]
    },
    {
     "name": "stderr",
     "output_type": "stream",
     "text": [
      "05:16:27 - cmdstanpy - INFO - Chain [1] done processing\n",
      "05:16:27 - cmdstanpy - INFO - Chain [1] start processing\n"
     ]
    },
    {
     "name": "stdout",
     "output_type": "stream",
     "text": [
      "Forecasting Prachuap Khiri Khan ....\n"
     ]
    },
    {
     "name": "stderr",
     "output_type": "stream",
     "text": [
      "05:16:31 - cmdstanpy - INFO - Chain [1] done processing\n",
      "05:16:32 - cmdstanpy - INFO - Chain [1] start processing\n"
     ]
    },
    {
     "name": "stdout",
     "output_type": "stream",
     "text": [
      "Forecasting Ranong ....\n"
     ]
    },
    {
     "name": "stderr",
     "output_type": "stream",
     "text": [
      "05:16:34 - cmdstanpy - INFO - Chain [1] done processing\n",
      "05:16:34 - cmdstanpy - INFO - Chain [1] start processing\n"
     ]
    },
    {
     "name": "stdout",
     "output_type": "stream",
     "text": [
      "Forecasting Ratchaburi ....\n"
     ]
    },
    {
     "name": "stderr",
     "output_type": "stream",
     "text": [
      "05:16:37 - cmdstanpy - INFO - Chain [1] done processing\n",
      "05:16:37 - cmdstanpy - INFO - Chain [1] start processing\n"
     ]
    },
    {
     "name": "stdout",
     "output_type": "stream",
     "text": [
      "Forecasting Rayong ....\n"
     ]
    },
    {
     "name": "stderr",
     "output_type": "stream",
     "text": [
      "05:16:40 - cmdstanpy - INFO - Chain [1] done processing\n",
      "05:16:41 - cmdstanpy - INFO - Chain [1] start processing\n"
     ]
    },
    {
     "name": "stdout",
     "output_type": "stream",
     "text": [
      "Forecasting Roi Et ....\n"
     ]
    },
    {
     "name": "stderr",
     "output_type": "stream",
     "text": [
      "05:16:45 - cmdstanpy - INFO - Chain [1] done processing\n",
      "05:16:45 - cmdstanpy - INFO - Chain [1] start processing\n"
     ]
    },
    {
     "name": "stdout",
     "output_type": "stream",
     "text": [
      "Forecasting Sa Kaeo ....\n"
     ]
    },
    {
     "name": "stderr",
     "output_type": "stream",
     "text": [
      "05:16:48 - cmdstanpy - INFO - Chain [1] done processing\n",
      "05:16:48 - cmdstanpy - INFO - Chain [1] start processing\n"
     ]
    },
    {
     "name": "stdout",
     "output_type": "stream",
     "text": [
      "Forecasting Sakon Nakhon ....\n"
     ]
    },
    {
     "name": "stderr",
     "output_type": "stream",
     "text": [
      "05:16:51 - cmdstanpy - INFO - Chain [1] done processing\n",
      "05:16:51 - cmdstanpy - INFO - Chain [1] start processing\n"
     ]
    },
    {
     "name": "stdout",
     "output_type": "stream",
     "text": [
      "Forecasting Samut Prakan ....\n"
     ]
    },
    {
     "name": "stderr",
     "output_type": "stream",
     "text": [
      "05:16:53 - cmdstanpy - INFO - Chain [1] done processing\n",
      "05:16:54 - cmdstanpy - INFO - Chain [1] start processing\n"
     ]
    },
    {
     "name": "stdout",
     "output_type": "stream",
     "text": [
      "Forecasting Samut Sakhon ....\n"
     ]
    },
    {
     "name": "stderr",
     "output_type": "stream",
     "text": [
      "05:16:57 - cmdstanpy - INFO - Chain [1] done processing\n",
      "05:16:57 - cmdstanpy - INFO - Chain [1] start processing\n"
     ]
    },
    {
     "name": "stdout",
     "output_type": "stream",
     "text": [
      "Forecasting Samut Songkhram ....\n"
     ]
    },
    {
     "name": "stderr",
     "output_type": "stream",
     "text": [
      "05:17:00 - cmdstanpy - INFO - Chain [1] done processing\n",
      "05:17:00 - cmdstanpy - INFO - Chain [1] start processing\n"
     ]
    },
    {
     "name": "stdout",
     "output_type": "stream",
     "text": [
      "Forecasting Saraburi ....\n"
     ]
    },
    {
     "name": "stderr",
     "output_type": "stream",
     "text": [
      "05:17:02 - cmdstanpy - INFO - Chain [1] done processing\n",
      "05:17:02 - cmdstanpy - INFO - Chain [1] start processing\n"
     ]
    },
    {
     "name": "stdout",
     "output_type": "stream",
     "text": [
      "Forecasting Satun ....\n"
     ]
    },
    {
     "name": "stderr",
     "output_type": "stream",
     "text": [
      "05:17:06 - cmdstanpy - INFO - Chain [1] done processing\n",
      "05:17:06 - cmdstanpy - INFO - Chain [1] start processing\n"
     ]
    },
    {
     "name": "stdout",
     "output_type": "stream",
     "text": [
      "Forecasting Si Sa Ket ....\n"
     ]
    },
    {
     "name": "stderr",
     "output_type": "stream",
     "text": [
      "05:17:09 - cmdstanpy - INFO - Chain [1] done processing\n",
      "05:17:09 - cmdstanpy - INFO - Chain [1] start processing\n"
     ]
    },
    {
     "name": "stdout",
     "output_type": "stream",
     "text": [
      "Forecasting Sing Buri ....\n"
     ]
    },
    {
     "name": "stderr",
     "output_type": "stream",
     "text": [
      "05:17:11 - cmdstanpy - INFO - Chain [1] done processing\n",
      "05:17:11 - cmdstanpy - INFO - Chain [1] start processing\n"
     ]
    },
    {
     "name": "stdout",
     "output_type": "stream",
     "text": [
      "Forecasting Songkhla ....\n"
     ]
    },
    {
     "name": "stderr",
     "output_type": "stream",
     "text": [
      "05:17:16 - cmdstanpy - INFO - Chain [1] done processing\n",
      "05:17:16 - cmdstanpy - INFO - Chain [1] start processing\n"
     ]
    },
    {
     "name": "stdout",
     "output_type": "stream",
     "text": [
      "Forecasting Sukhothai ....\n"
     ]
    },
    {
     "name": "stderr",
     "output_type": "stream",
     "text": [
      "05:17:19 - cmdstanpy - INFO - Chain [1] done processing\n",
      "05:17:20 - cmdstanpy - INFO - Chain [1] start processing\n"
     ]
    },
    {
     "name": "stdout",
     "output_type": "stream",
     "text": [
      "Forecasting Suphan Buri ....\n"
     ]
    },
    {
     "name": "stderr",
     "output_type": "stream",
     "text": [
      "05:17:25 - cmdstanpy - INFO - Chain [1] done processing\n",
      "05:17:25 - cmdstanpy - INFO - Chain [1] start processing\n"
     ]
    },
    {
     "name": "stdout",
     "output_type": "stream",
     "text": [
      "Forecasting Surat Thani ....\n"
     ]
    },
    {
     "name": "stderr",
     "output_type": "stream",
     "text": [
      "05:17:31 - cmdstanpy - INFO - Chain [1] done processing\n",
      "05:17:31 - cmdstanpy - INFO - Chain [1] start processing\n"
     ]
    },
    {
     "name": "stdout",
     "output_type": "stream",
     "text": [
      "Forecasting Surin ....\n"
     ]
    },
    {
     "name": "stderr",
     "output_type": "stream",
     "text": [
      "05:17:35 - cmdstanpy - INFO - Chain [1] done processing\n",
      "05:17:35 - cmdstanpy - INFO - Chain [1] start processing\n"
     ]
    },
    {
     "name": "stdout",
     "output_type": "stream",
     "text": [
      "Forecasting Tak ....\n"
     ]
    },
    {
     "name": "stderr",
     "output_type": "stream",
     "text": [
      "05:17:38 - cmdstanpy - INFO - Chain [1] done processing\n",
      "05:17:38 - cmdstanpy - INFO - Chain [1] start processing\n"
     ]
    },
    {
     "name": "stdout",
     "output_type": "stream",
     "text": [
      "Forecasting Trang ....\n"
     ]
    },
    {
     "name": "stderr",
     "output_type": "stream",
     "text": [
      "05:17:42 - cmdstanpy - INFO - Chain [1] done processing\n",
      "05:17:42 - cmdstanpy - INFO - Chain [1] start processing\n"
     ]
    },
    {
     "name": "stdout",
     "output_type": "stream",
     "text": [
      "Forecasting Trat ....\n"
     ]
    },
    {
     "name": "stderr",
     "output_type": "stream",
     "text": [
      "05:17:45 - cmdstanpy - INFO - Chain [1] done processing\n",
      "05:17:45 - cmdstanpy - INFO - Chain [1] start processing\n"
     ]
    },
    {
     "name": "stdout",
     "output_type": "stream",
     "text": [
      "Forecasting Ubon Ratchathani ....\n"
     ]
    },
    {
     "name": "stderr",
     "output_type": "stream",
     "text": [
      "05:17:50 - cmdstanpy - INFO - Chain [1] done processing\n",
      "05:17:51 - cmdstanpy - INFO - Chain [1] start processing\n"
     ]
    },
    {
     "name": "stdout",
     "output_type": "stream",
     "text": [
      "Forecasting Udon Thani ....\n"
     ]
    },
    {
     "name": "stderr",
     "output_type": "stream",
     "text": [
      "05:17:54 - cmdstanpy - INFO - Chain [1] done processing\n",
      "05:17:54 - cmdstanpy - INFO - Chain [1] start processing\n"
     ]
    },
    {
     "name": "stdout",
     "output_type": "stream",
     "text": [
      "Forecasting Uthai Thani ....\n"
     ]
    },
    {
     "name": "stderr",
     "output_type": "stream",
     "text": [
      "05:17:58 - cmdstanpy - INFO - Chain [1] done processing\n",
      "05:17:58 - cmdstanpy - INFO - Chain [1] start processing\n"
     ]
    },
    {
     "name": "stdout",
     "output_type": "stream",
     "text": [
      "Forecasting Uttaradit ....\n"
     ]
    },
    {
     "name": "stderr",
     "output_type": "stream",
     "text": [
      "05:18:01 - cmdstanpy - INFO - Chain [1] done processing\n",
      "05:18:01 - cmdstanpy - INFO - Chain [1] start processing\n"
     ]
    },
    {
     "name": "stdout",
     "output_type": "stream",
     "text": [
      "Forecasting Yala ....\n"
     ]
    },
    {
     "name": "stderr",
     "output_type": "stream",
     "text": [
      "05:18:04 - cmdstanpy - INFO - Chain [1] done processing\n",
      "05:18:05 - cmdstanpy - INFO - Chain [1] start processing\n"
     ]
    },
    {
     "name": "stdout",
     "output_type": "stream",
     "text": [
      "Forecasting Yasothon ....\n"
     ]
    },
    {
     "name": "stderr",
     "output_type": "stream",
     "text": [
      "05:18:08 - cmdstanpy - INFO - Chain [1] done processing\n"
     ]
    }
   ],
   "source": [
    "from prophet import Prophet\n",
    "\n",
    "\n",
    "result = []\n",
    "result_variable = []\n",
    "\n",
    "for province, region in map_province_to_region.items():\n",
    "    print(f\"Forecasting {province} ....\")\n",
    "    train_covid_data_province = train_covid_data[train_covid_data[\"province\"] == province].sort_values(by=\"ds\").reset_index(drop=True)\n",
    "    train_data = train_covid_data_province\n",
    "    \n",
    "        \n",
    "    prophet_model = Prophet(holidays=lockdowns, \n",
    "                            yearly_seasonality=False, \n",
    "                            changepoints=changepoints, \n",
    "                            changepoint_prior_scale=0.15)\n",
    "\n",
    "    prophet_model.add_seasonality(\n",
    "        name='yearly_pre_covid',\n",
    "        period=365,\n",
    "        fourier_order=10,\n",
    "        condition_name='pre_covid',\n",
    "        prior_scale=30\n",
    "    )\n",
    "\n",
    "    prophet_model.add_seasonality(\n",
    "        name='yearly_post_covid',\n",
    "        period=365,\n",
    "        fourier_order=10,\n",
    "        condition_name='post_covid',\n",
    "        prior_scale=80\n",
    "    )\n",
    "\n",
    "    prophet_model.fit(train_data)\n",
    "\n",
    "    future = prophet_model.make_future_dataframe(periods=FORECASTING_MONTH,freq='MS')\n",
    "    future['pre_covid'] = pd.to_datetime(future['ds']) < pd.to_datetime('2020-03-21')\n",
    "    future['post_covid'] = ~future['pre_covid']\n",
    "    future['covid_case'] = 680\n",
    "\n",
    "    test_prediced_result = prophet_model.predict(future)\n",
    "\n",
    "    for index, row in test_prediced_result.reset_index().sort_values(by=\"ds\")[-FORECASTING_MONTH:].iterrows():\n",
    "        yhat, yhat_lower, yhat_upper  = row[\"yhat\"], row[\"yhat_lower\"],  row[\"yhat_upper\"]\n",
    "        change_ratio = np.abs((yhat_upper - yhat) / yhat)\n",
    "        result.append([row[\"ds\"], province, region, yhat * 1e6, yhat_lower * 1e6, yhat_upper * 1e6, change_ratio])\n",
    "        \n",
    "        result_variable.append([data_sample[0], province, region, \"revenue_all_forecast\", yhat * 1e6])\n",
    "        result_variable.append([data_sample[0], province, region, \"revenue_all_forecast_lower\", yhat_lower * 1e6])\n",
    "        result_variable.append([data_sample[0], province, region, \"revenue_all_forecast_upper\", yhat_upper * 1e6])\n",
    "        result_variable.append([data_sample[0], province, region, \"revenue_all_forecast_change_ratio\", change_ratio])"
   ]
  },
  {
   "cell_type": "code",
   "execution_count": 33,
   "metadata": {},
   "outputs": [
    {
     "data": {
      "text/html": [
       "<div>\n",
       "<style scoped>\n",
       "    .dataframe tbody tr th:only-of-type {\n",
       "        vertical-align: middle;\n",
       "    }\n",
       "\n",
       "    .dataframe tbody tr th {\n",
       "        vertical-align: top;\n",
       "    }\n",
       "\n",
       "    .dataframe thead th {\n",
       "        text-align: right;\n",
       "    }\n",
       "</style>\n",
       "<table border=\"1\" class=\"dataframe\">\n",
       "  <thead>\n",
       "    <tr style=\"text-align: right;\">\n",
       "      <th></th>\n",
       "      <th>date</th>\n",
       "      <th>province</th>\n",
       "      <th>region</th>\n",
       "      <th>variable</th>\n",
       "      <th>value</th>\n",
       "      <th>model</th>\n",
       "    </tr>\n",
       "  </thead>\n",
       "  <tbody>\n",
       "    <tr>\n",
       "      <th>0</th>\n",
       "      <td>2024-10-01</td>\n",
       "      <td>Amnat Charoen</td>\n",
       "      <td>east_northeast</td>\n",
       "      <td>revenue_all_forecast</td>\n",
       "      <td>2.788035e+07</td>\n",
       "      <td>Prophet</td>\n",
       "    </tr>\n",
       "    <tr>\n",
       "      <th>1</th>\n",
       "      <td>2024-10-01</td>\n",
       "      <td>Amnat Charoen</td>\n",
       "      <td>east_northeast</td>\n",
       "      <td>revenue_all_forecast_lower</td>\n",
       "      <td>2.264024e+07</td>\n",
       "      <td>Prophet</td>\n",
       "    </tr>\n",
       "    <tr>\n",
       "      <th>2</th>\n",
       "      <td>2024-10-01</td>\n",
       "      <td>Amnat Charoen</td>\n",
       "      <td>east_northeast</td>\n",
       "      <td>revenue_all_forecast_upper</td>\n",
       "      <td>3.311344e+07</td>\n",
       "      <td>Prophet</td>\n",
       "    </tr>\n",
       "    <tr>\n",
       "      <th>3</th>\n",
       "      <td>2024-10-01</td>\n",
       "      <td>Amnat Charoen</td>\n",
       "      <td>east_northeast</td>\n",
       "      <td>revenue_all_forecast_change_ratio</td>\n",
       "      <td>1.876979e-01</td>\n",
       "      <td>Prophet</td>\n",
       "    </tr>\n",
       "    <tr>\n",
       "      <th>4</th>\n",
       "      <td>2024-10-01</td>\n",
       "      <td>Amnat Charoen</td>\n",
       "      <td>east_northeast</td>\n",
       "      <td>revenue_all_forecast</td>\n",
       "      <td>3.574062e+07</td>\n",
       "      <td>Prophet</td>\n",
       "    </tr>\n",
       "    <tr>\n",
       "      <th>...</th>\n",
       "      <td>...</td>\n",
       "      <td>...</td>\n",
       "      <td>...</td>\n",
       "      <td>...</td>\n",
       "      <td>...</td>\n",
       "      <td>...</td>\n",
       "    </tr>\n",
       "    <tr>\n",
       "      <th>3691</th>\n",
       "      <td>2024-10-01</td>\n",
       "      <td>Yasothon</td>\n",
       "      <td>east_northeast</td>\n",
       "      <td>revenue_all_forecast_change_ratio</td>\n",
       "      <td>2.668407e-01</td>\n",
       "      <td>Prophet</td>\n",
       "    </tr>\n",
       "    <tr>\n",
       "      <th>3692</th>\n",
       "      <td>2024-10-01</td>\n",
       "      <td>Yasothon</td>\n",
       "      <td>east_northeast</td>\n",
       "      <td>revenue_all_forecast</td>\n",
       "      <td>7.640516e+07</td>\n",
       "      <td>Prophet</td>\n",
       "    </tr>\n",
       "    <tr>\n",
       "      <th>3693</th>\n",
       "      <td>2024-10-01</td>\n",
       "      <td>Yasothon</td>\n",
       "      <td>east_northeast</td>\n",
       "      <td>revenue_all_forecast_lower</td>\n",
       "      <td>7.048277e+07</td>\n",
       "      <td>Prophet</td>\n",
       "    </tr>\n",
       "    <tr>\n",
       "      <th>3694</th>\n",
       "      <td>2024-10-01</td>\n",
       "      <td>Yasothon</td>\n",
       "      <td>east_northeast</td>\n",
       "      <td>revenue_all_forecast_upper</td>\n",
       "      <td>8.239466e+07</td>\n",
       "      <td>Prophet</td>\n",
       "    </tr>\n",
       "    <tr>\n",
       "      <th>3695</th>\n",
       "      <td>2024-10-01</td>\n",
       "      <td>Yasothon</td>\n",
       "      <td>east_northeast</td>\n",
       "      <td>revenue_all_forecast_change_ratio</td>\n",
       "      <td>7.839142e-02</td>\n",
       "      <td>Prophet</td>\n",
       "    </tr>\n",
       "  </tbody>\n",
       "</table>\n",
       "<p>3696 rows × 6 columns</p>\n",
       "</div>"
      ],
      "text/plain": [
       "           date       province          region  \\\n",
       "0    2024-10-01  Amnat Charoen  east_northeast   \n",
       "1    2024-10-01  Amnat Charoen  east_northeast   \n",
       "2    2024-10-01  Amnat Charoen  east_northeast   \n",
       "3    2024-10-01  Amnat Charoen  east_northeast   \n",
       "4    2024-10-01  Amnat Charoen  east_northeast   \n",
       "...         ...            ...             ...   \n",
       "3691 2024-10-01       Yasothon  east_northeast   \n",
       "3692 2024-10-01       Yasothon  east_northeast   \n",
       "3693 2024-10-01       Yasothon  east_northeast   \n",
       "3694 2024-10-01       Yasothon  east_northeast   \n",
       "3695 2024-10-01       Yasothon  east_northeast   \n",
       "\n",
       "                               variable         value    model  \n",
       "0                  revenue_all_forecast  2.788035e+07  Prophet  \n",
       "1            revenue_all_forecast_lower  2.264024e+07  Prophet  \n",
       "2            revenue_all_forecast_upper  3.311344e+07  Prophet  \n",
       "3     revenue_all_forecast_change_ratio  1.876979e-01  Prophet  \n",
       "4                  revenue_all_forecast  3.574062e+07  Prophet  \n",
       "...                                 ...           ...      ...  \n",
       "3691  revenue_all_forecast_change_ratio  2.668407e-01  Prophet  \n",
       "3692               revenue_all_forecast  7.640516e+07  Prophet  \n",
       "3693         revenue_all_forecast_lower  7.048277e+07  Prophet  \n",
       "3694         revenue_all_forecast_upper  8.239466e+07  Prophet  \n",
       "3695  revenue_all_forecast_change_ratio  7.839142e-02  Prophet  \n",
       "\n",
       "[3696 rows x 6 columns]"
      ]
     },
     "execution_count": 33,
     "metadata": {},
     "output_type": "execute_result"
    }
   ],
   "source": [
    "df_result_variable = pd.DataFrame(result_variable, columns=[\"date\", \"province\", \"region\", \"variable\", \"value\"])\n",
    "df_result_variable[\"model\"] = \"Prophet\"\n",
    "df_result_variable"
   ]
  },
  {
   "cell_type": "code",
   "execution_count": 29,
   "metadata": {},
   "outputs": [
    {
     "data": {
      "text/html": [
       "<div>\n",
       "<style scoped>\n",
       "    .dataframe tbody tr th:only-of-type {\n",
       "        vertical-align: middle;\n",
       "    }\n",
       "\n",
       "    .dataframe tbody tr th {\n",
       "        vertical-align: top;\n",
       "    }\n",
       "\n",
       "    .dataframe thead th {\n",
       "        text-align: right;\n",
       "    }\n",
       "</style>\n",
       "<table border=\"1\" class=\"dataframe\">\n",
       "  <thead>\n",
       "    <tr style=\"text-align: right;\">\n",
       "      <th></th>\n",
       "      <th>date</th>\n",
       "      <th>province</th>\n",
       "      <th>region</th>\n",
       "      <th>revenue_all_forecast</th>\n",
       "      <th>revenue_all_forecast_lower</th>\n",
       "      <th>revenue_all_forecast_upper</th>\n",
       "      <th>revenue_all_forecast_change_ratio</th>\n",
       "      <th>model</th>\n",
       "    </tr>\n",
       "  </thead>\n",
       "  <tbody>\n",
       "    <tr>\n",
       "      <th>0</th>\n",
       "      <td>2023-11-01</td>\n",
       "      <td>Amnat Charoen</td>\n",
       "      <td>east_northeast</td>\n",
       "      <td>2.788035e+07</td>\n",
       "      <td>2.264024e+07</td>\n",
       "      <td>3.311344e+07</td>\n",
       "      <td>0.187698</td>\n",
       "      <td>Prophet</td>\n",
       "    </tr>\n",
       "    <tr>\n",
       "      <th>1</th>\n",
       "      <td>2023-12-01</td>\n",
       "      <td>Amnat Charoen</td>\n",
       "      <td>east_northeast</td>\n",
       "      <td>3.574062e+07</td>\n",
       "      <td>3.013518e+07</td>\n",
       "      <td>4.117264e+07</td>\n",
       "      <td>0.151984</td>\n",
       "      <td>Prophet</td>\n",
       "    </tr>\n",
       "    <tr>\n",
       "      <th>2</th>\n",
       "      <td>2024-01-01</td>\n",
       "      <td>Amnat Charoen</td>\n",
       "      <td>east_northeast</td>\n",
       "      <td>3.177706e+07</td>\n",
       "      <td>2.650863e+07</td>\n",
       "      <td>3.706013e+07</td>\n",
       "      <td>0.166254</td>\n",
       "      <td>Prophet</td>\n",
       "    </tr>\n",
       "    <tr>\n",
       "      <th>3</th>\n",
       "      <td>2024-02-01</td>\n",
       "      <td>Amnat Charoen</td>\n",
       "      <td>east_northeast</td>\n",
       "      <td>2.794022e+07</td>\n",
       "      <td>2.295051e+07</td>\n",
       "      <td>3.336793e+07</td>\n",
       "      <td>0.194261</td>\n",
       "      <td>Prophet</td>\n",
       "    </tr>\n",
       "    <tr>\n",
       "      <th>4</th>\n",
       "      <td>2024-03-01</td>\n",
       "      <td>Amnat Charoen</td>\n",
       "      <td>east_northeast</td>\n",
       "      <td>5.368480e+07</td>\n",
       "      <td>4.871589e+07</td>\n",
       "      <td>5.909614e+07</td>\n",
       "      <td>0.100798</td>\n",
       "      <td>Prophet</td>\n",
       "    </tr>\n",
       "    <tr>\n",
       "      <th>...</th>\n",
       "      <td>...</td>\n",
       "      <td>...</td>\n",
       "      <td>...</td>\n",
       "      <td>...</td>\n",
       "      <td>...</td>\n",
       "      <td>...</td>\n",
       "      <td>...</td>\n",
       "      <td>...</td>\n",
       "    </tr>\n",
       "    <tr>\n",
       "      <th>919</th>\n",
       "      <td>2024-06-01</td>\n",
       "      <td>Yasothon</td>\n",
       "      <td>east_northeast</td>\n",
       "      <td>2.439746e+07</td>\n",
       "      <td>1.875801e+07</td>\n",
       "      <td>3.017744e+07</td>\n",
       "      <td>0.236909</td>\n",
       "      <td>Prophet</td>\n",
       "    </tr>\n",
       "    <tr>\n",
       "      <th>920</th>\n",
       "      <td>2024-07-01</td>\n",
       "      <td>Yasothon</td>\n",
       "      <td>east_northeast</td>\n",
       "      <td>5.998031e+07</td>\n",
       "      <td>5.473012e+07</td>\n",
       "      <td>6.559584e+07</td>\n",
       "      <td>0.093623</td>\n",
       "      <td>Prophet</td>\n",
       "    </tr>\n",
       "    <tr>\n",
       "      <th>921</th>\n",
       "      <td>2024-08-01</td>\n",
       "      <td>Yasothon</td>\n",
       "      <td>east_northeast</td>\n",
       "      <td>4.026298e+07</td>\n",
       "      <td>3.461346e+07</td>\n",
       "      <td>4.612074e+07</td>\n",
       "      <td>0.145487</td>\n",
       "      <td>Prophet</td>\n",
       "    </tr>\n",
       "    <tr>\n",
       "      <th>922</th>\n",
       "      <td>2024-09-01</td>\n",
       "      <td>Yasothon</td>\n",
       "      <td>east_northeast</td>\n",
       "      <td>2.285483e+07</td>\n",
       "      <td>1.697228e+07</td>\n",
       "      <td>2.895343e+07</td>\n",
       "      <td>0.266841</td>\n",
       "      <td>Prophet</td>\n",
       "    </tr>\n",
       "    <tr>\n",
       "      <th>923</th>\n",
       "      <td>2024-10-01</td>\n",
       "      <td>Yasothon</td>\n",
       "      <td>east_northeast</td>\n",
       "      <td>7.640516e+07</td>\n",
       "      <td>7.048277e+07</td>\n",
       "      <td>8.239466e+07</td>\n",
       "      <td>0.078391</td>\n",
       "      <td>Prophet</td>\n",
       "    </tr>\n",
       "  </tbody>\n",
       "</table>\n",
       "<p>924 rows × 8 columns</p>\n",
       "</div>"
      ],
      "text/plain": [
       "          date       province          region  revenue_all_forecast  \\\n",
       "0   2023-11-01  Amnat Charoen  east_northeast          2.788035e+07   \n",
       "1   2023-12-01  Amnat Charoen  east_northeast          3.574062e+07   \n",
       "2   2024-01-01  Amnat Charoen  east_northeast          3.177706e+07   \n",
       "3   2024-02-01  Amnat Charoen  east_northeast          2.794022e+07   \n",
       "4   2024-03-01  Amnat Charoen  east_northeast          5.368480e+07   \n",
       "..         ...            ...             ...                   ...   \n",
       "919 2024-06-01       Yasothon  east_northeast          2.439746e+07   \n",
       "920 2024-07-01       Yasothon  east_northeast          5.998031e+07   \n",
       "921 2024-08-01       Yasothon  east_northeast          4.026298e+07   \n",
       "922 2024-09-01       Yasothon  east_northeast          2.285483e+07   \n",
       "923 2024-10-01       Yasothon  east_northeast          7.640516e+07   \n",
       "\n",
       "     revenue_all_forecast_lower  revenue_all_forecast_upper  \\\n",
       "0                  2.264024e+07                3.311344e+07   \n",
       "1                  3.013518e+07                4.117264e+07   \n",
       "2                  2.650863e+07                3.706013e+07   \n",
       "3                  2.295051e+07                3.336793e+07   \n",
       "4                  4.871589e+07                5.909614e+07   \n",
       "..                          ...                         ...   \n",
       "919                1.875801e+07                3.017744e+07   \n",
       "920                5.473012e+07                6.559584e+07   \n",
       "921                3.461346e+07                4.612074e+07   \n",
       "922                1.697228e+07                2.895343e+07   \n",
       "923                7.048277e+07                8.239466e+07   \n",
       "\n",
       "     revenue_all_forecast_change_ratio    model  \n",
       "0                             0.187698  Prophet  \n",
       "1                             0.151984  Prophet  \n",
       "2                             0.166254  Prophet  \n",
       "3                             0.194261  Prophet  \n",
       "4                             0.100798  Prophet  \n",
       "..                                 ...      ...  \n",
       "919                           0.236909  Prophet  \n",
       "920                           0.093623  Prophet  \n",
       "921                           0.145487  Prophet  \n",
       "922                           0.266841  Prophet  \n",
       "923                           0.078391  Prophet  \n",
       "\n",
       "[924 rows x 8 columns]"
      ]
     },
     "execution_count": 29,
     "metadata": {},
     "output_type": "execute_result"
    }
   ],
   "source": [
    "df_result = pd.DataFrame(result, columns=[\"date\", \"province\", \"region\", \"revenue_all_forecast\", \"revenue_all_forecast_lower\",\n",
    "                                          \"revenue_all_forecast_upper\", \"revenue_all_forecast_change_ratio\"])\n",
    "df_result[\"model\"] = \"Prophet\"\n",
    "df_result"
   ]
  },
  {
   "cell_type": "code",
   "execution_count": 34,
   "metadata": {},
   "outputs": [],
   "source": [
    "df_variables = pd.concat([df_variables, df_result_variable])\n",
    "df = pd.concat([df, df_result]) "
   ]
  },
  {
   "cell_type": "code",
   "execution_count": 40,
   "metadata": {},
   "outputs": [
    {
     "data": {
      "text/html": [
       "<div>\n",
       "<style scoped>\n",
       "    .dataframe tbody tr th:only-of-type {\n",
       "        vertical-align: middle;\n",
       "    }\n",
       "\n",
       "    .dataframe tbody tr th {\n",
       "        vertical-align: top;\n",
       "    }\n",
       "\n",
       "    .dataframe thead th {\n",
       "        text-align: right;\n",
       "    }\n",
       "</style>\n",
       "<table border=\"1\" class=\"dataframe\">\n",
       "  <thead>\n",
       "    <tr style=\"text-align: right;\">\n",
       "      <th></th>\n",
       "      <th>date</th>\n",
       "      <th>province</th>\n",
       "      <th>region</th>\n",
       "      <th>variable</th>\n",
       "      <th>value</th>\n",
       "      <th>model</th>\n",
       "    </tr>\n",
       "  </thead>\n",
       "  <tbody>\n",
       "    <tr>\n",
       "      <th>0</th>\n",
       "      <td>2019-01-01</td>\n",
       "      <td>Bangkok Metropolis</td>\n",
       "      <td>central</td>\n",
       "      <td>occupancy_rate</td>\n",
       "      <td>9.337000e-01</td>\n",
       "      <td>NaN</td>\n",
       "    </tr>\n",
       "    <tr>\n",
       "      <th>1</th>\n",
       "      <td>2019-01-01</td>\n",
       "      <td>Lop Buri</td>\n",
       "      <td>central</td>\n",
       "      <td>occupancy_rate</td>\n",
       "      <td>6.132000e-01</td>\n",
       "      <td>NaN</td>\n",
       "    </tr>\n",
       "    <tr>\n",
       "      <th>2</th>\n",
       "      <td>2019-01-01</td>\n",
       "      <td>Phra Nakhon Si Ayutthaya</td>\n",
       "      <td>central</td>\n",
       "      <td>occupancy_rate</td>\n",
       "      <td>7.337000e-01</td>\n",
       "      <td>NaN</td>\n",
       "    </tr>\n",
       "    <tr>\n",
       "      <th>3</th>\n",
       "      <td>2019-01-01</td>\n",
       "      <td>Saraburi</td>\n",
       "      <td>central</td>\n",
       "      <td>occupancy_rate</td>\n",
       "      <td>6.733000e-01</td>\n",
       "      <td>NaN</td>\n",
       "    </tr>\n",
       "    <tr>\n",
       "      <th>4</th>\n",
       "      <td>2019-01-01</td>\n",
       "      <td>Chai Nat</td>\n",
       "      <td>central</td>\n",
       "      <td>occupancy_rate</td>\n",
       "      <td>7.931000e-01</td>\n",
       "      <td>NaN</td>\n",
       "    </tr>\n",
       "    <tr>\n",
       "      <th>...</th>\n",
       "      <td>...</td>\n",
       "      <td>...</td>\n",
       "      <td>...</td>\n",
       "      <td>...</td>\n",
       "      <td>...</td>\n",
       "      <td>...</td>\n",
       "    </tr>\n",
       "    <tr>\n",
       "      <th>2767</th>\n",
       "      <td>2024-10-01 00:00:00</td>\n",
       "      <td>Samut Sakhon</td>\n",
       "      <td>central</td>\n",
       "      <td>revenue_all_forecast_change_ratio</td>\n",
       "      <td>5.927104e-01</td>\n",
       "      <td>Prophet</td>\n",
       "    </tr>\n",
       "    <tr>\n",
       "      <th>2768</th>\n",
       "      <td>2024-10-01 00:00:00</td>\n",
       "      <td>Samut Sakhon</td>\n",
       "      <td>central</td>\n",
       "      <td>revenue_all_forecast</td>\n",
       "      <td>2.688318e+08</td>\n",
       "      <td>Prophet</td>\n",
       "    </tr>\n",
       "    <tr>\n",
       "      <th>2769</th>\n",
       "      <td>2024-10-01 00:00:00</td>\n",
       "      <td>Samut Sakhon</td>\n",
       "      <td>central</td>\n",
       "      <td>revenue_all_forecast_lower</td>\n",
       "      <td>2.466960e+08</td>\n",
       "      <td>Prophet</td>\n",
       "    </tr>\n",
       "    <tr>\n",
       "      <th>2770</th>\n",
       "      <td>2024-10-01 00:00:00</td>\n",
       "      <td>Samut Sakhon</td>\n",
       "      <td>central</td>\n",
       "      <td>revenue_all_forecast_upper</td>\n",
       "      <td>2.899011e+08</td>\n",
       "      <td>Prophet</td>\n",
       "    </tr>\n",
       "    <tr>\n",
       "      <th>2771</th>\n",
       "      <td>2024-10-01 00:00:00</td>\n",
       "      <td>Samut Sakhon</td>\n",
       "      <td>central</td>\n",
       "      <td>revenue_all_forecast_change_ratio</td>\n",
       "      <td>7.837347e-02</td>\n",
       "      <td>Prophet</td>\n",
       "    </tr>\n",
       "  </tbody>\n",
       "</table>\n",
       "<p>49588 rows × 6 columns</p>\n",
       "</div>"
      ],
      "text/plain": [
       "                     date                  province   region  \\\n",
       "0              2019-01-01        Bangkok Metropolis  central   \n",
       "1              2019-01-01                  Lop Buri  central   \n",
       "2              2019-01-01  Phra Nakhon Si Ayutthaya  central   \n",
       "3              2019-01-01                  Saraburi  central   \n",
       "4              2019-01-01                  Chai Nat  central   \n",
       "...                   ...                       ...      ...   \n",
       "2767  2024-10-01 00:00:00              Samut Sakhon  central   \n",
       "2768  2024-10-01 00:00:00              Samut Sakhon  central   \n",
       "2769  2024-10-01 00:00:00              Samut Sakhon  central   \n",
       "2770  2024-10-01 00:00:00              Samut Sakhon  central   \n",
       "2771  2024-10-01 00:00:00              Samut Sakhon  central   \n",
       "\n",
       "                               variable         value    model  \n",
       "0                        occupancy_rate  9.337000e-01      NaN  \n",
       "1                        occupancy_rate  6.132000e-01      NaN  \n",
       "2                        occupancy_rate  7.337000e-01      NaN  \n",
       "3                        occupancy_rate  6.733000e-01      NaN  \n",
       "4                        occupancy_rate  7.931000e-01      NaN  \n",
       "...                                 ...           ...      ...  \n",
       "2767  revenue_all_forecast_change_ratio  5.927104e-01  Prophet  \n",
       "2768               revenue_all_forecast  2.688318e+08  Prophet  \n",
       "2769         revenue_all_forecast_lower  2.466960e+08  Prophet  \n",
       "2770         revenue_all_forecast_upper  2.899011e+08  Prophet  \n",
       "2771  revenue_all_forecast_change_ratio  7.837347e-02  Prophet  \n",
       "\n",
       "[49588 rows x 6 columns]"
      ]
     },
     "execution_count": 40,
     "metadata": {},
     "output_type": "execute_result"
    }
   ],
   "source": [
    "df_variables"
   ]
  },
  {
   "cell_type": "code",
   "execution_count": 44,
   "metadata": {},
   "outputs": [
    {
     "data": {
      "text/html": [
       "<div>\n",
       "<style scoped>\n",
       "    .dataframe tbody tr th:only-of-type {\n",
       "        vertical-align: middle;\n",
       "    }\n",
       "\n",
       "    .dataframe tbody tr th {\n",
       "        vertical-align: top;\n",
       "    }\n",
       "\n",
       "    .dataframe thead th {\n",
       "        text-align: right;\n",
       "    }\n",
       "</style>\n",
       "<table border=\"1\" class=\"dataframe\">\n",
       "  <thead>\n",
       "    <tr style=\"text-align: right;\">\n",
       "      <th></th>\n",
       "      <th>date</th>\n",
       "      <th>province</th>\n",
       "      <th>region</th>\n",
       "      <th>occupancy_rate</th>\n",
       "      <th>no_tourist_occupied</th>\n",
       "      <th>no_tourist_all</th>\n",
       "      <th>no_tourist_thai</th>\n",
       "      <th>no_tourist_foreign</th>\n",
       "      <th>revenue_all</th>\n",
       "      <th>revenue_thai</th>\n",
       "      <th>revenue_foreign</th>\n",
       "      <th>revenue_all_forecast</th>\n",
       "      <th>revenue_all_forecast_lower</th>\n",
       "      <th>revenue_all_forecast_upper</th>\n",
       "      <th>revenue_all_forecast_change_ratio</th>\n",
       "      <th>model</th>\n",
       "    </tr>\n",
       "  </thead>\n",
       "  <tbody>\n",
       "    <tr>\n",
       "      <th>0</th>\n",
       "      <td>2019-01-01</td>\n",
       "      <td>Bangkok Metropolis</td>\n",
       "      <td>central</td>\n",
       "      <td>0.9337</td>\n",
       "      <td>3334971.0</td>\n",
       "      <td>5959075.0</td>\n",
       "      <td>3534061.0</td>\n",
       "      <td>2425014.0</td>\n",
       "      <td>8.192649e+10</td>\n",
       "      <td>2.974258e+10</td>\n",
       "      <td>5.218391e+10</td>\n",
       "      <td>NaN</td>\n",
       "      <td>NaN</td>\n",
       "      <td>NaN</td>\n",
       "      <td>NaN</td>\n",
       "      <td>NaN</td>\n",
       "    </tr>\n",
       "    <tr>\n",
       "      <th>1</th>\n",
       "      <td>2019-01-01</td>\n",
       "      <td>Lop Buri</td>\n",
       "      <td>central</td>\n",
       "      <td>0.6132</td>\n",
       "      <td>51858.0</td>\n",
       "      <td>268664.0</td>\n",
       "      <td>266301.0</td>\n",
       "      <td>2363.0</td>\n",
       "      <td>4.572400e+08</td>\n",
       "      <td>4.518300e+08</td>\n",
       "      <td>5.410000e+06</td>\n",
       "      <td>NaN</td>\n",
       "      <td>NaN</td>\n",
       "      <td>NaN</td>\n",
       "      <td>NaN</td>\n",
       "      <td>NaN</td>\n",
       "    </tr>\n",
       "    <tr>\n",
       "      <th>2</th>\n",
       "      <td>2019-01-01</td>\n",
       "      <td>Phra Nakhon Si Ayutthaya</td>\n",
       "      <td>central</td>\n",
       "      <td>0.7337</td>\n",
       "      <td>117052.0</td>\n",
       "      <td>730329.0</td>\n",
       "      <td>561553.0</td>\n",
       "      <td>168776.0</td>\n",
       "      <td>1.438730e+09</td>\n",
       "      <td>1.054250e+09</td>\n",
       "      <td>3.844800e+08</td>\n",
       "      <td>NaN</td>\n",
       "      <td>NaN</td>\n",
       "      <td>NaN</td>\n",
       "      <td>NaN</td>\n",
       "      <td>NaN</td>\n",
       "    </tr>\n",
       "    <tr>\n",
       "      <th>3</th>\n",
       "      <td>2019-01-01</td>\n",
       "      <td>Saraburi</td>\n",
       "      <td>central</td>\n",
       "      <td>0.6733</td>\n",
       "      <td>89850.0</td>\n",
       "      <td>207236.0</td>\n",
       "      <td>201400.0</td>\n",
       "      <td>5836.0</td>\n",
       "      <td>3.477900e+08</td>\n",
       "      <td>3.361900e+08</td>\n",
       "      <td>1.160000e+07</td>\n",
       "      <td>NaN</td>\n",
       "      <td>NaN</td>\n",
       "      <td>NaN</td>\n",
       "      <td>NaN</td>\n",
       "      <td>NaN</td>\n",
       "    </tr>\n",
       "    <tr>\n",
       "      <th>4</th>\n",
       "      <td>2019-01-01</td>\n",
       "      <td>Chai Nat</td>\n",
       "      <td>central</td>\n",
       "      <td>0.7931</td>\n",
       "      <td>27141.0</td>\n",
       "      <td>79073.0</td>\n",
       "      <td>78514.0</td>\n",
       "      <td>559.0</td>\n",
       "      <td>1.017900e+08</td>\n",
       "      <td>1.009000e+08</td>\n",
       "      <td>8.900000e+05</td>\n",
       "      <td>NaN</td>\n",
       "      <td>NaN</td>\n",
       "      <td>NaN</td>\n",
       "      <td>NaN</td>\n",
       "      <td>NaN</td>\n",
       "    </tr>\n",
       "    <tr>\n",
       "      <th>...</th>\n",
       "      <td>...</td>\n",
       "      <td>...</td>\n",
       "      <td>...</td>\n",
       "      <td>...</td>\n",
       "      <td>...</td>\n",
       "      <td>...</td>\n",
       "      <td>...</td>\n",
       "      <td>...</td>\n",
       "      <td>...</td>\n",
       "      <td>...</td>\n",
       "      <td>...</td>\n",
       "      <td>...</td>\n",
       "      <td>...</td>\n",
       "      <td>...</td>\n",
       "      <td>...</td>\n",
       "      <td>...</td>\n",
       "    </tr>\n",
       "    <tr>\n",
       "      <th>919</th>\n",
       "      <td>2024-06-01</td>\n",
       "      <td>Yasothon</td>\n",
       "      <td>east_northeast</td>\n",
       "      <td>NaN</td>\n",
       "      <td>NaN</td>\n",
       "      <td>NaN</td>\n",
       "      <td>NaN</td>\n",
       "      <td>NaN</td>\n",
       "      <td>NaN</td>\n",
       "      <td>NaN</td>\n",
       "      <td>NaN</td>\n",
       "      <td>2.439746e+07</td>\n",
       "      <td>1.875801e+07</td>\n",
       "      <td>3.017744e+07</td>\n",
       "      <td>0.236909</td>\n",
       "      <td>Prophet</td>\n",
       "    </tr>\n",
       "    <tr>\n",
       "      <th>920</th>\n",
       "      <td>2024-07-01</td>\n",
       "      <td>Yasothon</td>\n",
       "      <td>east_northeast</td>\n",
       "      <td>NaN</td>\n",
       "      <td>NaN</td>\n",
       "      <td>NaN</td>\n",
       "      <td>NaN</td>\n",
       "      <td>NaN</td>\n",
       "      <td>NaN</td>\n",
       "      <td>NaN</td>\n",
       "      <td>NaN</td>\n",
       "      <td>5.998031e+07</td>\n",
       "      <td>5.473012e+07</td>\n",
       "      <td>6.559584e+07</td>\n",
       "      <td>0.093623</td>\n",
       "      <td>Prophet</td>\n",
       "    </tr>\n",
       "    <tr>\n",
       "      <th>921</th>\n",
       "      <td>2024-08-01</td>\n",
       "      <td>Yasothon</td>\n",
       "      <td>east_northeast</td>\n",
       "      <td>NaN</td>\n",
       "      <td>NaN</td>\n",
       "      <td>NaN</td>\n",
       "      <td>NaN</td>\n",
       "      <td>NaN</td>\n",
       "      <td>NaN</td>\n",
       "      <td>NaN</td>\n",
       "      <td>NaN</td>\n",
       "      <td>4.026298e+07</td>\n",
       "      <td>3.461346e+07</td>\n",
       "      <td>4.612074e+07</td>\n",
       "      <td>0.145487</td>\n",
       "      <td>Prophet</td>\n",
       "    </tr>\n",
       "    <tr>\n",
       "      <th>922</th>\n",
       "      <td>2024-09-01</td>\n",
       "      <td>Yasothon</td>\n",
       "      <td>east_northeast</td>\n",
       "      <td>NaN</td>\n",
       "      <td>NaN</td>\n",
       "      <td>NaN</td>\n",
       "      <td>NaN</td>\n",
       "      <td>NaN</td>\n",
       "      <td>NaN</td>\n",
       "      <td>NaN</td>\n",
       "      <td>NaN</td>\n",
       "      <td>2.285483e+07</td>\n",
       "      <td>1.697228e+07</td>\n",
       "      <td>2.895343e+07</td>\n",
       "      <td>0.266841</td>\n",
       "      <td>Prophet</td>\n",
       "    </tr>\n",
       "    <tr>\n",
       "      <th>923</th>\n",
       "      <td>2024-10-01</td>\n",
       "      <td>Yasothon</td>\n",
       "      <td>east_northeast</td>\n",
       "      <td>NaN</td>\n",
       "      <td>NaN</td>\n",
       "      <td>NaN</td>\n",
       "      <td>NaN</td>\n",
       "      <td>NaN</td>\n",
       "      <td>NaN</td>\n",
       "      <td>NaN</td>\n",
       "      <td>NaN</td>\n",
       "      <td>7.640516e+07</td>\n",
       "      <td>7.048277e+07</td>\n",
       "      <td>8.239466e+07</td>\n",
       "      <td>0.078391</td>\n",
       "      <td>Prophet</td>\n",
       "    </tr>\n",
       "  </tbody>\n",
       "</table>\n",
       "<p>7238 rows × 16 columns</p>\n",
       "</div>"
      ],
      "text/plain": [
       "          date                  province          region  occupancy_rate  \\\n",
       "0   2019-01-01        Bangkok Metropolis         central          0.9337   \n",
       "1   2019-01-01                  Lop Buri         central          0.6132   \n",
       "2   2019-01-01  Phra Nakhon Si Ayutthaya         central          0.7337   \n",
       "3   2019-01-01                  Saraburi         central          0.6733   \n",
       "4   2019-01-01                  Chai Nat         central          0.7931   \n",
       "..         ...                       ...             ...             ...   \n",
       "919 2024-06-01                  Yasothon  east_northeast             NaN   \n",
       "920 2024-07-01                  Yasothon  east_northeast             NaN   \n",
       "921 2024-08-01                  Yasothon  east_northeast             NaN   \n",
       "922 2024-09-01                  Yasothon  east_northeast             NaN   \n",
       "923 2024-10-01                  Yasothon  east_northeast             NaN   \n",
       "\n",
       "     no_tourist_occupied  no_tourist_all  no_tourist_thai  no_tourist_foreign  \\\n",
       "0              3334971.0       5959075.0        3534061.0           2425014.0   \n",
       "1                51858.0        268664.0         266301.0              2363.0   \n",
       "2               117052.0        730329.0         561553.0            168776.0   \n",
       "3                89850.0        207236.0         201400.0              5836.0   \n",
       "4                27141.0         79073.0          78514.0               559.0   \n",
       "..                   ...             ...              ...                 ...   \n",
       "919                  NaN             NaN              NaN                 NaN   \n",
       "920                  NaN             NaN              NaN                 NaN   \n",
       "921                  NaN             NaN              NaN                 NaN   \n",
       "922                  NaN             NaN              NaN                 NaN   \n",
       "923                  NaN             NaN              NaN                 NaN   \n",
       "\n",
       "      revenue_all  revenue_thai  revenue_foreign  revenue_all_forecast  \\\n",
       "0    8.192649e+10  2.974258e+10     5.218391e+10                   NaN   \n",
       "1    4.572400e+08  4.518300e+08     5.410000e+06                   NaN   \n",
       "2    1.438730e+09  1.054250e+09     3.844800e+08                   NaN   \n",
       "3    3.477900e+08  3.361900e+08     1.160000e+07                   NaN   \n",
       "4    1.017900e+08  1.009000e+08     8.900000e+05                   NaN   \n",
       "..            ...           ...              ...                   ...   \n",
       "919           NaN           NaN              NaN          2.439746e+07   \n",
       "920           NaN           NaN              NaN          5.998031e+07   \n",
       "921           NaN           NaN              NaN          4.026298e+07   \n",
       "922           NaN           NaN              NaN          2.285483e+07   \n",
       "923           NaN           NaN              NaN          7.640516e+07   \n",
       "\n",
       "     revenue_all_forecast_lower  revenue_all_forecast_upper  \\\n",
       "0                           NaN                         NaN   \n",
       "1                           NaN                         NaN   \n",
       "2                           NaN                         NaN   \n",
       "3                           NaN                         NaN   \n",
       "4                           NaN                         NaN   \n",
       "..                          ...                         ...   \n",
       "919                1.875801e+07                3.017744e+07   \n",
       "920                5.473012e+07                6.559584e+07   \n",
       "921                3.461346e+07                4.612074e+07   \n",
       "922                1.697228e+07                2.895343e+07   \n",
       "923                7.048277e+07                8.239466e+07   \n",
       "\n",
       "     revenue_all_forecast_change_ratio    model  \n",
       "0                                  NaN      NaN  \n",
       "1                                  NaN      NaN  \n",
       "2                                  NaN      NaN  \n",
       "3                                  NaN      NaN  \n",
       "4                                  NaN      NaN  \n",
       "..                                 ...      ...  \n",
       "919                           0.236909  Prophet  \n",
       "920                           0.093623  Prophet  \n",
       "921                           0.145487  Prophet  \n",
       "922                           0.266841  Prophet  \n",
       "923                           0.078391  Prophet  \n",
       "\n",
       "[7238 rows x 16 columns]"
      ]
     },
     "execution_count": 44,
     "metadata": {},
     "output_type": "execute_result"
    }
   ],
   "source": [
    "df"
   ]
  },
  {
   "cell_type": "markdown",
   "metadata": {},
   "source": [
    "# Output results"
   ]
  },
  {
   "cell_type": "code",
   "execution_count": 45,
   "metadata": {},
   "outputs": [],
   "source": [
    "df_variables[\"date\"] = pd.to_datetime(df_variables[\"date\"])\n",
    "df[\"date\"] = pd.to_datetime(df[\"date\"])"
   ]
  },
  {
   "cell_type": "code",
   "execution_count": 46,
   "metadata": {},
   "outputs": [
    {
     "data": {
      "text/html": [
       "<div>\n",
       "<style scoped>\n",
       "    .dataframe tbody tr th:only-of-type {\n",
       "        vertical-align: middle;\n",
       "    }\n",
       "\n",
       "    .dataframe tbody tr th {\n",
       "        vertical-align: top;\n",
       "    }\n",
       "\n",
       "    .dataframe thead th {\n",
       "        text-align: right;\n",
       "    }\n",
       "</style>\n",
       "<table border=\"1\" class=\"dataframe\">\n",
       "  <thead>\n",
       "    <tr style=\"text-align: right;\">\n",
       "      <th></th>\n",
       "      <th>date</th>\n",
       "      <th>province</th>\n",
       "      <th>region</th>\n",
       "      <th>occupancy_rate</th>\n",
       "      <th>no_tourist_occupied</th>\n",
       "      <th>no_tourist_all</th>\n",
       "      <th>no_tourist_thai</th>\n",
       "      <th>no_tourist_foreign</th>\n",
       "      <th>revenue_all</th>\n",
       "      <th>revenue_thai</th>\n",
       "      <th>revenue_foreign</th>\n",
       "      <th>revenue_all_forecast</th>\n",
       "      <th>revenue_all_forecast_lower</th>\n",
       "      <th>revenue_all_forecast_upper</th>\n",
       "      <th>revenue_all_forecast_change_ratio</th>\n",
       "      <th>model</th>\n",
       "    </tr>\n",
       "  </thead>\n",
       "  <tbody>\n",
       "    <tr>\n",
       "      <th>0</th>\n",
       "      <td>2019-01-01</td>\n",
       "      <td>Bangkok Metropolis</td>\n",
       "      <td>central</td>\n",
       "      <td>0.9337</td>\n",
       "      <td>3334971.0</td>\n",
       "      <td>5959075.0</td>\n",
       "      <td>3534061.0</td>\n",
       "      <td>2425014.0</td>\n",
       "      <td>8.192649e+10</td>\n",
       "      <td>2.974258e+10</td>\n",
       "      <td>5.218391e+10</td>\n",
       "      <td>NaN</td>\n",
       "      <td>NaN</td>\n",
       "      <td>NaN</td>\n",
       "      <td>NaN</td>\n",
       "      <td>None</td>\n",
       "    </tr>\n",
       "    <tr>\n",
       "      <th>1</th>\n",
       "      <td>2019-01-01</td>\n",
       "      <td>Lop Buri</td>\n",
       "      <td>central</td>\n",
       "      <td>0.6132</td>\n",
       "      <td>51858.0</td>\n",
       "      <td>268664.0</td>\n",
       "      <td>266301.0</td>\n",
       "      <td>2363.0</td>\n",
       "      <td>4.572400e+08</td>\n",
       "      <td>4.518300e+08</td>\n",
       "      <td>5.410000e+06</td>\n",
       "      <td>NaN</td>\n",
       "      <td>NaN</td>\n",
       "      <td>NaN</td>\n",
       "      <td>NaN</td>\n",
       "      <td>None</td>\n",
       "    </tr>\n",
       "    <tr>\n",
       "      <th>2</th>\n",
       "      <td>2019-01-01</td>\n",
       "      <td>Phra Nakhon Si Ayutthaya</td>\n",
       "      <td>central</td>\n",
       "      <td>0.7337</td>\n",
       "      <td>117052.0</td>\n",
       "      <td>730329.0</td>\n",
       "      <td>561553.0</td>\n",
       "      <td>168776.0</td>\n",
       "      <td>1.438730e+09</td>\n",
       "      <td>1.054250e+09</td>\n",
       "      <td>3.844800e+08</td>\n",
       "      <td>NaN</td>\n",
       "      <td>NaN</td>\n",
       "      <td>NaN</td>\n",
       "      <td>NaN</td>\n",
       "      <td>None</td>\n",
       "    </tr>\n",
       "    <tr>\n",
       "      <th>3</th>\n",
       "      <td>2019-01-01</td>\n",
       "      <td>Saraburi</td>\n",
       "      <td>central</td>\n",
       "      <td>0.6733</td>\n",
       "      <td>89850.0</td>\n",
       "      <td>207236.0</td>\n",
       "      <td>201400.0</td>\n",
       "      <td>5836.0</td>\n",
       "      <td>3.477900e+08</td>\n",
       "      <td>3.361900e+08</td>\n",
       "      <td>1.160000e+07</td>\n",
       "      <td>NaN</td>\n",
       "      <td>NaN</td>\n",
       "      <td>NaN</td>\n",
       "      <td>NaN</td>\n",
       "      <td>None</td>\n",
       "    </tr>\n",
       "    <tr>\n",
       "      <th>4</th>\n",
       "      <td>2019-01-01</td>\n",
       "      <td>Chai Nat</td>\n",
       "      <td>central</td>\n",
       "      <td>0.7931</td>\n",
       "      <td>27141.0</td>\n",
       "      <td>79073.0</td>\n",
       "      <td>78514.0</td>\n",
       "      <td>559.0</td>\n",
       "      <td>1.017900e+08</td>\n",
       "      <td>1.009000e+08</td>\n",
       "      <td>8.900000e+05</td>\n",
       "      <td>NaN</td>\n",
       "      <td>NaN</td>\n",
       "      <td>NaN</td>\n",
       "      <td>NaN</td>\n",
       "      <td>None</td>\n",
       "    </tr>\n",
       "    <tr>\n",
       "      <th>...</th>\n",
       "      <td>...</td>\n",
       "      <td>...</td>\n",
       "      <td>...</td>\n",
       "      <td>...</td>\n",
       "      <td>...</td>\n",
       "      <td>...</td>\n",
       "      <td>...</td>\n",
       "      <td>...</td>\n",
       "      <td>...</td>\n",
       "      <td>...</td>\n",
       "      <td>...</td>\n",
       "      <td>...</td>\n",
       "      <td>...</td>\n",
       "      <td>...</td>\n",
       "      <td>...</td>\n",
       "      <td>...</td>\n",
       "    </tr>\n",
       "    <tr>\n",
       "      <th>919</th>\n",
       "      <td>2024-06-01</td>\n",
       "      <td>Yasothon</td>\n",
       "      <td>east_northeast</td>\n",
       "      <td>NaN</td>\n",
       "      <td>NaN</td>\n",
       "      <td>NaN</td>\n",
       "      <td>NaN</td>\n",
       "      <td>NaN</td>\n",
       "      <td>NaN</td>\n",
       "      <td>NaN</td>\n",
       "      <td>NaN</td>\n",
       "      <td>2.439746e+07</td>\n",
       "      <td>1.875801e+07</td>\n",
       "      <td>3.017744e+07</td>\n",
       "      <td>0.236909</td>\n",
       "      <td>Prophet</td>\n",
       "    </tr>\n",
       "    <tr>\n",
       "      <th>920</th>\n",
       "      <td>2024-07-01</td>\n",
       "      <td>Yasothon</td>\n",
       "      <td>east_northeast</td>\n",
       "      <td>NaN</td>\n",
       "      <td>NaN</td>\n",
       "      <td>NaN</td>\n",
       "      <td>NaN</td>\n",
       "      <td>NaN</td>\n",
       "      <td>NaN</td>\n",
       "      <td>NaN</td>\n",
       "      <td>NaN</td>\n",
       "      <td>5.998031e+07</td>\n",
       "      <td>5.473012e+07</td>\n",
       "      <td>6.559584e+07</td>\n",
       "      <td>0.093623</td>\n",
       "      <td>Prophet</td>\n",
       "    </tr>\n",
       "    <tr>\n",
       "      <th>921</th>\n",
       "      <td>2024-08-01</td>\n",
       "      <td>Yasothon</td>\n",
       "      <td>east_northeast</td>\n",
       "      <td>NaN</td>\n",
       "      <td>NaN</td>\n",
       "      <td>NaN</td>\n",
       "      <td>NaN</td>\n",
       "      <td>NaN</td>\n",
       "      <td>NaN</td>\n",
       "      <td>NaN</td>\n",
       "      <td>NaN</td>\n",
       "      <td>4.026298e+07</td>\n",
       "      <td>3.461346e+07</td>\n",
       "      <td>4.612074e+07</td>\n",
       "      <td>0.145487</td>\n",
       "      <td>Prophet</td>\n",
       "    </tr>\n",
       "    <tr>\n",
       "      <th>922</th>\n",
       "      <td>2024-09-01</td>\n",
       "      <td>Yasothon</td>\n",
       "      <td>east_northeast</td>\n",
       "      <td>NaN</td>\n",
       "      <td>NaN</td>\n",
       "      <td>NaN</td>\n",
       "      <td>NaN</td>\n",
       "      <td>NaN</td>\n",
       "      <td>NaN</td>\n",
       "      <td>NaN</td>\n",
       "      <td>NaN</td>\n",
       "      <td>2.285483e+07</td>\n",
       "      <td>1.697228e+07</td>\n",
       "      <td>2.895343e+07</td>\n",
       "      <td>0.266841</td>\n",
       "      <td>Prophet</td>\n",
       "    </tr>\n",
       "    <tr>\n",
       "      <th>923</th>\n",
       "      <td>2024-10-01</td>\n",
       "      <td>Yasothon</td>\n",
       "      <td>east_northeast</td>\n",
       "      <td>NaN</td>\n",
       "      <td>NaN</td>\n",
       "      <td>NaN</td>\n",
       "      <td>NaN</td>\n",
       "      <td>NaN</td>\n",
       "      <td>NaN</td>\n",
       "      <td>NaN</td>\n",
       "      <td>NaN</td>\n",
       "      <td>7.640516e+07</td>\n",
       "      <td>7.048277e+07</td>\n",
       "      <td>8.239466e+07</td>\n",
       "      <td>0.078391</td>\n",
       "      <td>Prophet</td>\n",
       "    </tr>\n",
       "  </tbody>\n",
       "</table>\n",
       "<p>7238 rows × 16 columns</p>\n",
       "</div>"
      ],
      "text/plain": [
       "          date                  province          region  occupancy_rate  \\\n",
       "0   2019-01-01        Bangkok Metropolis         central          0.9337   \n",
       "1   2019-01-01                  Lop Buri         central          0.6132   \n",
       "2   2019-01-01  Phra Nakhon Si Ayutthaya         central          0.7337   \n",
       "3   2019-01-01                  Saraburi         central          0.6733   \n",
       "4   2019-01-01                  Chai Nat         central          0.7931   \n",
       "..         ...                       ...             ...             ...   \n",
       "919 2024-06-01                  Yasothon  east_northeast             NaN   \n",
       "920 2024-07-01                  Yasothon  east_northeast             NaN   \n",
       "921 2024-08-01                  Yasothon  east_northeast             NaN   \n",
       "922 2024-09-01                  Yasothon  east_northeast             NaN   \n",
       "923 2024-10-01                  Yasothon  east_northeast             NaN   \n",
       "\n",
       "     no_tourist_occupied  no_tourist_all  no_tourist_thai  no_tourist_foreign  \\\n",
       "0              3334971.0       5959075.0        3534061.0           2425014.0   \n",
       "1                51858.0        268664.0         266301.0              2363.0   \n",
       "2               117052.0        730329.0         561553.0            168776.0   \n",
       "3                89850.0        207236.0         201400.0              5836.0   \n",
       "4                27141.0         79073.0          78514.0               559.0   \n",
       "..                   ...             ...              ...                 ...   \n",
       "919                  NaN             NaN              NaN                 NaN   \n",
       "920                  NaN             NaN              NaN                 NaN   \n",
       "921                  NaN             NaN              NaN                 NaN   \n",
       "922                  NaN             NaN              NaN                 NaN   \n",
       "923                  NaN             NaN              NaN                 NaN   \n",
       "\n",
       "      revenue_all  revenue_thai  revenue_foreign  revenue_all_forecast  \\\n",
       "0    8.192649e+10  2.974258e+10     5.218391e+10                   NaN   \n",
       "1    4.572400e+08  4.518300e+08     5.410000e+06                   NaN   \n",
       "2    1.438730e+09  1.054250e+09     3.844800e+08                   NaN   \n",
       "3    3.477900e+08  3.361900e+08     1.160000e+07                   NaN   \n",
       "4    1.017900e+08  1.009000e+08     8.900000e+05                   NaN   \n",
       "..            ...           ...              ...                   ...   \n",
       "919           NaN           NaN              NaN          2.439746e+07   \n",
       "920           NaN           NaN              NaN          5.998031e+07   \n",
       "921           NaN           NaN              NaN          4.026298e+07   \n",
       "922           NaN           NaN              NaN          2.285483e+07   \n",
       "923           NaN           NaN              NaN          7.640516e+07   \n",
       "\n",
       "     revenue_all_forecast_lower  revenue_all_forecast_upper  \\\n",
       "0                           NaN                         NaN   \n",
       "1                           NaN                         NaN   \n",
       "2                           NaN                         NaN   \n",
       "3                           NaN                         NaN   \n",
       "4                           NaN                         NaN   \n",
       "..                          ...                         ...   \n",
       "919                1.875801e+07                3.017744e+07   \n",
       "920                5.473012e+07                6.559584e+07   \n",
       "921                3.461346e+07                4.612074e+07   \n",
       "922                1.697228e+07                2.895343e+07   \n",
       "923                7.048277e+07                8.239466e+07   \n",
       "\n",
       "     revenue_all_forecast_change_ratio    model  \n",
       "0                                  NaN     None  \n",
       "1                                  NaN     None  \n",
       "2                                  NaN     None  \n",
       "3                                  NaN     None  \n",
       "4                                  NaN     None  \n",
       "..                                 ...      ...  \n",
       "919                           0.236909  Prophet  \n",
       "920                           0.093623  Prophet  \n",
       "921                           0.145487  Prophet  \n",
       "922                           0.266841  Prophet  \n",
       "923                           0.078391  Prophet  \n",
       "\n",
       "[7238 rows x 16 columns]"
      ]
     },
     "execution_count": 46,
     "metadata": {},
     "output_type": "execute_result"
    }
   ],
   "source": [
    "df = df.where(pd.notnull(df), None)\n",
    "df"
   ]
  },
  {
   "cell_type": "code",
   "execution_count": 47,
   "metadata": {},
   "outputs": [],
   "source": [
    "df_variables.to_csv(DATA_VARIABLE_OUTPUT_PATH, index=False)"
   ]
  },
  {
   "cell_type": "code",
   "execution_count": 48,
   "metadata": {},
   "outputs": [],
   "source": [
    "df.to_csv(DATA_OUTPUT_PATH, index=False)"
   ]
  },
  {
   "cell_type": "code",
   "execution_count": 49,
   "metadata": {},
   "outputs": [
    {
     "data": {
      "text/html": [
       "<div>\n",
       "<style scoped>\n",
       "    .dataframe tbody tr th:only-of-type {\n",
       "        vertical-align: middle;\n",
       "    }\n",
       "\n",
       "    .dataframe tbody tr th {\n",
       "        vertical-align: top;\n",
       "    }\n",
       "\n",
       "    .dataframe thead th {\n",
       "        text-align: right;\n",
       "    }\n",
       "</style>\n",
       "<table border=\"1\" class=\"dataframe\">\n",
       "  <thead>\n",
       "    <tr style=\"text-align: right;\">\n",
       "      <th></th>\n",
       "      <th>date</th>\n",
       "      <th>province</th>\n",
       "      <th>region</th>\n",
       "      <th>occupancy_rate</th>\n",
       "      <th>no_tourist_occupied</th>\n",
       "      <th>no_tourist_all</th>\n",
       "      <th>no_tourist_thai</th>\n",
       "      <th>no_tourist_foreign</th>\n",
       "      <th>revenue_all</th>\n",
       "      <th>revenue_thai</th>\n",
       "      <th>revenue_foreign</th>\n",
       "      <th>revenue_all_forecast</th>\n",
       "      <th>revenue_all_forecast_lower</th>\n",
       "      <th>revenue_all_forecast_upper</th>\n",
       "      <th>revenue_all_forecast_change_ratio</th>\n",
       "      <th>model</th>\n",
       "    </tr>\n",
       "  </thead>\n",
       "  <tbody>\n",
       "    <tr>\n",
       "      <th>0</th>\n",
       "      <td>2023-11-01</td>\n",
       "      <td>Amnat Charoen</td>\n",
       "      <td>east_northeast</td>\n",
       "      <td>NaN</td>\n",
       "      <td>NaN</td>\n",
       "      <td>NaN</td>\n",
       "      <td>NaN</td>\n",
       "      <td>NaN</td>\n",
       "      <td>NaN</td>\n",
       "      <td>NaN</td>\n",
       "      <td>NaN</td>\n",
       "      <td>2.431271e+07</td>\n",
       "      <td>5.354707e+06</td>\n",
       "      <td>4.327072e+07</td>\n",
       "      <td>0.779757</td>\n",
       "      <td>SARIMAX</td>\n",
       "    </tr>\n",
       "    <tr>\n",
       "      <th>1</th>\n",
       "      <td>2023-12-01</td>\n",
       "      <td>Amnat Charoen</td>\n",
       "      <td>east_northeast</td>\n",
       "      <td>NaN</td>\n",
       "      <td>NaN</td>\n",
       "      <td>NaN</td>\n",
       "      <td>NaN</td>\n",
       "      <td>NaN</td>\n",
       "      <td>NaN</td>\n",
       "      <td>NaN</td>\n",
       "      <td>NaN</td>\n",
       "      <td>2.696422e+07</td>\n",
       "      <td>-4.640587e+04</td>\n",
       "      <td>5.397485e+07</td>\n",
       "      <td>1.001721</td>\n",
       "      <td>SARIMAX</td>\n",
       "    </tr>\n",
       "    <tr>\n",
       "      <th>2</th>\n",
       "      <td>2024-01-01</td>\n",
       "      <td>Amnat Charoen</td>\n",
       "      <td>east_northeast</td>\n",
       "      <td>NaN</td>\n",
       "      <td>NaN</td>\n",
       "      <td>NaN</td>\n",
       "      <td>NaN</td>\n",
       "      <td>NaN</td>\n",
       "      <td>NaN</td>\n",
       "      <td>NaN</td>\n",
       "      <td>NaN</td>\n",
       "      <td>2.825995e+07</td>\n",
       "      <td>-4.904838e+06</td>\n",
       "      <td>6.142474e+07</td>\n",
       "      <td>1.173561</td>\n",
       "      <td>SARIMAX</td>\n",
       "    </tr>\n",
       "    <tr>\n",
       "      <th>3</th>\n",
       "      <td>2024-02-01</td>\n",
       "      <td>Amnat Charoen</td>\n",
       "      <td>east_northeast</td>\n",
       "      <td>NaN</td>\n",
       "      <td>NaN</td>\n",
       "      <td>NaN</td>\n",
       "      <td>NaN</td>\n",
       "      <td>NaN</td>\n",
       "      <td>NaN</td>\n",
       "      <td>NaN</td>\n",
       "      <td>NaN</td>\n",
       "      <td>2.603087e+07</td>\n",
       "      <td>-1.231278e+07</td>\n",
       "      <td>6.437451e+07</td>\n",
       "      <td>1.473007</td>\n",
       "      <td>SARIMAX</td>\n",
       "    </tr>\n",
       "    <tr>\n",
       "      <th>4</th>\n",
       "      <td>2024-03-01</td>\n",
       "      <td>Amnat Charoen</td>\n",
       "      <td>east_northeast</td>\n",
       "      <td>NaN</td>\n",
       "      <td>NaN</td>\n",
       "      <td>NaN</td>\n",
       "      <td>NaN</td>\n",
       "      <td>NaN</td>\n",
       "      <td>NaN</td>\n",
       "      <td>NaN</td>\n",
       "      <td>NaN</td>\n",
       "      <td>2.347544e+07</td>\n",
       "      <td>-1.942639e+07</td>\n",
       "      <td>6.637727e+07</td>\n",
       "      <td>1.827520</td>\n",
       "      <td>SARIMAX</td>\n",
       "    </tr>\n",
       "    <tr>\n",
       "      <th>...</th>\n",
       "      <td>...</td>\n",
       "      <td>...</td>\n",
       "      <td>...</td>\n",
       "      <td>...</td>\n",
       "      <td>...</td>\n",
       "      <td>...</td>\n",
       "      <td>...</td>\n",
       "      <td>...</td>\n",
       "      <td>...</td>\n",
       "      <td>...</td>\n",
       "      <td>...</td>\n",
       "      <td>...</td>\n",
       "      <td>...</td>\n",
       "      <td>...</td>\n",
       "      <td>...</td>\n",
       "      <td>...</td>\n",
       "    </tr>\n",
       "    <tr>\n",
       "      <th>919</th>\n",
       "      <td>2024-06-01</td>\n",
       "      <td>Yasothon</td>\n",
       "      <td>east_northeast</td>\n",
       "      <td>NaN</td>\n",
       "      <td>NaN</td>\n",
       "      <td>NaN</td>\n",
       "      <td>NaN</td>\n",
       "      <td>NaN</td>\n",
       "      <td>NaN</td>\n",
       "      <td>NaN</td>\n",
       "      <td>NaN</td>\n",
       "      <td>4.591425e+07</td>\n",
       "      <td>-2.127386e+07</td>\n",
       "      <td>1.131023e+08</td>\n",
       "      <td>1.463339</td>\n",
       "      <td>SARIMAX</td>\n",
       "    </tr>\n",
       "    <tr>\n",
       "      <th>920</th>\n",
       "      <td>2024-07-01</td>\n",
       "      <td>Yasothon</td>\n",
       "      <td>east_northeast</td>\n",
       "      <td>NaN</td>\n",
       "      <td>NaN</td>\n",
       "      <td>NaN</td>\n",
       "      <td>NaN</td>\n",
       "      <td>NaN</td>\n",
       "      <td>NaN</td>\n",
       "      <td>NaN</td>\n",
       "      <td>NaN</td>\n",
       "      <td>4.345563e+07</td>\n",
       "      <td>-2.680604e+07</td>\n",
       "      <td>1.137173e+08</td>\n",
       "      <td>1.616860</td>\n",
       "      <td>SARIMAX</td>\n",
       "    </tr>\n",
       "    <tr>\n",
       "      <th>921</th>\n",
       "      <td>2024-08-01</td>\n",
       "      <td>Yasothon</td>\n",
       "      <td>east_northeast</td>\n",
       "      <td>NaN</td>\n",
       "      <td>NaN</td>\n",
       "      <td>NaN</td>\n",
       "      <td>NaN</td>\n",
       "      <td>NaN</td>\n",
       "      <td>NaN</td>\n",
       "      <td>NaN</td>\n",
       "      <td>NaN</td>\n",
       "      <td>4.372401e+07</td>\n",
       "      <td>-2.934191e+07</td>\n",
       "      <td>1.167899e+08</td>\n",
       "      <td>1.671071</td>\n",
       "      <td>SARIMAX</td>\n",
       "    </tr>\n",
       "    <tr>\n",
       "      <th>922</th>\n",
       "      <td>2024-09-01</td>\n",
       "      <td>Yasothon</td>\n",
       "      <td>east_northeast</td>\n",
       "      <td>NaN</td>\n",
       "      <td>NaN</td>\n",
       "      <td>NaN</td>\n",
       "      <td>NaN</td>\n",
       "      <td>NaN</td>\n",
       "      <td>NaN</td>\n",
       "      <td>NaN</td>\n",
       "      <td>NaN</td>\n",
       "      <td>4.336167e+07</td>\n",
       "      <td>-3.226453e+07</td>\n",
       "      <td>1.189879e+08</td>\n",
       "      <td>1.744079</td>\n",
       "      <td>SARIMAX</td>\n",
       "    </tr>\n",
       "    <tr>\n",
       "      <th>923</th>\n",
       "      <td>2024-10-01</td>\n",
       "      <td>Yasothon</td>\n",
       "      <td>east_northeast</td>\n",
       "      <td>NaN</td>\n",
       "      <td>NaN</td>\n",
       "      <td>NaN</td>\n",
       "      <td>NaN</td>\n",
       "      <td>NaN</td>\n",
       "      <td>NaN</td>\n",
       "      <td>NaN</td>\n",
       "      <td>NaN</td>\n",
       "      <td>4.381629e+07</td>\n",
       "      <td>-3.423415e+07</td>\n",
       "      <td>1.218667e+08</td>\n",
       "      <td>1.781311</td>\n",
       "      <td>SARIMAX</td>\n",
       "    </tr>\n",
       "  </tbody>\n",
       "</table>\n",
       "<p>924 rows × 16 columns</p>\n",
       "</div>"
      ],
      "text/plain": [
       "          date       province          region  occupancy_rate  \\\n",
       "0   2023-11-01  Amnat Charoen  east_northeast             NaN   \n",
       "1   2023-12-01  Amnat Charoen  east_northeast             NaN   \n",
       "2   2024-01-01  Amnat Charoen  east_northeast             NaN   \n",
       "3   2024-02-01  Amnat Charoen  east_northeast             NaN   \n",
       "4   2024-03-01  Amnat Charoen  east_northeast             NaN   \n",
       "..         ...            ...             ...             ...   \n",
       "919 2024-06-01       Yasothon  east_northeast             NaN   \n",
       "920 2024-07-01       Yasothon  east_northeast             NaN   \n",
       "921 2024-08-01       Yasothon  east_northeast             NaN   \n",
       "922 2024-09-01       Yasothon  east_northeast             NaN   \n",
       "923 2024-10-01       Yasothon  east_northeast             NaN   \n",
       "\n",
       "     no_tourist_occupied  no_tourist_all  no_tourist_thai  no_tourist_foreign  \\\n",
       "0                    NaN             NaN              NaN                 NaN   \n",
       "1                    NaN             NaN              NaN                 NaN   \n",
       "2                    NaN             NaN              NaN                 NaN   \n",
       "3                    NaN             NaN              NaN                 NaN   \n",
       "4                    NaN             NaN              NaN                 NaN   \n",
       "..                   ...             ...              ...                 ...   \n",
       "919                  NaN             NaN              NaN                 NaN   \n",
       "920                  NaN             NaN              NaN                 NaN   \n",
       "921                  NaN             NaN              NaN                 NaN   \n",
       "922                  NaN             NaN              NaN                 NaN   \n",
       "923                  NaN             NaN              NaN                 NaN   \n",
       "\n",
       "     revenue_all  revenue_thai  revenue_foreign  revenue_all_forecast  \\\n",
       "0            NaN           NaN              NaN          2.431271e+07   \n",
       "1            NaN           NaN              NaN          2.696422e+07   \n",
       "2            NaN           NaN              NaN          2.825995e+07   \n",
       "3            NaN           NaN              NaN          2.603087e+07   \n",
       "4            NaN           NaN              NaN          2.347544e+07   \n",
       "..           ...           ...              ...                   ...   \n",
       "919          NaN           NaN              NaN          4.591425e+07   \n",
       "920          NaN           NaN              NaN          4.345563e+07   \n",
       "921          NaN           NaN              NaN          4.372401e+07   \n",
       "922          NaN           NaN              NaN          4.336167e+07   \n",
       "923          NaN           NaN              NaN          4.381629e+07   \n",
       "\n",
       "     revenue_all_forecast_lower  revenue_all_forecast_upper  \\\n",
       "0                  5.354707e+06                4.327072e+07   \n",
       "1                 -4.640587e+04                5.397485e+07   \n",
       "2                 -4.904838e+06                6.142474e+07   \n",
       "3                 -1.231278e+07                6.437451e+07   \n",
       "4                 -1.942639e+07                6.637727e+07   \n",
       "..                          ...                         ...   \n",
       "919               -2.127386e+07                1.131023e+08   \n",
       "920               -2.680604e+07                1.137173e+08   \n",
       "921               -2.934191e+07                1.167899e+08   \n",
       "922               -3.226453e+07                1.189879e+08   \n",
       "923               -3.423415e+07                1.218667e+08   \n",
       "\n",
       "     revenue_all_forecast_change_ratio    model  \n",
       "0                             0.779757  SARIMAX  \n",
       "1                             1.001721  SARIMAX  \n",
       "2                             1.173561  SARIMAX  \n",
       "3                             1.473007  SARIMAX  \n",
       "4                             1.827520  SARIMAX  \n",
       "..                                 ...      ...  \n",
       "919                           1.463339  SARIMAX  \n",
       "920                           1.616860  SARIMAX  \n",
       "921                           1.671071  SARIMAX  \n",
       "922                           1.744079  SARIMAX  \n",
       "923                           1.781311  SARIMAX  \n",
       "\n",
       "[924 rows x 16 columns]"
      ]
     },
     "execution_count": 49,
     "metadata": {},
     "output_type": "execute_result"
    }
   ],
   "source": [
    "df[df[\"model\"] == \"SARIMAX\"]"
   ]
  },
  {
   "cell_type": "markdown",
   "metadata": {},
   "source": [
    "# Format Results"
   ]
  },
  {
   "cell_type": "code",
   "execution_count": 50,
   "metadata": {},
   "outputs": [],
   "source": [
    "FORECAST_DATA_INPUT = \"../data/forecast_data.csv\"\n",
    "FORECAST_VARIABLE_DATA_INPUT = \"../data/forecast_data_variable.csv\""
   ]
  },
  {
   "cell_type": "code",
   "execution_count": 51,
   "metadata": {},
   "outputs": [],
   "source": [
    "import pandas as pd \n",
    "\n",
    "forecast_data = pd.read_csv(FORECAST_DATA_INPUT)\n",
    "forecast_variable = pd.read_csv(FORECAST_VARIABLE_DATA_INPUT)"
   ]
  },
  {
   "cell_type": "code",
   "execution_count": 52,
   "metadata": {},
   "outputs": [
    {
     "data": {
      "text/html": [
       "<div>\n",
       "<style scoped>\n",
       "    .dataframe tbody tr th:only-of-type {\n",
       "        vertical-align: middle;\n",
       "    }\n",
       "\n",
       "    .dataframe tbody tr th {\n",
       "        vertical-align: top;\n",
       "    }\n",
       "\n",
       "    .dataframe thead th {\n",
       "        text-align: right;\n",
       "    }\n",
       "</style>\n",
       "<table border=\"1\" class=\"dataframe\">\n",
       "  <thead>\n",
       "    <tr style=\"text-align: right;\">\n",
       "      <th></th>\n",
       "      <th>date</th>\n",
       "      <th>province</th>\n",
       "      <th>region</th>\n",
       "      <th>occupancy_rate</th>\n",
       "      <th>no_tourist_occupied</th>\n",
       "      <th>no_tourist_all</th>\n",
       "      <th>no_tourist_thai</th>\n",
       "      <th>no_tourist_foreign</th>\n",
       "      <th>revenue_all</th>\n",
       "      <th>revenue_thai</th>\n",
       "      <th>revenue_foreign</th>\n",
       "      <th>revenue_all_forecast</th>\n",
       "      <th>revenue_all_forecast_lower</th>\n",
       "      <th>revenue_all_forecast_upper</th>\n",
       "      <th>revenue_all_forecast_change_ratio</th>\n",
       "      <th>model</th>\n",
       "    </tr>\n",
       "  </thead>\n",
       "  <tbody>\n",
       "    <tr>\n",
       "      <th>0</th>\n",
       "      <td>2019-01-01</td>\n",
       "      <td>Bangkok Metropolis</td>\n",
       "      <td>central</td>\n",
       "      <td>0.9337</td>\n",
       "      <td>3334971.0</td>\n",
       "      <td>5959075.0</td>\n",
       "      <td>3534061.0</td>\n",
       "      <td>2425014.0</td>\n",
       "      <td>8.192649e+10</td>\n",
       "      <td>2.974258e+10</td>\n",
       "      <td>5.218391e+10</td>\n",
       "      <td>NaN</td>\n",
       "      <td>NaN</td>\n",
       "      <td>NaN</td>\n",
       "      <td>NaN</td>\n",
       "      <td>NaN</td>\n",
       "    </tr>\n",
       "    <tr>\n",
       "      <th>1</th>\n",
       "      <td>2019-01-01</td>\n",
       "      <td>Lop Buri</td>\n",
       "      <td>central</td>\n",
       "      <td>0.6132</td>\n",
       "      <td>51858.0</td>\n",
       "      <td>268664.0</td>\n",
       "      <td>266301.0</td>\n",
       "      <td>2363.0</td>\n",
       "      <td>4.572400e+08</td>\n",
       "      <td>4.518300e+08</td>\n",
       "      <td>5.410000e+06</td>\n",
       "      <td>NaN</td>\n",
       "      <td>NaN</td>\n",
       "      <td>NaN</td>\n",
       "      <td>NaN</td>\n",
       "      <td>NaN</td>\n",
       "    </tr>\n",
       "    <tr>\n",
       "      <th>2</th>\n",
       "      <td>2019-01-01</td>\n",
       "      <td>Phra Nakhon Si Ayutthaya</td>\n",
       "      <td>central</td>\n",
       "      <td>0.7337</td>\n",
       "      <td>117052.0</td>\n",
       "      <td>730329.0</td>\n",
       "      <td>561553.0</td>\n",
       "      <td>168776.0</td>\n",
       "      <td>1.438730e+09</td>\n",
       "      <td>1.054250e+09</td>\n",
       "      <td>3.844800e+08</td>\n",
       "      <td>NaN</td>\n",
       "      <td>NaN</td>\n",
       "      <td>NaN</td>\n",
       "      <td>NaN</td>\n",
       "      <td>NaN</td>\n",
       "    </tr>\n",
       "    <tr>\n",
       "      <th>3</th>\n",
       "      <td>2019-01-01</td>\n",
       "      <td>Saraburi</td>\n",
       "      <td>central</td>\n",
       "      <td>0.6733</td>\n",
       "      <td>89850.0</td>\n",
       "      <td>207236.0</td>\n",
       "      <td>201400.0</td>\n",
       "      <td>5836.0</td>\n",
       "      <td>3.477900e+08</td>\n",
       "      <td>3.361900e+08</td>\n",
       "      <td>1.160000e+07</td>\n",
       "      <td>NaN</td>\n",
       "      <td>NaN</td>\n",
       "      <td>NaN</td>\n",
       "      <td>NaN</td>\n",
       "      <td>NaN</td>\n",
       "    </tr>\n",
       "    <tr>\n",
       "      <th>4</th>\n",
       "      <td>2019-01-01</td>\n",
       "      <td>Chai Nat</td>\n",
       "      <td>central</td>\n",
       "      <td>0.7931</td>\n",
       "      <td>27141.0</td>\n",
       "      <td>79073.0</td>\n",
       "      <td>78514.0</td>\n",
       "      <td>559.0</td>\n",
       "      <td>1.017900e+08</td>\n",
       "      <td>1.009000e+08</td>\n",
       "      <td>8.900000e+05</td>\n",
       "      <td>NaN</td>\n",
       "      <td>NaN</td>\n",
       "      <td>NaN</td>\n",
       "      <td>NaN</td>\n",
       "      <td>NaN</td>\n",
       "    </tr>\n",
       "    <tr>\n",
       "      <th>...</th>\n",
       "      <td>...</td>\n",
       "      <td>...</td>\n",
       "      <td>...</td>\n",
       "      <td>...</td>\n",
       "      <td>...</td>\n",
       "      <td>...</td>\n",
       "      <td>...</td>\n",
       "      <td>...</td>\n",
       "      <td>...</td>\n",
       "      <td>...</td>\n",
       "      <td>...</td>\n",
       "      <td>...</td>\n",
       "      <td>...</td>\n",
       "      <td>...</td>\n",
       "      <td>...</td>\n",
       "      <td>...</td>\n",
       "    </tr>\n",
       "    <tr>\n",
       "      <th>7233</th>\n",
       "      <td>2024-06-01</td>\n",
       "      <td>Yasothon</td>\n",
       "      <td>east_northeast</td>\n",
       "      <td>NaN</td>\n",
       "      <td>NaN</td>\n",
       "      <td>NaN</td>\n",
       "      <td>NaN</td>\n",
       "      <td>NaN</td>\n",
       "      <td>NaN</td>\n",
       "      <td>NaN</td>\n",
       "      <td>NaN</td>\n",
       "      <td>2.439746e+07</td>\n",
       "      <td>1.875801e+07</td>\n",
       "      <td>3.017744e+07</td>\n",
       "      <td>0.236909</td>\n",
       "      <td>Prophet</td>\n",
       "    </tr>\n",
       "    <tr>\n",
       "      <th>7234</th>\n",
       "      <td>2024-07-01</td>\n",
       "      <td>Yasothon</td>\n",
       "      <td>east_northeast</td>\n",
       "      <td>NaN</td>\n",
       "      <td>NaN</td>\n",
       "      <td>NaN</td>\n",
       "      <td>NaN</td>\n",
       "      <td>NaN</td>\n",
       "      <td>NaN</td>\n",
       "      <td>NaN</td>\n",
       "      <td>NaN</td>\n",
       "      <td>5.998031e+07</td>\n",
       "      <td>5.473012e+07</td>\n",
       "      <td>6.559584e+07</td>\n",
       "      <td>0.093623</td>\n",
       "      <td>Prophet</td>\n",
       "    </tr>\n",
       "    <tr>\n",
       "      <th>7235</th>\n",
       "      <td>2024-08-01</td>\n",
       "      <td>Yasothon</td>\n",
       "      <td>east_northeast</td>\n",
       "      <td>NaN</td>\n",
       "      <td>NaN</td>\n",
       "      <td>NaN</td>\n",
       "      <td>NaN</td>\n",
       "      <td>NaN</td>\n",
       "      <td>NaN</td>\n",
       "      <td>NaN</td>\n",
       "      <td>NaN</td>\n",
       "      <td>4.026298e+07</td>\n",
       "      <td>3.461346e+07</td>\n",
       "      <td>4.612074e+07</td>\n",
       "      <td>0.145487</td>\n",
       "      <td>Prophet</td>\n",
       "    </tr>\n",
       "    <tr>\n",
       "      <th>7236</th>\n",
       "      <td>2024-09-01</td>\n",
       "      <td>Yasothon</td>\n",
       "      <td>east_northeast</td>\n",
       "      <td>NaN</td>\n",
       "      <td>NaN</td>\n",
       "      <td>NaN</td>\n",
       "      <td>NaN</td>\n",
       "      <td>NaN</td>\n",
       "      <td>NaN</td>\n",
       "      <td>NaN</td>\n",
       "      <td>NaN</td>\n",
       "      <td>2.285483e+07</td>\n",
       "      <td>1.697228e+07</td>\n",
       "      <td>2.895343e+07</td>\n",
       "      <td>0.266841</td>\n",
       "      <td>Prophet</td>\n",
       "    </tr>\n",
       "    <tr>\n",
       "      <th>7237</th>\n",
       "      <td>2024-10-01</td>\n",
       "      <td>Yasothon</td>\n",
       "      <td>east_northeast</td>\n",
       "      <td>NaN</td>\n",
       "      <td>NaN</td>\n",
       "      <td>NaN</td>\n",
       "      <td>NaN</td>\n",
       "      <td>NaN</td>\n",
       "      <td>NaN</td>\n",
       "      <td>NaN</td>\n",
       "      <td>NaN</td>\n",
       "      <td>7.640516e+07</td>\n",
       "      <td>7.048277e+07</td>\n",
       "      <td>8.239466e+07</td>\n",
       "      <td>0.078391</td>\n",
       "      <td>Prophet</td>\n",
       "    </tr>\n",
       "  </tbody>\n",
       "</table>\n",
       "<p>7238 rows × 16 columns</p>\n",
       "</div>"
      ],
      "text/plain": [
       "            date                  province          region  occupancy_rate  \\\n",
       "0     2019-01-01        Bangkok Metropolis         central          0.9337   \n",
       "1     2019-01-01                  Lop Buri         central          0.6132   \n",
       "2     2019-01-01  Phra Nakhon Si Ayutthaya         central          0.7337   \n",
       "3     2019-01-01                  Saraburi         central          0.6733   \n",
       "4     2019-01-01                  Chai Nat         central          0.7931   \n",
       "...          ...                       ...             ...             ...   \n",
       "7233  2024-06-01                  Yasothon  east_northeast             NaN   \n",
       "7234  2024-07-01                  Yasothon  east_northeast             NaN   \n",
       "7235  2024-08-01                  Yasothon  east_northeast             NaN   \n",
       "7236  2024-09-01                  Yasothon  east_northeast             NaN   \n",
       "7237  2024-10-01                  Yasothon  east_northeast             NaN   \n",
       "\n",
       "      no_tourist_occupied  no_tourist_all  no_tourist_thai  \\\n",
       "0               3334971.0       5959075.0        3534061.0   \n",
       "1                 51858.0        268664.0         266301.0   \n",
       "2                117052.0        730329.0         561553.0   \n",
       "3                 89850.0        207236.0         201400.0   \n",
       "4                 27141.0         79073.0          78514.0   \n",
       "...                   ...             ...              ...   \n",
       "7233                  NaN             NaN              NaN   \n",
       "7234                  NaN             NaN              NaN   \n",
       "7235                  NaN             NaN              NaN   \n",
       "7236                  NaN             NaN              NaN   \n",
       "7237                  NaN             NaN              NaN   \n",
       "\n",
       "      no_tourist_foreign   revenue_all  revenue_thai  revenue_foreign  \\\n",
       "0              2425014.0  8.192649e+10  2.974258e+10     5.218391e+10   \n",
       "1                 2363.0  4.572400e+08  4.518300e+08     5.410000e+06   \n",
       "2               168776.0  1.438730e+09  1.054250e+09     3.844800e+08   \n",
       "3                 5836.0  3.477900e+08  3.361900e+08     1.160000e+07   \n",
       "4                  559.0  1.017900e+08  1.009000e+08     8.900000e+05   \n",
       "...                  ...           ...           ...              ...   \n",
       "7233                 NaN           NaN           NaN              NaN   \n",
       "7234                 NaN           NaN           NaN              NaN   \n",
       "7235                 NaN           NaN           NaN              NaN   \n",
       "7236                 NaN           NaN           NaN              NaN   \n",
       "7237                 NaN           NaN           NaN              NaN   \n",
       "\n",
       "      revenue_all_forecast  revenue_all_forecast_lower  \\\n",
       "0                      NaN                         NaN   \n",
       "1                      NaN                         NaN   \n",
       "2                      NaN                         NaN   \n",
       "3                      NaN                         NaN   \n",
       "4                      NaN                         NaN   \n",
       "...                    ...                         ...   \n",
       "7233          2.439746e+07                1.875801e+07   \n",
       "7234          5.998031e+07                5.473012e+07   \n",
       "7235          4.026298e+07                3.461346e+07   \n",
       "7236          2.285483e+07                1.697228e+07   \n",
       "7237          7.640516e+07                7.048277e+07   \n",
       "\n",
       "      revenue_all_forecast_upper  revenue_all_forecast_change_ratio    model  \n",
       "0                            NaN                                NaN      NaN  \n",
       "1                            NaN                                NaN      NaN  \n",
       "2                            NaN                                NaN      NaN  \n",
       "3                            NaN                                NaN      NaN  \n",
       "4                            NaN                                NaN      NaN  \n",
       "...                          ...                                ...      ...  \n",
       "7233                3.017744e+07                           0.236909  Prophet  \n",
       "7234                6.559584e+07                           0.093623  Prophet  \n",
       "7235                4.612074e+07                           0.145487  Prophet  \n",
       "7236                2.895343e+07                           0.266841  Prophet  \n",
       "7237                8.239466e+07                           0.078391  Prophet  \n",
       "\n",
       "[7238 rows x 16 columns]"
      ]
     },
     "execution_count": 52,
     "metadata": {},
     "output_type": "execute_result"
    }
   ],
   "source": [
    "forecast_data "
   ]
  },
  {
   "cell_type": "code",
   "execution_count": 53,
   "metadata": {},
   "outputs": [],
   "source": [
    "forecast_data[\"date\"] = pd.to_datetime(forecast_data[\"date\"])"
   ]
  },
  {
   "cell_type": "code",
   "execution_count": 54,
   "metadata": {},
   "outputs": [],
   "source": [
    "import datetime\n",
    "\n",
    "data_need_added = []\n",
    "model = [\"SARIMA\", \"SARIMAX\", \"Prophet\"]\n",
    "\n",
    "for index, row in forecast_data.reset_index().iterrows():\n",
    "    if row[\"date\"] == datetime.datetime(2023, 10, 1):\n",
    "        data_new = {\"date\": row[\"date\"], \n",
    "                    \"province\": row[\"province\"],\n",
    "                    \"region\": row[\"region\"],\n",
    "                    \"revenue_all_forecast\": row[\"revenue_all\"]}\n",
    "        \n",
    "        for model_sample in model:\n",
    "            data = data_new.copy()\n",
    "            data[\"model\"] = model_sample\n",
    "            data_need_added.append(data)\n",
    "        \n"
   ]
  },
  {
   "cell_type": "code",
   "execution_count": 55,
   "metadata": {},
   "outputs": [
    {
     "data": {
      "text/html": [
       "<div>\n",
       "<style scoped>\n",
       "    .dataframe tbody tr th:only-of-type {\n",
       "        vertical-align: middle;\n",
       "    }\n",
       "\n",
       "    .dataframe tbody tr th {\n",
       "        vertical-align: top;\n",
       "    }\n",
       "\n",
       "    .dataframe thead th {\n",
       "        text-align: right;\n",
       "    }\n",
       "</style>\n",
       "<table border=\"1\" class=\"dataframe\">\n",
       "  <thead>\n",
       "    <tr style=\"text-align: right;\">\n",
       "      <th></th>\n",
       "      <th>date</th>\n",
       "      <th>province</th>\n",
       "      <th>region</th>\n",
       "      <th>occupancy_rate</th>\n",
       "      <th>no_tourist_occupied</th>\n",
       "      <th>no_tourist_all</th>\n",
       "      <th>no_tourist_thai</th>\n",
       "      <th>no_tourist_foreign</th>\n",
       "      <th>revenue_all</th>\n",
       "      <th>revenue_thai</th>\n",
       "      <th>revenue_foreign</th>\n",
       "      <th>revenue_all_forecast</th>\n",
       "      <th>revenue_all_forecast_lower</th>\n",
       "      <th>revenue_all_forecast_upper</th>\n",
       "      <th>revenue_all_forecast_change_ratio</th>\n",
       "      <th>model</th>\n",
       "    </tr>\n",
       "  </thead>\n",
       "  <tbody>\n",
       "    <tr>\n",
       "      <th>0</th>\n",
       "      <td>2019-01-01</td>\n",
       "      <td>Bangkok Metropolis</td>\n",
       "      <td>central</td>\n",
       "      <td>0.9337</td>\n",
       "      <td>3334971.0</td>\n",
       "      <td>5959075.0</td>\n",
       "      <td>3534061.0</td>\n",
       "      <td>2425014.0</td>\n",
       "      <td>8.192649e+10</td>\n",
       "      <td>2.974258e+10</td>\n",
       "      <td>5.218391e+10</td>\n",
       "      <td>NaN</td>\n",
       "      <td>NaN</td>\n",
       "      <td>NaN</td>\n",
       "      <td>NaN</td>\n",
       "      <td>NaN</td>\n",
       "    </tr>\n",
       "    <tr>\n",
       "      <th>1</th>\n",
       "      <td>2019-01-01</td>\n",
       "      <td>Lop Buri</td>\n",
       "      <td>central</td>\n",
       "      <td>0.6132</td>\n",
       "      <td>51858.0</td>\n",
       "      <td>268664.0</td>\n",
       "      <td>266301.0</td>\n",
       "      <td>2363.0</td>\n",
       "      <td>4.572400e+08</td>\n",
       "      <td>4.518300e+08</td>\n",
       "      <td>5.410000e+06</td>\n",
       "      <td>NaN</td>\n",
       "      <td>NaN</td>\n",
       "      <td>NaN</td>\n",
       "      <td>NaN</td>\n",
       "      <td>NaN</td>\n",
       "    </tr>\n",
       "    <tr>\n",
       "      <th>2</th>\n",
       "      <td>2019-01-01</td>\n",
       "      <td>Phra Nakhon Si Ayutthaya</td>\n",
       "      <td>central</td>\n",
       "      <td>0.7337</td>\n",
       "      <td>117052.0</td>\n",
       "      <td>730329.0</td>\n",
       "      <td>561553.0</td>\n",
       "      <td>168776.0</td>\n",
       "      <td>1.438730e+09</td>\n",
       "      <td>1.054250e+09</td>\n",
       "      <td>3.844800e+08</td>\n",
       "      <td>NaN</td>\n",
       "      <td>NaN</td>\n",
       "      <td>NaN</td>\n",
       "      <td>NaN</td>\n",
       "      <td>NaN</td>\n",
       "    </tr>\n",
       "    <tr>\n",
       "      <th>3</th>\n",
       "      <td>2019-01-01</td>\n",
       "      <td>Saraburi</td>\n",
       "      <td>central</td>\n",
       "      <td>0.6733</td>\n",
       "      <td>89850.0</td>\n",
       "      <td>207236.0</td>\n",
       "      <td>201400.0</td>\n",
       "      <td>5836.0</td>\n",
       "      <td>3.477900e+08</td>\n",
       "      <td>3.361900e+08</td>\n",
       "      <td>1.160000e+07</td>\n",
       "      <td>NaN</td>\n",
       "      <td>NaN</td>\n",
       "      <td>NaN</td>\n",
       "      <td>NaN</td>\n",
       "      <td>NaN</td>\n",
       "    </tr>\n",
       "    <tr>\n",
       "      <th>4</th>\n",
       "      <td>2019-01-01</td>\n",
       "      <td>Chai Nat</td>\n",
       "      <td>central</td>\n",
       "      <td>0.7931</td>\n",
       "      <td>27141.0</td>\n",
       "      <td>79073.0</td>\n",
       "      <td>78514.0</td>\n",
       "      <td>559.0</td>\n",
       "      <td>1.017900e+08</td>\n",
       "      <td>1.009000e+08</td>\n",
       "      <td>8.900000e+05</td>\n",
       "      <td>NaN</td>\n",
       "      <td>NaN</td>\n",
       "      <td>NaN</td>\n",
       "      <td>NaN</td>\n",
       "      <td>NaN</td>\n",
       "    </tr>\n",
       "    <tr>\n",
       "      <th>...</th>\n",
       "      <td>...</td>\n",
       "      <td>...</td>\n",
       "      <td>...</td>\n",
       "      <td>...</td>\n",
       "      <td>...</td>\n",
       "      <td>...</td>\n",
       "      <td>...</td>\n",
       "      <td>...</td>\n",
       "      <td>...</td>\n",
       "      <td>...</td>\n",
       "      <td>...</td>\n",
       "      <td>...</td>\n",
       "      <td>...</td>\n",
       "      <td>...</td>\n",
       "      <td>...</td>\n",
       "      <td>...</td>\n",
       "    </tr>\n",
       "    <tr>\n",
       "      <th>226</th>\n",
       "      <td>2023-10-01</td>\n",
       "      <td>Amnat Charoen</td>\n",
       "      <td>east_northeast</td>\n",
       "      <td>NaN</td>\n",
       "      <td>NaN</td>\n",
       "      <td>NaN</td>\n",
       "      <td>NaN</td>\n",
       "      <td>NaN</td>\n",
       "      <td>NaN</td>\n",
       "      <td>NaN</td>\n",
       "      <td>NaN</td>\n",
       "      <td>23000000.0</td>\n",
       "      <td>NaN</td>\n",
       "      <td>NaN</td>\n",
       "      <td>NaN</td>\n",
       "      <td>SARIMAX</td>\n",
       "    </tr>\n",
       "    <tr>\n",
       "      <th>227</th>\n",
       "      <td>2023-10-01</td>\n",
       "      <td>Amnat Charoen</td>\n",
       "      <td>east_northeast</td>\n",
       "      <td>NaN</td>\n",
       "      <td>NaN</td>\n",
       "      <td>NaN</td>\n",
       "      <td>NaN</td>\n",
       "      <td>NaN</td>\n",
       "      <td>NaN</td>\n",
       "      <td>NaN</td>\n",
       "      <td>NaN</td>\n",
       "      <td>23000000.0</td>\n",
       "      <td>NaN</td>\n",
       "      <td>NaN</td>\n",
       "      <td>NaN</td>\n",
       "      <td>Prophet</td>\n",
       "    </tr>\n",
       "    <tr>\n",
       "      <th>228</th>\n",
       "      <td>2023-10-01</td>\n",
       "      <td>Ubon Ratchathani</td>\n",
       "      <td>east_northeast</td>\n",
       "      <td>NaN</td>\n",
       "      <td>NaN</td>\n",
       "      <td>NaN</td>\n",
       "      <td>NaN</td>\n",
       "      <td>NaN</td>\n",
       "      <td>NaN</td>\n",
       "      <td>NaN</td>\n",
       "      <td>NaN</td>\n",
       "      <td>421370000.0</td>\n",
       "      <td>NaN</td>\n",
       "      <td>NaN</td>\n",
       "      <td>NaN</td>\n",
       "      <td>SARIMA</td>\n",
       "    </tr>\n",
       "    <tr>\n",
       "      <th>229</th>\n",
       "      <td>2023-10-01</td>\n",
       "      <td>Ubon Ratchathani</td>\n",
       "      <td>east_northeast</td>\n",
       "      <td>NaN</td>\n",
       "      <td>NaN</td>\n",
       "      <td>NaN</td>\n",
       "      <td>NaN</td>\n",
       "      <td>NaN</td>\n",
       "      <td>NaN</td>\n",
       "      <td>NaN</td>\n",
       "      <td>NaN</td>\n",
       "      <td>421370000.0</td>\n",
       "      <td>NaN</td>\n",
       "      <td>NaN</td>\n",
       "      <td>NaN</td>\n",
       "      <td>SARIMAX</td>\n",
       "    </tr>\n",
       "    <tr>\n",
       "      <th>230</th>\n",
       "      <td>2023-10-01</td>\n",
       "      <td>Ubon Ratchathani</td>\n",
       "      <td>east_northeast</td>\n",
       "      <td>NaN</td>\n",
       "      <td>NaN</td>\n",
       "      <td>NaN</td>\n",
       "      <td>NaN</td>\n",
       "      <td>NaN</td>\n",
       "      <td>NaN</td>\n",
       "      <td>NaN</td>\n",
       "      <td>NaN</td>\n",
       "      <td>421370000.0</td>\n",
       "      <td>NaN</td>\n",
       "      <td>NaN</td>\n",
       "      <td>NaN</td>\n",
       "      <td>Prophet</td>\n",
       "    </tr>\n",
       "  </tbody>\n",
       "</table>\n",
       "<p>7469 rows × 16 columns</p>\n",
       "</div>"
      ],
      "text/plain": [
       "          date                  province          region  occupancy_rate  \\\n",
       "0   2019-01-01        Bangkok Metropolis         central          0.9337   \n",
       "1   2019-01-01                  Lop Buri         central          0.6132   \n",
       "2   2019-01-01  Phra Nakhon Si Ayutthaya         central          0.7337   \n",
       "3   2019-01-01                  Saraburi         central          0.6733   \n",
       "4   2019-01-01                  Chai Nat         central          0.7931   \n",
       "..         ...                       ...             ...             ...   \n",
       "226 2023-10-01             Amnat Charoen  east_northeast             NaN   \n",
       "227 2023-10-01             Amnat Charoen  east_northeast             NaN   \n",
       "228 2023-10-01          Ubon Ratchathani  east_northeast             NaN   \n",
       "229 2023-10-01          Ubon Ratchathani  east_northeast             NaN   \n",
       "230 2023-10-01          Ubon Ratchathani  east_northeast             NaN   \n",
       "\n",
       "     no_tourist_occupied  no_tourist_all  no_tourist_thai  no_tourist_foreign  \\\n",
       "0              3334971.0       5959075.0        3534061.0           2425014.0   \n",
       "1                51858.0        268664.0         266301.0              2363.0   \n",
       "2               117052.0        730329.0         561553.0            168776.0   \n",
       "3                89850.0        207236.0         201400.0              5836.0   \n",
       "4                27141.0         79073.0          78514.0               559.0   \n",
       "..                   ...             ...              ...                 ...   \n",
       "226                  NaN             NaN              NaN                 NaN   \n",
       "227                  NaN             NaN              NaN                 NaN   \n",
       "228                  NaN             NaN              NaN                 NaN   \n",
       "229                  NaN             NaN              NaN                 NaN   \n",
       "230                  NaN             NaN              NaN                 NaN   \n",
       "\n",
       "      revenue_all  revenue_thai  revenue_foreign  revenue_all_forecast  \\\n",
       "0    8.192649e+10  2.974258e+10     5.218391e+10                   NaN   \n",
       "1    4.572400e+08  4.518300e+08     5.410000e+06                   NaN   \n",
       "2    1.438730e+09  1.054250e+09     3.844800e+08                   NaN   \n",
       "3    3.477900e+08  3.361900e+08     1.160000e+07                   NaN   \n",
       "4    1.017900e+08  1.009000e+08     8.900000e+05                   NaN   \n",
       "..            ...           ...              ...                   ...   \n",
       "226           NaN           NaN              NaN            23000000.0   \n",
       "227           NaN           NaN              NaN            23000000.0   \n",
       "228           NaN           NaN              NaN           421370000.0   \n",
       "229           NaN           NaN              NaN           421370000.0   \n",
       "230           NaN           NaN              NaN           421370000.0   \n",
       "\n",
       "     revenue_all_forecast_lower  revenue_all_forecast_upper  \\\n",
       "0                           NaN                         NaN   \n",
       "1                           NaN                         NaN   \n",
       "2                           NaN                         NaN   \n",
       "3                           NaN                         NaN   \n",
       "4                           NaN                         NaN   \n",
       "..                          ...                         ...   \n",
       "226                         NaN                         NaN   \n",
       "227                         NaN                         NaN   \n",
       "228                         NaN                         NaN   \n",
       "229                         NaN                         NaN   \n",
       "230                         NaN                         NaN   \n",
       "\n",
       "     revenue_all_forecast_change_ratio    model  \n",
       "0                                  NaN      NaN  \n",
       "1                                  NaN      NaN  \n",
       "2                                  NaN      NaN  \n",
       "3                                  NaN      NaN  \n",
       "4                                  NaN      NaN  \n",
       "..                                 ...      ...  \n",
       "226                                NaN  SARIMAX  \n",
       "227                                NaN  Prophet  \n",
       "228                                NaN   SARIMA  \n",
       "229                                NaN  SARIMAX  \n",
       "230                                NaN  Prophet  \n",
       "\n",
       "[7469 rows x 16 columns]"
      ]
     },
     "execution_count": 55,
     "metadata": {},
     "output_type": "execute_result"
    }
   ],
   "source": [
    "forecast_data_result = pd.concat([forecast_data, pd.DataFrame(data_need_added)])\n",
    "forecast_data_result"
   ]
  },
  {
   "cell_type": "code",
   "execution_count": 9,
   "metadata": {},
   "outputs": [],
   "source": [
    "forecast_data_result.to_csv(FORECAST_DATA_INPUT)"
   ]
  },
  {
   "cell_type": "code",
   "execution_count": null,
   "metadata": {},
   "outputs": [],
   "source": []
  }
 ],
 "metadata": {
  "kernelspec": {
   "display_name": "common-env",
   "language": "python",
   "name": "python3"
  },
  "language_info": {
   "codemirror_mode": {
    "name": "ipython",
    "version": 3
   },
   "file_extension": ".py",
   "mimetype": "text/x-python",
   "name": "python",
   "nbconvert_exporter": "python",
   "pygments_lexer": "ipython3",
   "version": "3.10.8"
  }
 },
 "nbformat": 4,
 "nbformat_minor": 2
}
